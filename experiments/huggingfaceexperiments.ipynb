{
  "nbformat": 4,
  "nbformat_minor": 0,
  "metadata": {
    "colab": {
      "name": "huggingfaceexperiments.ipynb",
      "provenance": [],
      "authorship_tag": "ABX9TyMdfH2tvUeroS7POKTvcfq0",
      "include_colab_link": true
    },
    "kernelspec": {
      "name": "python3",
      "display_name": "Python 3"
    },
    "language_info": {
      "name": "python"
    }
  },
  "cells": [
    {
      "cell_type": "markdown",
      "metadata": {
        "id": "view-in-github",
        "colab_type": "text"
      },
      "source": [
        "<a href=\"https://colab.research.google.com/github/jaggukaka/TTS/blob/main/experiments/huggingfaceexperiments.ipynb\" target=\"_parent\"><img src=\"https://colab.research.google.com/assets/colab-badge.svg\" alt=\"Open In Colab\"/></a>"
      ]
    },
    {
      "cell_type": "code",
      "source": [
        "! pip install transformers"
      ],
      "metadata": {
        "id": "8doQEAyrQ1vI"
      },
      "execution_count": null,
      "outputs": []
    },
    {
      "cell_type": "code",
      "execution_count": null,
      "metadata": {
        "id": "T2Da7IpSQxL_"
      },
      "outputs": [],
      "source": [
        "from fairseq.checkpoint_utils import load_model_ensemble_and_task_from_hf_hub\n",
        "from fairseq.models.text_to_speech.hub_interface import S2THubInterface\n",
        "from fairseq.models.text_to_speech.hub_interface import TTSHubInterface\n",
        "import IPython.display as ipd\n",
        "import torchaudio\n",
        "\n",
        "\n",
        "models, cfg, task = load_model_ensemble_and_task_from_hf_hub(\n",
        "    \"facebook/xm_transformer_600m-es_en-multi_domain\",\n",
        "    arg_overrides={\"config_yaml\": \"config.yaml\"},\n",
        ")\n",
        "model = models[0]\n",
        "generator = task.build_generator(model, cfg)\n",
        "\n",
        "\n",
        "# requires 16000Hz mono channel audio\n",
        "audio, _ = torchaudio.load(\"/path/to/an/audio/file\")\n",
        "\n",
        "sample = S2THubInterface.get_model_input(task, audio)\n",
        "text = S2THubInterface.get_prediction(task, model, generator, sample)\n",
        "\n",
        "# speech synthesis\n",
        "tts_models, tts_cfg, tts_task = load_model_ensemble_and_task_from_hf_hub(\n",
        "  f\"facebook/fastspeech2-en-ljspeech\",\n",
        "  arg_overrides={\"vocoder\": \"griffin_lim\", \"fp16\": False},\n",
        ")\n",
        "tts_model = tts_models[0]\n",
        "TTSHubInterface.update_cfg_with_data_cfg(tts_cfg, tts_task.data_cfg)\n",
        "tts_generator = tts_task.build_generator([tts_model], tts_cfg)\n",
        "\n",
        "tts_sample = TTSHubInterface.get_model_input(tts_task, text)\n",
        "wav, sr = TTSHubInterface.get_prediction(\n",
        "    tts_task, tts_model, tts_generator, tts_sample\n",
        ")\n",
        "\n",
        "ipd.Audio(wav, rate=rate)"
      ]
    },
    {
      "cell_type": "code",
      "source": [
        ""
      ],
      "metadata": {
        "id": "aABnTx2OQ0-U"
      },
      "execution_count": null,
      "outputs": []
    }
  ]
}