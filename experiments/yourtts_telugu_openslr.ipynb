{
  "nbformat": 4,
  "nbformat_minor": 0,
  "metadata": {
    "colab": {
      "name": "Untitled0.ipynb",
      "provenance": [],
      "mount_file_id": "https://github.com/jaggukaka/TTS/blob/main/experiments/yourtts_telugu_openslr.ipynb",
      "authorship_tag": "ABX9TyOPyKNRDoOwiMmFwz4tWhMW",
      "include_colab_link": true
    },
    "kernelspec": {
      "name": "python3",
      "display_name": "Python 3"
    },
    "language_info": {
      "name": "python"
    }
  },
  "cells": [
    {
      "cell_type": "markdown",
      "metadata": {
        "id": "view-in-github",
        "colab_type": "text"
      },
      "source": [
        "<a href=\"https://colab.research.google.com/github/jaggukaka/TTS/blob/main/experiments/yourtts_telugu_openslr.ipynb\" target=\"_parent\"><img src=\"https://colab.research.google.com/assets/colab-badge.svg\" alt=\"Open In Colab\"/></a>"
      ]
    },
    {
      "cell_type": "code",
      "execution_count": 1,
      "metadata": {
        "id": "P5ofVJ5boXnm",
        "outputId": "d20bb758-4c8f-463a-eaa4-306da94ee892",
        "colab": {
          "base_uri": "https://localhost:8080/"
        }
      },
      "outputs": [
        {
          "output_type": "stream",
          "name": "stdout",
          "text": [
            "Cloning into 'TTS'...\n",
            "remote: Enumerating objects: 23464, done.\u001b[K\n",
            "remote: Counting objects: 100% (4101/4101), done.\u001b[K\n",
            "remote: Compressing objects: 100% (1299/1299), done.\u001b[K\n",
            "remote: Total 23464 (delta 2954), reused 3640 (delta 2723), pack-reused 19363\u001b[K\n",
            "Receiving objects: 100% (23464/23464), 139.31 MiB | 27.35 MiB/s, done.\n",
            "Resolving deltas: 100% (16946/16946), done.\n"
          ]
        }
      ],
      "source": [
        "!git clone https://github.com/jaggukaka/TTS"
      ]
    },
    {
      "cell_type": "code",
      "source": [
        "import torch\n",
        "\n",
        "print (torch.cuda.is_available, torch.cuda.)"
      ],
      "metadata": {
        "id": "nUPxzaFdsW9t",
        "outputId": "4d6a4615-8bad-4849-8768-d944d072498d",
        "colab": {
          "base_uri": "https://localhost:8080/"
        }
      },
      "execution_count": 2,
      "outputs": [
        {
          "output_type": "stream",
          "name": "stdout",
          "text": [
            "<module 'torch.cuda' from '/usr/local/lib/python3.7/dist-packages/torch/cuda/__init__.py'>\n"
          ]
        }
      ]
    }
  ]
}