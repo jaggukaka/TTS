{
 "cells": [
  {
   "cell_type": "code",
   "execution_count": 6,
   "metadata": {
    "Collapsed": "false"
   },
   "outputs": [],
   "source": [
    "TTS_PATH = \"/home/arya/Documents/jaggukaka/TTS/TTS\""
   ]
  },
  {
   "cell_type": "code",
   "execution_count": 2,
   "metadata": {
    "Collapsed": "false"
   },
   "outputs": [],
   "source": [
    "import os\n",
    "import sys\n",
    "sys.path.append(TTS_PATH) # set this if TTS is not installed globally\n",
    "import librosa\n",
    "import numpy as np\n",
    "import pandas as pd\n",
    "from scipy.stats import norm\n",
    "from tqdm import tqdm_notebook as tqdm\n",
    "from multiprocessing import Pool\n",
    "from matplotlib import pylab as plt\n",
    "from collections import Counter\n",
    "from TTS.tts.datasets.formatters import *\n",
    "%matplotlib inline"
   ]
  },
  {
   "cell_type": "code",
   "execution_count": 7,
   "metadata": {
    "Collapsed": "false"
   },
   "outputs": [],
   "source": [
    "DATA_PATH = \"/home/arya/Documents/jaggukaka/TTS/datasets/resampled_telugu_openslr\"\n",
    "META_DATA = [\"te_in_female.tsv\",\n",
    "            \"te_in_male.tsv\"]\n",
    "NUM_PROC = 8"
   ]
  },
  {
   "cell_type": "code",
   "execution_count": 8,
   "metadata": {
    "Collapsed": "false"
   },
   "outputs": [
    {
     "name": "stdout",
     "output_type": "stream",
     "text": [
      "openslr_in - meta_files:  ['te_in_female.tsv', 'te_in_male.tsv']\n",
      " > Number of audio files: 4448\n"
     ]
    }
   ],
   "source": [
    "# use your own preprocessor at this stage - TTS/datasets/proprocess.py\n",
    "items = openslr_in(DATA_PATH, META_DATA)\n",
    "print(\" > Number of audio files: {}\".format(len(items)))"
   ]
  },
  {
   "cell_type": "code",
   "execution_count": 9,
   "metadata": {
    "Collapsed": "false"
   },
   "outputs": [],
   "source": [
    "# check wavs if exist\n",
    "wav_files = []\n",
    "for item in items:\n",
    "    wav_file = item[1].strip()\n",
    "    wav_files.append(wav_file)\n",
    "    if not os.path.exists(wav_file):\n",
    "        print(waf_path)"
   ]
  },
  {
   "cell_type": "code",
   "execution_count": 10,
   "metadata": {
    "Collapsed": "false"
   },
   "outputs": [
    {
     "name": "stdout",
     "output_type": "stream",
     "text": [
      "[]\n"
     ]
    }
   ],
   "source": [
    "# show duplicate items\n",
    "c = Counter(wav_files)\n",
    "print([item for item, count in c.items() if count > 1])"
   ]
  },
  {
   "cell_type": "code",
   "execution_count": 11,
   "metadata": {
    "Collapsed": "false"
   },
   "outputs": [
    {
     "name": "stderr",
     "output_type": "stream",
     "text": [
      "100%|██████████| 4448/4448 [00:07<00:00, 574.66it/s]\n"
     ]
    }
   ],
   "source": [
    "def load_item(item):\n",
    "    file_name = item[1].strip()\n",
    "    text = item[0].strip()\n",
    "    audio = librosa.load(file_name, sr=None)\n",
    "    sr = audio[1]\n",
    "    audio = audio[0]\n",
    "    audio_len = len(audio) / sr\n",
    "    text_len = len(text)\n",
    "    return file_name, text, text_len, audio, audio_len\n",
    "\n",
    "# This will take a while depending on size of dataset\n",
    "if NUM_PROC == 1:\n",
    "    data = []\n",
    "    for m in tqdm(items):\n",
    "        data += [load_item(m)]\n",
    "else:\n",
    "    with Pool(8) as p:\n",
    "        data = list(tqdm(p.imap(load_item, items), total=len(items)))"
   ]
  },
  {
   "cell_type": "code",
   "execution_count": 12,
   "metadata": {
    "Collapsed": "false"
   },
   "outputs": [
    {
     "name": "stderr",
     "output_type": "stream",
     "text": [
      "100%|██████████| 4448/4448 [00:00<00:00, 384784.25it/s]"
     ]
    },
    {
     "name": "stdout",
     "output_type": "stream",
     "text": [
      " > Number of words: 6051\n"
     ]
    },
    {
     "name": "stderr",
     "output_type": "stream",
     "text": [
      "\n"
     ]
    }
   ],
   "source": [
    "# count words in the dataset\n",
    "w_count = Counter()\n",
    "for item in tqdm(data):\n",
    "    text = item[1].lower().strip()\n",
    "    for word in text.split():\n",
    "        w_count[word] += 1\n",
    "print(\" > Number of words: {}\".format(len(w_count)))"
   ]
  },
  {
   "cell_type": "code",
   "execution_count": 60,
   "metadata": {
    "Collapsed": "false"
   },
   "outputs": [
    {
     "name": "stderr",
     "output_type": "stream",
     "text": [
      "100%|██████████| 4448/4448 [00:00<00:00, 898967.10it/s]\n"
     ]
    }
   ],
   "source": [
    "text_vs_durs = {}  # text length vs audio duration\n",
    "text_len_counter = Counter()  # number of sentences with the keyed length\n",
    "dur_to_file = {}  # audio duration vs file name\n",
    "for item in tqdm(data):\n",
    "    text = item[1].lower().strip()\n",
    "    text_len = len(text)\n",
    "    text_len_counter[text_len] += 1\n",
    "    audio_len = item[-1]\n",
    "    try:\n",
    "        text_vs_durs[text_len] += [audio_len]\n",
    "        dur_to_file[text_len] += [item[0]]\n",
    "    except:\n",
    "        text_vs_durs[text_len] = [audio_len]\n",
    "        dur_to_file[text_len] = [item[0]]"
   ]
  },
  {
   "cell_type": "code",
   "execution_count": 50,
   "metadata": {
    "Collapsed": "false"
   },
   "outputs": [],
   "source": [
    "# text_len vs avg_audio_len, median_audio_len, std_audio_len\n",
    "text_vs_avg = {}\n",
    "text_vs_median = {}\n",
    "text_vs_std = {}\n",
    "for key, durs in text_vs_durs.items():\n",
    "    text_vs_avg[key] = np.mean(durs)\n",
    "    text_vs_median[key] = np.median(durs)\n",
    "    text_vs_std[key] = np.std(durs)"
   ]
  },
  {
   "cell_type": "markdown",
   "metadata": {
    "Collapsed": "false"
   },
   "source": [
    "### Avg audio length per char"
   ]
  },
  {
   "cell_type": "code",
   "execution_count": 51,
   "metadata": {},
   "outputs": [
    {
     "name": "stdout",
     "output_type": "stream",
     "text": [
      "[(53, 6.378687074829933), (37, 4.6546396770090155), (31, 4.5482868480725624), (38, 4.971805704738035), (30, 4.100083144368858)]\n"
     ]
    }
   ],
   "source": [
    "print (list(text_vs_avg.items())[:5])"
   ]
  },
  {
   "cell_type": "code",
   "execution_count": 52,
   "metadata": {
    "Collapsed": "false"
   },
   "outputs": [
    {
     "name": "stdout",
     "output_type": "stream",
     "text": [
      "('/home/arya/Documents/jaggukaka/TTS/datasets/resampled_telugu_openslr/te_in_female/tef_06625_01487098156.wav', 'చదవక తప్పదన్న మాట', 17, array([ 0.        ,  0.        ,  0.        , ..., -0.00045776,\n",
      "       -0.00067139,  0.        ], dtype=float32), 1.9626757369614511)\n",
      "('/home/arya/Documents/jaggukaka/TTS/datasets/resampled_telugu_openslr/te_in_female/tef_06625_02022822442.wav', 'ఇవి సునామీలు కావు', 17, array([ 0.0000000e+00, -3.0517578e-05,  0.0000000e+00, ...,\n",
      "        6.1035156e-05,  3.0517578e-05,  0.0000000e+00], dtype=float32), 1.9626757369614511)\n",
      "('/home/arya/Documents/jaggukaka/TTS/datasets/resampled_telugu_openslr/te_in_female/tef_07789_00619287256.wav', 'ఆంస్ట్రాంగ్ అండ్', 16, array([ 3.0517578e-05,  1.2207031e-04,  1.2207031e-04, ...,\n",
      "       -2.4414062e-04, -2.7465820e-04,  0.0000000e+00], dtype=float32), 1.8773696145124716)\n",
      "('/home/arya/Documents/jaggukaka/TTS/datasets/resampled_telugu_openslr/te_in_female/tef_04830_00914011632.wav', 'జనం నోళ్లలో నానలేదు', 19, array([ 0.0000000e+00, -3.0517578e-05,  0.0000000e+00, ...,\n",
      "       -1.3732910e-03, -1.9226074e-03,  0.0000000e+00], dtype=float32), 1.8773696145124716)\n",
      "('/home/arya/Documents/jaggukaka/TTS/datasets/resampled_telugu_openslr/te_in_female/tef_08318_01416996800.wav', 'వారికి ముగ్గురు పిల్లలు', 23, array([ 3.0517578e-05,  3.0517578e-05,  3.0517578e-05, ...,\n",
      "        3.6621094e-04, -3.3569336e-04, -3.0517578e-04], dtype=float32), 1.7066666666666668)\n",
      "('/home/arya/Documents/jaggukaka/TTS/datasets/resampled_telugu_openslr/te_in_female/tef_06625_01257684034.wav', 'కాని అది నిజము', 14, array([ 0.0000000e+00, -3.0517578e-05,  0.0000000e+00, ...,\n",
      "        0.0000000e+00,  2.4414062e-04,  0.0000000e+00], dtype=float32), 1.8773696145124716)\n",
      "('/home/arya/Documents/jaggukaka/TTS/datasets/resampled_telugu_openslr/te_in_female/tef_07789_00455462931.wav', 'విషమ రేఖ పత్రము', 15, array([-1.2207031e-04, -2.1362305e-04, -2.7465820e-04, ...,\n",
      "       -9.1552734e-05, -1.8310547e-04,  0.0000000e+00], dtype=float32), 1.8773696145124716)\n",
      "('/home/arya/Documents/jaggukaka/TTS/datasets/resampled_telugu_openslr/te_in_female/tef_09935_00003426651.wav', ', అప్పుడు', 9, array([0.0000000e+00, 6.1035156e-05, 3.0517578e-05, ..., 0.0000000e+00,\n",
      "       3.0517578e-05, 0.0000000e+00], dtype=float32), 1.9626757369614511)\n",
      "('/home/arya/Documents/jaggukaka/TTS/datasets/resampled_telugu_openslr/te_in_female/tef_04261_01715351697.wav', 'అదే శిల్ప విశేషము', 17, array([-9.1552734e-05, -9.1552734e-05,  0.0000000e+00, ...,\n",
      "       -3.0517578e-05, -9.1552734e-05,  0.0000000e+00], dtype=float32), 1.9626757369614511)\n",
      "('/home/arya/Documents/jaggukaka/TTS/datasets/resampled_telugu_openslr/te_in_female/tef_08318_00422821375.wav', 'పోతు వెదురు', 11, array([ 2.1362305e-04,  3.0517578e-04,  2.7465820e-04, ...,\n",
      "        0.0000000e+00, -3.0517578e-05,  0.0000000e+00], dtype=float32), 1.7066666666666668)\n",
      "('/home/arya/Documents/jaggukaka/TTS/datasets/resampled_telugu_openslr/te_in_female/tef_07789_00082298336.wav', 'ఇది ఏక శిలా పర్వతము', 19, array([ 0.0000000e+00,  3.0517578e-05,  3.0517578e-05, ...,\n",
      "       -3.9672852e-04, -3.0517578e-04,  0.0000000e+00], dtype=float32), 1.8773696145124716)\n",
      "('/home/arya/Documents/jaggukaka/TTS/datasets/resampled_telugu_openslr/te_in_female/tef_06625_01249575186.wav', 'అతని రెండవ ఆల్బం', 16, array([ 0.0000000e+00, -3.0517578e-05,  0.0000000e+00, ...,\n",
      "       -1.2207031e-04, -1.2207031e-04,  0.0000000e+00], dtype=float32), 1.7920181405895692)\n",
      "('/home/arya/Documents/jaggukaka/TTS/datasets/resampled_telugu_openslr/te_in_female/tef_08318_01839195035.wav', 'వారి పోకడ వేరు', 14, array([ 0.0000000e+00, -3.0517578e-05,  0.0000000e+00, ...,\n",
      "       -1.1596680e-03, -6.7138672e-04, -9.1552734e-04], dtype=float32), 1.7066666666666668)\n",
      "('/home/arya/Documents/jaggukaka/TTS/datasets/resampled_telugu_openslr/te_in_male/tem_08680_00228784228.wav', 'ది ద్యబ్బుక్', 12, array([9.1552734e-05, 9.1552734e-05, 1.2207031e-04, ..., 3.0517578e-04,\n",
      "       2.7465820e-04, 0.0000000e+00], dtype=float32), 1.9626757369614511)\n",
      "('/home/arya/Documents/jaggukaka/TTS/datasets/resampled_telugu_openslr/te_in_male/tem_08680_00268427370.wav', 'ఇదంతా చెలం గొడవ\\\\n', 17, array([ 0.0000000e+00, -3.0517578e-05, -9.1552734e-05, ...,\n",
      "       -1.5258789e-04, -2.7465820e-04,  0.0000000e+00], dtype=float32), 1.9626757369614511)\n",
      "('/home/arya/Documents/jaggukaka/TTS/datasets/resampled_telugu_openslr/te_in_male/tem_08680_00644606480.wav', 'ఆ సినిమా బాగా ఆడలేదు\\\\n', 22, array([0.        , 0.        , 0.00015259, ..., 0.00125122, 0.00119019,\n",
      "       0.        ], dtype=float32), 1.8773696145124716)\n",
      "('/home/arya/Documents/jaggukaka/TTS/datasets/resampled_telugu_openslr/te_in_male/tem_08680_00352731028.wav', 'అన్ని వసతులు గలవు\\\\n', 19, array([ 6.1035156e-05,  1.5258789e-04,  1.2207031e-04, ...,\n",
      "       -1.8310547e-04, -2.4414062e-04,  0.0000000e+00], dtype=float32), 1.8773696145124716)\n"
     ]
    }
   ],
   "source": [
    "for item in data:\n",
    "    if item[-1] < 2:\n",
    "        print(item)"
   ]
  },
  {
   "cell_type": "code",
   "execution_count": 53,
   "metadata": {
    "Collapsed": "false"
   },
   "outputs": [
    {
     "name": "stdout",
     "output_type": "stream",
     "text": [
      "\\u0c08\\u0c35\\u0c3f\\u0c3e\\u0c26\\u0c02\\u0c38\\u0c46\\u0c2a\\u0c4d\\u0c1f\\u0c2c\\u0c30\\u0c21\\u0c41\\u0c47\\u0c32\\u0c24\\u0c4a\\u0c2e\\u0c28\\u0c37\\u0c15\\u0c48\\u0c12\\u0c2f\\u0c25\\u0c20\\u0c36\\u0c09\\u0c1a\\u0c17\\u0c33\\u0c39\\u0c4b\\u0c42\\u0c40\\u0c05\\u0c1c\\u0c2b\\\\\\u0c4c\\u0c06\\u0c23\\u0c27\\u0c0f\\u0c07\\u0c18\\u0c16\\u0c0e\\u0c2d\\u200c\\u0c13\\u0c43\\u0c22\\u0c0a\\u0c10\\u0c1b\\u0c03\\u0c1e\\u0c0b\\u0c14\\u0c31/\\u0c19\\u0c01\n",
      "\n",
      "ఈ వివాదం సెప్టెంబర్ రెండు వేల తొమ్మిదిన పరిష్కారమైనది\n",
      "\\u0c08 \\u0c35\\u0c3f\\u0c35\\u0c3e\\u0c26\\u0c02 \\u0c38\\u0c46\\u0c2a\\u0c4d\\u0c1f\\u0c46\\u0c02\\u0c2c\\u0c30\\u0c4d \\u0c30\\u0c46\\u0c02\\u0c21\\u0c41 \\u0c35\\u0c47\\u0c32 \\u0c24\\u0c4a\\u0c2e\\u0c4d\\u0c2e\\u0c3f\\u0c26\\u0c3f\\u0c28 \\u0c2a\\u0c30\\u0c3f\\u0c37\\u0c4d\\u0c15\\u0c3e\\u0c30\\u0c2e\\u0c48\\u0c28\\u0c26\\u0c3f\n"
     ]
    }
   ],
   "source": [
    "sec_per_chars = []\n",
    "unique_chars = {}\n",
    "len_texts = []\n",
    "for item in data:\n",
    "    text = item[1]\n",
    "    dur = item[-1]\n",
    "    sec_per_char = dur / len(text)\n",
    "    sec_per_chars.append(sec_per_char)\n",
    "    filtered_sentence = list(filter(lambda x : x != ' ', text))\n",
    "    for i, k in enumerate(filtered_sentence):\n",
    "        try:\n",
    "            unique_chars[k] += 1\n",
    "        except:\n",
    "            unique_chars[k] = 1\n",
    "    len_texts.append(len(text))\n",
    "# sec_per_char /= len(data)\n",
    "# print(sec_per_char)\n",
    "filter_chars = {\"pad\": \"_\",\n",
    "\"eos\": \"&\",\n",
    "\"bos\": \"*\",\n",
    "\"characters\": \"!¡'(),-.:;¿?abcdefghijklmnopqrstuvwxyzµßàáâäåæçèéêëìíîïñòóôöùúûüąćęłńœśşźżƒабвгдежзийклмнопрстуфхцчшщъыьэюяёєіїґӧ «°±µ»$%&‘’‚“`”„\",\n",
    "\"punctuations\": \"!¡'(),-.:;¿? \"}\n",
    "special_unique_chars = {}\n",
    "for k,v in unique_chars.items():\n",
    "    k = k.lower()\n",
    "    knotinj = True\n",
    "    for i, j in filter_chars.items():\n",
    "        knotinj = knotinj and k not in j\n",
    "    if knotinj:\n",
    "        special_unique_chars[str(k).encode('unicode_escape').decode('utf-8')] = (ord(k), v)\n",
    "    \n",
    "print (''.join(special_unique_chars.keys()))\n",
    "\n",
    "sample_sentence = data[0][1]\n",
    "print(f'\\n{sample_sentence}')\n",
    "print(str(sample_sentence).encode('unicode_escape').decode('utf-8'))"
   ]
  },
  {
   "cell_type": "code",
   "execution_count": 54,
   "metadata": {},
   "outputs": [
    {
     "name": "stdout",
     "output_type": "stream",
     "text": [
      "É¨\n"
     ]
    }
   ],
   "source": [
    "print ('\\u0268'.encode('utf-8').decode('unicode_escape'))"
   ]
  },
  {
   "cell_type": "code",
   "execution_count": 55,
   "metadata": {
    "Collapsed": "false"
   },
   "outputs": [
    {
     "name": "stdout",
     "output_type": "stream",
     "text": [
      "0.13640100815584494\n",
      "0.048205071450233214\n",
      " | > Max length sequence: 97\n",
      " | > Min length sequence: 9\n",
      " | > Avg length sequence: 35.71380395683453\n"
     ]
    }
   ],
   "source": [
    "mean = np.mean(sec_per_chars)\n",
    "std = np.std(sec_per_chars)\n",
    "print(mean)\n",
    "print(std)\n",
    "print(\" | > Max length sequence: {}\".format(np.max(len_texts)))\n",
    "print(\" | > Min length sequence: {}\".format(np.min(len_texts)))\n",
    "print(\" | > Avg length sequence: {}\".format(np.mean(len_texts)))"
   ]
  },
  {
   "cell_type": "code",
   "execution_count": 56,
   "metadata": {
    "Collapsed": "false"
   },
   "outputs": [
    {
     "name": "stdout",
     "output_type": "stream",
     "text": [
      "('/home/arya/Documents/jaggukaka/TTS/datasets/resampled_telugu_openslr/te_in_female/tef_05994_01945384488.wav', 'తల నామవాచకంగా', 13, array([-1.2207031e-04, -9.1552734e-05, -1.5258789e-04, ...,\n",
      "       -6.1035156e-05, -9.1552734e-05,  0.0000000e+00], dtype=float32), 3.7546938775510204)\n",
      "('/home/arya/Documents/jaggukaka/TTS/datasets/resampled_telugu_openslr/te_in_female/tef_05691_02058763596.wav', 'ఈ గ్రామానికి సిటి బస్సుల సౌకర్యం ఉంది', 37, array([ 0.0000000e+00, -3.0517578e-05,  0.0000000e+00, ...,\n",
      "        0.0000000e+00,  6.1035156e-05,  0.0000000e+00], dtype=float32), 8.277369614512471)\n",
      "('/home/arya/Documents/jaggukaka/TTS/datasets/resampled_telugu_openslr/te_in_female/tef_05705_00377114098.wav', 'ఇండియా ఎ హిస్టరీ', 16, array([-6.1035156e-05, -9.1552734e-05, -6.1035156e-05, ...,\n",
      "       -3.0517578e-05,  0.0000000e+00, -3.0517578e-05], dtype=float32), 3.4133333333333336)\n",
      "('/home/arya/Documents/jaggukaka/TTS/datasets/resampled_telugu_openslr/te_in_female/tef_09935_01038244981.wav', 'యాభై మీటర్లలో', 13, array([ 0.0000000e+00, -3.0517578e-05,  0.0000000e+00, ...,\n",
      "        0.0000000e+00, -3.0517578e-05,  0.0000000e+00], dtype=float32), 3.1573696145124717)\n",
      "('/home/arya/Documents/jaggukaka/TTS/datasets/resampled_telugu_openslr/te_in_female/tef_05691_00547757237.wav', 'ఆత్మద్వారా అతడు నిజమైన బలాన్ని పొందుతాడు', 40, array([-3.0517578e-05,  0.0000000e+00, -3.0517578e-05, ...,\n",
      "        9.1552734e-05,  1.2207031e-04,  0.0000000e+00], dtype=float32), 9.472018140589569)\n",
      "('/home/arya/Documents/jaggukaka/TTS/datasets/resampled_telugu_openslr/te_in_female/tef_05691_00024541938.wav', 'కథలుగాథలు ఒక', 12, array([-6.1035156e-05, -9.1552734e-05, -6.1035156e-05, ...,\n",
      "       -3.0517578e-05,  0.0000000e+00,  0.0000000e+00], dtype=float32), 2.8160090702947844)\n",
      "('/home/arya/Documents/jaggukaka/TTS/datasets/resampled_telugu_openslr/te_in_female/tef_05691_00763273661.wav', 'అతడి లక్షణములు ఇంద్రియములకు గోచరించవు', 37, array([-1.5258789e-04, -1.8310547e-04, -9.1552734e-05, ...,\n",
      "       -1.5258789e-04, -9.1552734e-05, -1.5258789e-04], dtype=float32), 8.96)\n",
      "('/home/arya/Documents/jaggukaka/TTS/datasets/resampled_telugu_openslr/te_in_female/tef_03689_01266905117.wav', 'ది ద్యబ్బుక్', 12, array([0.0000000e+00, 0.0000000e+00, 0.0000000e+00, ..., 3.0517578e-05,\n",
      "       3.0517578e-05, 0.0000000e+00], dtype=float32), 3.669342403628118)\n",
      "('/home/arya/Documents/jaggukaka/TTS/datasets/resampled_telugu_openslr/te_in_female/tef_06008_00868544543.wav', 'ఇది సహజంగా సుల్తానులకు లభించింది', 32, array([-3.0517578e-05, -6.1035156e-05, -9.1552734e-05, ...,\n",
      "        1.2207031e-04,  1.2207031e-04,  1.2207031e-04], dtype=float32), 6.826666666666667)\n",
      "('/home/arya/Documents/jaggukaka/TTS/datasets/resampled_telugu_openslr/te_in_female/tef_05691_01222318820.wav', 'నీతి కథలు ఒకటవ భాగం అరవై అయిదు', 30, array([ 0.0000000e+00, -3.0517578e-05,  0.0000000e+00, ...,\n",
      "       -3.0517578e-05,  0.0000000e+00,  0.0000000e+00], dtype=float32), 6.570702947845805)\n",
      "('/home/arya/Documents/jaggukaka/TTS/datasets/resampled_telugu_openslr/te_in_female/tef_05691_02049416798.wav', 'చోరగణ తిలకము', 12, array([-3.0517578e-05, -6.1035156e-05, -9.1552734e-05, ...,\n",
      "        0.0000000e+00, -3.0517578e-05,  0.0000000e+00], dtype=float32), 2.730702947845805)\n",
      "('/home/arya/Documents/jaggukaka/TTS/datasets/resampled_telugu_openslr/te_in_female/tef_05994_01428875013.wav', 'బ్లాక్ & వీచ్ లి', 16, array([9.1552734e-05, 1.2207031e-04, 1.2207031e-04, ..., 3.0517578e-04,\n",
      "       2.4414062e-04, 0.0000000e+00], dtype=float32), 3.7546938775510204)\n",
      "('/home/arya/Documents/jaggukaka/TTS/datasets/resampled_telugu_openslr/te_in_female/tef_05994_01692443961.wav', 'డిసెంబరు మూడు;', 14, array([-3.0517578e-05,  0.0000000e+00, -3.0517578e-05, ...,\n",
      "       -4.2724609e-04, -4.5776367e-04,  0.0000000e+00], dtype=float32), 3.242675736961451)\n",
      "('/home/arya/Documents/jaggukaka/TTS/datasets/resampled_telugu_openslr/te_in_female/tef_06928_02089647980.wav', 'ఇతను ఛందస్సు చక్కగా అర్థం చేసుకున్నాడు', 38, array([9.1552734e-05, 1.2207031e-04, 6.1035156e-05, ..., 3.9672852e-04,\n",
      "       3.6621094e-04, 0.0000000e+00], dtype=float32), 9.130702947845805)\n",
      "('/home/arya/Documents/jaggukaka/TTS/datasets/resampled_telugu_openslr/te_in_female/tef_05691_00405572266.wav', 'ఒక రోజుకు ఇరవై నాలుగు హవర్లుంటాయి', 33, array([-3.0517578e-05,  0.0000000e+00, -3.0517578e-05, ...,\n",
      "        0.0000000e+00, -3.0517578e-05,  0.0000000e+00], dtype=float32), 14.506666666666666)\n",
      "('/home/arya/Documents/jaggukaka/TTS/datasets/resampled_telugu_openslr/te_in_female/tef_05181_00686548628.wav', 'మాజీ శాసన సభ్యులు', 17, array([-3.0517578e-05, -9.1552734e-05, -6.1035156e-05, ...,\n",
      "        6.1035156e-05,  3.0517578e-05,  3.0517578e-05], dtype=float32), 3.84)\n",
      "('/home/arya/Documents/jaggukaka/TTS/datasets/resampled_telugu_openslr/te_in_female/tef_05994_00172335420.wav', 'పంటలు సరిగా పండవు', 17, array([ 9.1552734e-05,  1.8310547e-04,  1.8310547e-04, ...,\n",
      "        0.0000000e+00, -3.0517578e-05,  0.0000000e+00], dtype=float32), 3.7546938775510204)\n",
      "('/home/arya/Documents/jaggukaka/TTS/datasets/resampled_telugu_openslr/te_in_female/tef_05994_00271142440.wav', 'శ్రీ పళ్ళం రాజుగారు', 19, array([-1.2207031e-04, -1.2207031e-04, -6.1035156e-05, ...,\n",
      "       -9.1552734e-05, -6.1035156e-05, -9.1552734e-05], dtype=float32), 4.266666666666667)\n",
      "('/home/arya/Documents/jaggukaka/TTS/datasets/resampled_telugu_openslr/te_in_female/tef_01908_00987225237.wav', 'దీంతో జీవవైవిధ్యం దెబ్బతింటోంది', 31, array([-6.1035156e-05, -9.1552734e-05, -6.1035156e-05, ...,\n",
      "        0.0000000e+00, -3.0517578e-05,  0.0000000e+00], dtype=float32), 6.997369614512472)\n",
      "('/home/arya/Documents/jaggukaka/TTS/datasets/resampled_telugu_openslr/te_in_female/tef_05691_00927096760.wav', 'అని ఆయన క్షేమసమాచారాలను కనుక్కొనేవారట', 37, array([-6.1035156e-05, -9.1552734e-05, -6.1035156e-05, ...,\n",
      "        0.0000000e+00, -3.0517578e-05,  0.0000000e+00], dtype=float32), 8.106666666666667)\n",
      "('/home/arya/Documents/jaggukaka/TTS/datasets/resampled_telugu_openslr/te_in_female/tef_05691_01586372727.wav', 'ఈ క్రింది మైదాన నిబంధనలు అమలు చేయబడతాయి', 39, array([-3.0517578e-05,  0.0000000e+00, -3.0517578e-05, ...,\n",
      "       -3.0517578e-05,  3.0517578e-05,  0.0000000e+00], dtype=float32), 8.448027210884353)\n",
      "('/home/arya/Documents/jaggukaka/TTS/datasets/resampled_telugu_openslr/te_in_female/tef_06928_01124035319.wav', 'ఏదో ఒక పేజీ యొక్క మార్చు లింకును నొక్కండి', 41, array([-1.2207031e-04, -9.1552734e-05,  0.0000000e+00, ...,\n",
      "       -3.0517578e-05,  0.0000000e+00,  0.0000000e+00], dtype=float32), 8.789342403628117)\n",
      "('/home/arya/Documents/jaggukaka/TTS/datasets/resampled_telugu_openslr/te_in_female/tef_05691_00199011307.wav', 'మనస్సు ఉంచు', 11, array([ 0.0000000e+00, -3.0517578e-05,  0.0000000e+00, ...,\n",
      "       -1.5258789e-04, -1.8310547e-04,  0.0000000e+00], dtype=float32), 2.901360544217687)\n",
      "('/home/arya/Documents/jaggukaka/TTS/datasets/resampled_telugu_openslr/te_in_female/tef_08664_01870730861.wav', 'అలాంటి సమయంలో\\\\n', 15, array([9.1552734e-05, 1.5258789e-04, 9.1552734e-05, ..., 3.0517578e-05,\n",
      "       0.0000000e+00, 3.0517578e-05], dtype=float32), 4.266666666666667)\n",
      "('/home/arya/Documents/jaggukaka/TTS/datasets/resampled_telugu_openslr/te_in_female/tef_05994_01987296805.wav', 'ఆడ ఏం ఉండాయో ఏం లేవో', 20, array([1.5258789e-04, 1.8310547e-04, 9.1552734e-05, ..., 0.0000000e+00,\n",
      "       3.0517578e-05, 0.0000000e+00], dtype=float32), 4.864036281179138)\n",
      "('/home/arya/Documents/jaggukaka/TTS/datasets/resampled_telugu_openslr/te_in_female/tef_05994_01118319792.wav', 'ఇది ఒక సంప్రదాయము', 17, array([ 6.1035156e-05,  1.2207031e-04,  9.1552734e-05, ...,\n",
      "       -2.7465820e-04, -2.4414062e-04, -2.7465820e-04], dtype=float32), 3.84)\n",
      "('/home/arya/Documents/jaggukaka/TTS/datasets/resampled_telugu_openslr/te_in_female/tef_01908_00174558973.wav', 'ఇది ఇక్కడ అసేధ బలం', 18, array([-3.0517578e-05,  0.0000000e+00, -3.0517578e-05, ...,\n",
      "       -3.0517578e-05,  0.0000000e+00, -9.1552734e-05], dtype=float32), 3.84)\n",
      "('/home/arya/Documents/jaggukaka/TTS/datasets/resampled_telugu_openslr/te_in_female/tef_05691_01781034116.wav', 'నేల సమతలంగా వుండాలి', 19, array([-3.0517578e-05,  0.0000000e+00, -3.0517578e-05, ...,\n",
      "        0.0000000e+00, -3.0517578e-05,  0.0000000e+00], dtype=float32), 7.338684807256236)\n",
      "('/home/arya/Documents/jaggukaka/TTS/datasets/resampled_telugu_openslr/te_in_female/tef_03689_01839925435.wav', 'ఇందుకు ఇంత చింతించ తగునా', 24, array([ 9.1552734e-05,  2.1362305e-04,  1.8310547e-04, ...,\n",
      "       -6.1035156e-05, -1.2207031e-04,  0.0000000e+00], dtype=float32), 5.717369614512472)\n",
      "('/home/arya/Documents/jaggukaka/TTS/datasets/resampled_telugu_openslr/te_in_female/tef_09935_00834336254.wav', 'అలాగే కొనసాగండి', 15, array([ 6.1035156e-05,  1.2207031e-04,  6.1035156e-05, ...,\n",
      "       -1.2207031e-04, -9.1552734e-05,  0.0000000e+00], dtype=float32), 3.242675736961451)\n",
      "('/home/arya/Documents/jaggukaka/TTS/datasets/resampled_telugu_openslr/te_in_female/tef_05691_00542840619.wav', 'దీనికి వయసుతో సంభందం లేదు', 25, array([-3.0517578e-05,  0.0000000e+00,  0.0000000e+00, ...,\n",
      "       -1.2207031e-04, -9.1552734e-05,  0.0000000e+00], dtype=float32), 8.277369614512471)\n",
      "('/home/arya/Documents/jaggukaka/TTS/datasets/resampled_telugu_openslr/te_in_female/tef_05691_01472505428.wav', 'కూడా పూర్తి చేశాడు', 18, array([-3.0517578e-05,  0.0000000e+00, -3.0517578e-05, ...,\n",
      "       -6.1035156e-05, -9.1552734e-05,  0.0000000e+00], dtype=float32), 4.864036281179138)\n",
      "('/home/arya/Documents/jaggukaka/TTS/datasets/resampled_telugu_openslr/te_in_female/tef_09935_01382029822.wav', 'నిష్క్రమించండి', 14, array([-6.1035156e-05, -1.2207031e-04, -6.1035156e-05, ...,\n",
      "        6.1035156e-05,  3.0517578e-05,  0.0000000e+00], dtype=float32), 3.5840362811791384)\n",
      "('/home/arya/Documents/jaggukaka/TTS/datasets/resampled_telugu_openslr/te_in_female/tef_06869_01818927768.wav', 'ది ద్యబ్బుక్', 12, array([-1.2207031e-04, -1.8310547e-04, -9.1552734e-05, ...,\n",
      "       -9.1552734e-05, -9.1552734e-05, -6.1035156e-05], dtype=float32), 2.986666666666667)\n",
      "('/home/arya/Documents/jaggukaka/TTS/datasets/resampled_telugu_openslr/te_in_female/tef_06928_00572801563.wav', 'ప్రపంచ సాహిత్యంలో ఇది గొప్ప రచన', 31, array([ 3.0517578e-05,  0.0000000e+00, -3.0517578e-05, ...,\n",
      "        6.1035156e-04,  6.7138672e-04,  0.0000000e+00], dtype=float32), 6.741360544217687)\n",
      "('/home/arya/Documents/jaggukaka/TTS/datasets/resampled_telugu_openslr/te_in_female/tef_02828_01195178069.wav', 'క్రమంగా సంపూర్ణంగా అంతరించింది\\\\n', 32, array([0.0000000e+00, 3.0517578e-05, 0.0000000e+00, ..., 2.1362305e-04,\n",
      "       1.8310547e-04, 2.1362305e-04], dtype=float32), 8.533333333333333)\n",
      "('/home/arya/Documents/jaggukaka/TTS/datasets/resampled_telugu_openslr/te_in_female/tef_01908_01248501065.wav', 'వారి లోకం వేరు', 14, array([ 0.0000000e+00,  3.0517578e-05,  0.0000000e+00, ...,\n",
      "       -6.1035156e-05, -9.1552734e-05, -1.2207031e-04], dtype=float32), 2.986666666666667)\n",
      "('/home/arya/Documents/jaggukaka/TTS/datasets/resampled_telugu_openslr/te_in_female/tef_09935_00248519277.wav', 'వాయువ్యం వైపుగా', 15, array([0.00018311, 0.00033569, 0.00030518, ..., 0.00030518, 0.00027466,\n",
      "       0.        ], dtype=float32), 3.7546938775510204)\n",
      "('/home/arya/Documents/jaggukaka/TTS/datasets/resampled_telugu_openslr/te_in_female/tef_03910_01921037390.wav', 'అలాంటి సమయంలో', 13, array([ 3.0517578e-05,  9.1552734e-05,  6.1035156e-05, ...,\n",
      "       -1.8310547e-04, -2.1362305e-04,  0.0000000e+00], dtype=float32), 3.5840362811791384)\n",
      "('/home/arya/Documents/jaggukaka/TTS/datasets/resampled_telugu_openslr/te_in_female/tef_06008_00847779060.wav', 'ఊరికి కొద్ది దూరంలో గోదావరి తీరం', 32, array([ 6.1035156e-05,  1.2207031e-04,  1.2207031e-04, ...,\n",
      "       -3.0517578e-05,  0.0000000e+00, -3.0517578e-05], dtype=float32), 7.253333333333333)\n",
      "('/home/arya/Documents/jaggukaka/TTS/datasets/resampled_telugu_openslr/te_in_female/tef_05181_01264261376.wav', 'చేపల కోసం గాలిస్తాడు', 20, array([ 3.0517578e-05,  3.0517578e-05,  0.0000000e+00, ...,\n",
      "       -3.0517578e-04, -3.9672852e-04,  0.0000000e+00], dtype=float32), 4.608027210884353)\n",
      "('/home/arya/Documents/jaggukaka/TTS/datasets/resampled_telugu_openslr/te_in_female/tef_09935_01103960299.wav', 'కుడివైపుకు వెళ్ళండి', 19, array([6.1035156e-05, 1.5258789e-04, 1.2207031e-04, ..., 2.1362305e-04,\n",
      "       1.8310547e-04, 2.1362305e-04], dtype=float32), 4.266666666666667)\n",
      "('/home/arya/Documents/jaggukaka/TTS/datasets/resampled_telugu_openslr/te_in_female/tef_09935_00414416154.wav', 'యాభై గజాలలో', 11, array([ 6.1035156e-05,  0.0000000e+00,  6.1035156e-05, ...,\n",
      "        0.0000000e+00, -3.0517578e-05, -9.1552734e-05], dtype=float32), 2.986666666666667)\n",
      "('/home/arya/Documents/jaggukaka/TTS/datasets/resampled_telugu_openslr/te_in_female/tef_05691_01087204328.wav', 'కాలము జరుపు', 11, array([ 6.1035156e-04,  2.1362305e-04, -5.7983398e-04, ...,\n",
      "        0.0000000e+00, -3.0517578e-05,  0.0000000e+00], dtype=float32), 2.986666666666667)\n",
      "('/home/arya/Documents/jaggukaka/TTS/datasets/resampled_telugu_openslr/te_in_female/tef_05994_00866814985.wav', 'పాదపద్మములు', 11, array([-0.00015259, -0.00018311, -0.00018311, ...,  0.05712891,\n",
      "        0.04071045,  0.        ], dtype=float32), 4.181360544217687)\n",
      "('/home/arya/Documents/jaggukaka/TTS/datasets/resampled_telugu_openslr/te_in_female/tef_09935_00436789985.wav', 'అర మైలులో', 9, array([ 1.8310547e-04,  3.0517578e-04,  3.6621094e-04, ...,\n",
      "       -6.1035156e-05, -9.1552734e-05,  0.0000000e+00], dtype=float32), 2.730702947845805)\n",
      "('/home/arya/Documents/jaggukaka/TTS/datasets/resampled_telugu_openslr/te_in_female/tef_09935_01641338042.wav', 'నైరుతి వైపుగా', 13, array([-3.0517578e-05, -9.1552734e-05, -6.1035156e-05, ...,\n",
      "        6.1035156e-05,  3.0517578e-05,  0.0000000e+00], dtype=float32), 3.1573696145124717)\n",
      "('/home/arya/Documents/jaggukaka/TTS/datasets/resampled_telugu_openslr/te_in_female/tef_09935_01455368178.wav', 'పావు మైలులో', 11, array([ 0.0000000e+00,  3.0517578e-05,  0.0000000e+00, ...,\n",
      "       -6.1035156e-05, -9.1552734e-05,  0.0000000e+00], dtype=float32), 3.242675736961451)\n",
      "('/home/arya/Documents/jaggukaka/TTS/datasets/resampled_telugu_openslr/te_in_female/tef_09935_01684968942.wav', 'దక్షిణం వైపుగా', 14, array([ 6.1035156e-05,  1.2207031e-04,  9.1552734e-05, ...,\n",
      "        0.0000000e+00, -3.0517578e-05,  0.0000000e+00], dtype=float32), 3.5840362811791384)\n",
      "('/home/arya/Documents/jaggukaka/TTS/datasets/resampled_telugu_openslr/te_in_female/tef_03910_00766943697.wav', 'ఇక్కడి భాష తెలుగు', 17, array([-6.1035156e-05, -3.0517578e-05,  0.0000000e+00, ...,\n",
      "        0.0000000e+00, -3.0517578e-05,  0.0000000e+00], dtype=float32), 3.669342403628118)\n",
      "('/home/arya/Documents/jaggukaka/TTS/datasets/resampled_telugu_openslr/te_in_female/tef_01908_01951295932.wav', 'తేలవేయు అనగా', 12, array([-3.0517578e-05,  0.0000000e+00, -3.0517578e-05, ...,\n",
      "       -3.0517578e-05, -3.0517578e-05,  0.0000000e+00], dtype=float32), 3.0720181405895692)\n",
      "('/home/arya/Documents/jaggukaka/TTS/datasets/resampled_telugu_openslr/te_in_female/tef_09935_00782305870.wav', 'ఉత్తరం వైపుగా', 13, array([-6.1035156e-05, -9.1552734e-05, -9.1552734e-05, ...,\n",
      "       -1.8310547e-04, -1.2207031e-04,  0.0000000e+00], dtype=float32), 2.901360544217687)\n",
      "('/home/arya/Documents/jaggukaka/TTS/datasets/resampled_telugu_openslr/te_in_female/tef_09935_01133250352.wav', 'మూడు మైళ్ళలో', 12, array([-0.00012207, -0.00018311, -0.00018311, ...,  0.00018311,\n",
      "        0.00021362,  0.        ], dtype=float32), 2.730702947845805)\n",
      "('/home/arya/Documents/jaggukaka/TTS/datasets/resampled_telugu_openslr/te_in_female/tef_08664_01870953793.wav', 'నా కొడుకు రెండు\\\\n', 17, array([ 3.0517578e-05,  3.0517578e-05,  3.0517578e-05, ...,\n",
      "       -9.1552734e-05, -3.0517578e-05,  0.0000000e+00], dtype=float32), 3.9253514739229023)\n",
      "('/home/arya/Documents/jaggukaka/TTS/datasets/resampled_telugu_openslr/te_in_female/tef_09935_00415666424.wav', 'వంద గజాలలో', 10, array([ 0.0000000e+00, -3.0517578e-05, -9.1552734e-05, ...,\n",
      "        0.0000000e+00,  3.0517578e-05,  0.0000000e+00], dtype=float32), 3.3280272108843536)\n",
      "('/home/arya/Documents/jaggukaka/TTS/datasets/resampled_telugu_openslr/te_in_female/tef_09281_01623045364.wav', 'పాదపద్మములు', 11, array([-6.1035156e-05, -9.1552734e-05, -6.1035156e-05, ...,\n",
      "        9.1552734e-05,  1.5258789e-04,  0.0000000e+00], dtype=float32), 2.6453514739229025)\n",
      "('/home/arya/Documents/jaggukaka/TTS/datasets/resampled_telugu_openslr/te_in_female/tef_09935_00906579836.wav', 'ఒకటిన్నర మైళ్ళలో', 16, array([-4.8828125e-04, -7.3242188e-04, -6.4086914e-04, ...,\n",
      "        0.0000000e+00, -3.0517578e-05,  0.0000000e+00], dtype=float32), 3.7546938775510204)\n",
      "('/home/arya/Documents/jaggukaka/TTS/datasets/resampled_telugu_openslr/te_in_female/tef_03689_01597531495.wav', 'చెన్నై బివిశ్వనాథ రెడ్డి', 24, array([-3.0517578e-05,  0.0000000e+00,  0.0000000e+00, ...,\n",
      "        3.0517578e-05,  3.0517578e-05,  0.0000000e+00], dtype=float32), 5.290702947845805)\n",
      "('/home/arya/Documents/jaggukaka/TTS/datasets/resampled_telugu_openslr/te_in_female/tef_06928_00321697805.wav', 'అందుకే అలా ఆ వ్యాఖ్య వ్రాశాను', 29, array([ 0.0000000e+00, -3.0517578e-05,  3.0517578e-05, ...,\n",
      "       -7.9345703e-04, -7.3242188e-04,  0.0000000e+00], dtype=float32), 6.656009070294784)\n",
      "('/home/arya/Documents/jaggukaka/TTS/datasets/resampled_telugu_openslr/te_in_female/tef_09935_00200940076.wav', 'ఈశాన్యం వైపుగా', 14, array([-2.1362305e-04, -2.7465820e-04, -1.8310547e-04, ...,\n",
      "        0.0000000e+00,  0.0000000e+00,  3.0517578e-05], dtype=float32), 3.4133333333333336)\n",
      "('/home/arya/Documents/jaggukaka/TTS/datasets/resampled_telugu_openslr/te_in_female/tef_06008_00822766361.wav', 'అని కబురు చేసేవారు', 18, array([-6.1035156e-05,  0.0000000e+00,  0.0000000e+00, ...,\n",
      "       -9.1552734e-05, -9.1552734e-05, -9.1552734e-05], dtype=float32), 3.84)\n",
      "('/home/arya/Documents/jaggukaka/TTS/datasets/resampled_telugu_openslr/te_in_female/tef_06008_00687429182.wav', 'గ్రామ దేవతలకు నైవేద్యాలు అర్పిస్తారు', 36, array([-9.1552734e-05, -1.8310547e-04, -1.5258789e-04, ...,\n",
      "        0.0000000e+00,  3.0517578e-05,  0.0000000e+00], dtype=float32), 9.216009070294785)\n",
      "('/home/arya/Documents/jaggukaka/TTS/datasets/resampled_telugu_openslr/te_in_female/tef_05691_01766893858.wav', 'పంచకోణయుతమైన ధృఢమైన టెంక గల ఫలాలు', 33, array([ 6.1035156e-05,  1.2207031e-04,  9.1552734e-05, ...,\n",
      "       -3.0517578e-05,  0.0000000e+00,  0.0000000e+00], dtype=float32), 8.448027210884353)\n",
      "('/home/arya/Documents/jaggukaka/TTS/datasets/resampled_telugu_openslr/te_in_female/tef_06008_00344490776.wav', 'అన్ని రకాల క్షేత్రాలకు అనుకూలం', 30, array([-1.2207031e-04, -1.8310547e-04, -1.5258789e-04, ...,\n",
      "        0.0000000e+00, -3.0517578e-05,  0.0000000e+00], dtype=float32), 6.826666666666667)\n",
      "('/home/arya/Documents/jaggukaka/TTS/datasets/resampled_telugu_openslr/te_in_female/tef_09935_00549499494.wav', 'ఒక మైలులో', 9, array([-9.1552734e-05, -9.1552734e-05, -1.8310547e-04, ...,\n",
      "        6.1035156e-05,  1.5258789e-04,  0.0000000e+00], dtype=float32), 2.389342403628118)\n",
      "('/home/arya/Documents/jaggukaka/TTS/datasets/resampled_telugu_openslr/te_in_female/tef_05994_01635195527.wav', 'స్నేహం ఎంతో తియ్యనైంది', 22, array([-9.1552734e-05, -2.1362305e-04, -2.4414062e-04, ...,\n",
      "       -2.1362305e-04, -1.2207031e-04,  0.0000000e+00], dtype=float32), 5.03469387755102)\n",
      "('/home/arya/Documents/jaggukaka/TTS/datasets/resampled_telugu_openslr/te_in_female/tef_05994_01073182619.wav', 'బాలవంతి కథలో రాజుకు సంతానం కలగదు', 32, array([-6.1035156e-05, -9.1552734e-05, -1.2207031e-04, ...,\n",
      "        3.0517578e-05,  0.0000000e+00,  3.0517578e-05], dtype=float32), 7.253333333333333)\n",
      "('/home/arya/Documents/jaggukaka/TTS/datasets/resampled_telugu_openslr/te_in_female/tef_09935_00993140213.wav', 'ఆగ్నేయం వైపుగా', 14, array([-9.1552734e-05, -9.1552734e-05, -6.1035156e-05, ...,\n",
      "       -1.8310547e-04, -1.5258789e-04, -1.8310547e-04], dtype=float32), 2.986666666666667)\n",
      "('/home/arya/Documents/jaggukaka/TTS/datasets/resampled_telugu_openslr/te_in_female/tef_04261_01212129368.wav', 'ఉభయ భారతి ఒక', 12, array([-3.0517578e-05,  0.0000000e+00, -3.0517578e-05, ...,\n",
      "        6.1035156e-05,  3.0517578e-05, -3.0517578e-05], dtype=float32), 2.56)\n",
      "('/home/arya/Documents/jaggukaka/TTS/datasets/resampled_telugu_openslr/te_in_female/tef_05691_00960012113.wav', 'బీఎస్సీ వరకు అభ్యసించింది', 25, array([ 0.0000000e+00, -3.0517578e-05,  0.0000000e+00, ...,\n",
      "        0.0000000e+00,  3.0517578e-05,  0.0000000e+00], dtype=float32), 6.2293424036281175)\n",
      "('/home/arya/Documents/jaggukaka/TTS/datasets/resampled_telugu_openslr/te_in_female/tef_03910_01754222881.wav', 'అన్ని వసతులు గలవు', 17, array([ 6.1035156e-05,  1.2207031e-04,  9.1552734e-05, ...,\n",
      "        0.0000000e+00, -3.0517578e-05,  0.0000000e+00], dtype=float32), 4.608027210884353)\n",
      "('/home/arya/Documents/jaggukaka/TTS/datasets/resampled_telugu_openslr/te_in_female/tef_06928_00023470279.wav', 'ఈ వ్యాసంలో ఒకరు వ్రాసిన సమాచారం', 31, array([-3.0517578e-05,  6.1035156e-05,  3.0517578e-05, ...,\n",
      "        3.1738281e-03,  3.6621094e-03,  0.0000000e+00], dtype=float32), 9.130702947845805)\n",
      "('/home/arya/Documents/jaggukaka/TTS/datasets/resampled_telugu_openslr/te_in_female/tef_09935_00003426651.wav', ', అప్పుడు', 9, array([0.0000000e+00, 6.1035156e-05, 3.0517578e-05, ..., 0.0000000e+00,\n",
      "       3.0517578e-05, 0.0000000e+00], dtype=float32), 1.9626757369614511)\n",
      "('/home/arya/Documents/jaggukaka/TTS/datasets/resampled_telugu_openslr/te_in_female/tef_05691_01122629441.wav', 'సాక్షాత్తూ ప్లాటో అన్నాడా మాట', 29, array([6.1035156e-05, 1.2207031e-04, 9.1552734e-05, ..., 3.0517578e-05,\n",
      "       0.0000000e+00, 3.0517578e-05], dtype=float32), 9.386666666666667)\n",
      "('/home/arya/Documents/jaggukaka/TTS/datasets/resampled_telugu_openslr/te_in_female/tef_03910_00420526199.wav', 'ఇదంతా చెలం గొడవ', 15, array([-3.0517578e-05,  0.0000000e+00,  3.0517578e-05, ...,\n",
      "        3.0517578e-05,  3.0517578e-05,  0.0000000e+00], dtype=float32), 4.266666666666667)\n",
      "('/home/arya/Documents/jaggukaka/TTS/datasets/resampled_telugu_openslr/te_in_female/tef_01908_01738148308.wav', 'గోపాల్ ప్రసాద్ జ', 16, array([ 0.0000000e+00, -3.0517578e-05,  0.0000000e+00, ...,\n",
      "       -3.0517578e-05,  0.0000000e+00,  0.0000000e+00], dtype=float32), 3.498684807256236)\n",
      "('/home/arya/Documents/jaggukaka/TTS/datasets/resampled_telugu_openslr/te_in_female/tef_05705_01239466330.wav', 'హరహర మహాదేవశంభో శంకర', 20, array([ 0.0000000e+00,  3.0517578e-05,  0.0000000e+00, ...,\n",
      "       -9.1552734e-05, -9.1552734e-05,  0.0000000e+00], dtype=float32), 4.522675736961451)\n",
      "('/home/arya/Documents/jaggukaka/TTS/datasets/resampled_telugu_openslr/te_in_female/tef_08712_00192406557.wav', 'పూర్తి నిషేధిత ప్రాంతం', 22, array([-0.00027466, -0.00036621, -0.00036621, ..., -0.00045776,\n",
      "       -0.00042725, -0.00045776], dtype=float32), 4.693333333333333)\n",
      "('/home/arya/Documents/jaggukaka/TTS/datasets/resampled_telugu_openslr/te_in_female/tef_05691_00242581554.wav', 'భేదనాశినీ  భేదములను పోగొట్టునది', 31, array([ 0.0000000e+00,  0.0000000e+00, -3.0517578e-05, ...,\n",
      "       -2.7465820e-04, -2.7465820e-04,  0.0000000e+00], dtype=float32), 8.789342403628117)\n",
      "('/home/arya/Documents/jaggukaka/TTS/datasets/resampled_telugu_openslr/te_in_female/tef_09935_01996477578.wav', 'రెండు మైళ్ళలో', 13, array([-6.1035156e-05, -9.1552734e-05, -1.2207031e-04, ...,\n",
      "        1.2207031e-04,  1.2207031e-04,  0.0000000e+00], dtype=float32), 3.0720181405895692)\n",
      "('/home/arya/Documents/jaggukaka/TTS/datasets/resampled_telugu_openslr/te_in_female/tef_08712_01983787962.wav', 'జలధి  జలనిధి', 12, array([-9.1552734e-05, -3.0517578e-05, -3.0517578e-05, ...,\n",
      "       -2.4414062e-04, -3.0517578e-04,  0.0000000e+00], dtype=float32), 3.0720181405895692)\n",
      "('/home/arya/Documents/jaggukaka/TTS/datasets/resampled_telugu_openslr/te_in_female/tef_04213_00861834669.wav', 'ఈ భూమి నానావిధ చరాచరములకు నిలయం', 31, array([-9.1552734e-05, -1.8310547e-04, -1.8310547e-04, ...,\n",
      "       -3.0517578e-05, -3.0517578e-05,  0.0000000e+00], dtype=float32), 8.277369614512471)\n",
      "('/home/arya/Documents/jaggukaka/TTS/datasets/resampled_telugu_openslr/te_in_female/tef_05994_02061704739.wav', 'ఈద్ నమాజ్ కు తయారు గావడం', 24, array([-3.0517578e-05,  0.0000000e+00, -3.0517578e-05, ...,\n",
      "       -9.1552734e-05, -9.1552734e-05, -6.1035156e-05], dtype=float32), 5.12)\n",
      "('/home/arya/Documents/jaggukaka/TTS/datasets/resampled_telugu_openslr/te_in_female/tef_05994_01226624573.wav', 'మా ఊరి పేరు ఒమ్మంగి', 19, array([-1.5258789e-04, -2.1362305e-04, -2.4414062e-04, ...,\n",
      "        0.0000000e+00, -3.0517578e-05,  0.0000000e+00], dtype=float32), 4.096009070294785)\n",
      "('/home/arya/Documents/jaggukaka/TTS/datasets/resampled_telugu_openslr/te_in_female/tef_09935_01379460986.wav', 'యాభై అడుగుల్లో', 14, array([0.00015259, 0.00021362, 0.00018311, ..., 0.00015259, 0.00018311,\n",
      "       0.        ], dtype=float32), 3.3280272108843536)\n",
      "('/home/arya/Documents/jaggukaka/TTS/datasets/resampled_telugu_openslr/te_in_female/tef_09281_00954185724.wav', 'జలధి  జలనిధి', 12, array([-1.5258789e-04, -2.1362305e-04, -1.8310547e-04, ...,\n",
      "        0.0000000e+00,  3.0517578e-05,  0.0000000e+00], dtype=float32), 2.8160090702947844)\n",
      "('/home/arya/Documents/jaggukaka/TTS/datasets/resampled_telugu_openslr/te_in_female/tef_05691_01571737774.wav', 'ది హాబిట్ ఆంగ్లం', 16, array([ 0.0000000e+00, -3.0517578e-05,  0.0000000e+00, ...,\n",
      "        9.1552734e-05,  1.2207031e-04,  0.0000000e+00], dtype=float32), 4.096009070294785)\n",
      "('/home/arya/Documents/jaggukaka/TTS/datasets/resampled_telugu_openslr/te_in_female/tef_03910_00193646626.wav', 'అన్ని రకాల క్షేత్రాలకు అనుకూలం', 30, array([ 3.0517578e-05,  3.0517578e-05, -3.0517578e-05, ...,\n",
      "        1.2207031e-04,  1.2207031e-04,  1.2207031e-04], dtype=float32), 6.826666666666667)\n",
      "('/home/arya/Documents/jaggukaka/TTS/datasets/resampled_telugu_openslr/te_in_female/tef_09935_01321480396.wav', 'మూడు వందల గజాలలో', 16, array([ 0.00045776,  0.00067139,  0.00064087, ..., -0.00018311,\n",
      "       -0.00015259, -0.00018311], dtype=float32), 3.4133333333333336)\n",
      "('/home/arya/Documents/jaggukaka/TTS/datasets/resampled_telugu_openslr/te_in_female/tef_08664_02114291156.wav', 'ఇది కూడా చాలా మంది ఎరిగినదే', 27, array([-3.0517578e-05, -3.0517578e-05,  0.0000000e+00, ...,\n",
      "       -1.8310547e-04, -2.1362305e-04,  0.0000000e+00], dtype=float32), 5.888027210884354)\n",
      "('/home/arya/Documents/jaggukaka/TTS/datasets/resampled_telugu_openslr/te_in_female/tef_09281_01777747078.wav', 'పోతు వెదురు', 11, array([-6.1035156e-05, -9.1552734e-05, -6.1035156e-05, ...,\n",
      "        2.7465820e-04,  3.0517578e-04,  0.0000000e+00], dtype=float32), 2.4746938775510205)\n",
      "('/home/arya/Documents/jaggukaka/TTS/datasets/resampled_telugu_openslr/te_in_male/tem_02769_01899577322.wav', 'ద్రవరూపంలోని మలినాలు తేమ వంటివి', 31, array([ 0.0000000e+00, -3.0517578e-05,  0.0000000e+00, ...,\n",
      "       -3.0517578e-05,  0.0000000e+00,  0.0000000e+00], dtype=float32), 6.997369614512472)\n",
      "('/home/arya/Documents/jaggukaka/TTS/datasets/resampled_telugu_openslr/te_in_male/tem_00682_01850053901.wav', 'ఏమయ్య ఓ సంఘపోల్లు ఎక్కడ చూస్తే ఏమీ లేదు', 39, array([ 3.0517578e-05,  3.0517578e-05,  3.0517578e-05, ...,\n",
      "        0.0000000e+00, -6.1035156e-05,  0.0000000e+00], dtype=float32), 9.64267573696145)\n",
      "('/home/arya/Documents/jaggukaka/TTS/datasets/resampled_telugu_openslr/te_in_male/tem_02769_00296474841.wav', 'దీంతో ఎవరినీ కలిసేది కాదామె', 27, array([-6.1035156e-05, -3.0517578e-05,  0.0000000e+00, ...,\n",
      "        0.0000000e+00,  0.0000000e+00,  0.0000000e+00], dtype=float32), 6.656009070294784)\n",
      "('/home/arya/Documents/jaggukaka/TTS/datasets/resampled_telugu_openslr/te_in_male/tem_02769_00301408224.wav', 'నానీ కవితారూపం ఆత్మీయమైంది', 26, array([-3.0517578e-05,  0.0000000e+00, -3.0517578e-05, ...,\n",
      "        0.0000000e+00, -3.0517578e-05,  0.0000000e+00], dtype=float32), 7.338684807256236)\n",
      "('/home/arya/Documents/jaggukaka/TTS/datasets/resampled_telugu_openslr/te_in_male/tem_08377_01929069671.wav', 'శ్రీ రామ నవమి కథ\\\\n', 18, array([ 6.1035156e-05,  1.2207031e-04,  9.1552734e-05, ...,\n",
      "       -3.3569336e-04, -3.6621094e-04,  0.0000000e+00], dtype=float32), 4.608027210884353)\n",
      "('/home/arya/Documents/jaggukaka/TTS/datasets/resampled_telugu_openslr/te_in_male/tem_02769_01752319773.wav', 'ఇది నగరానికి పడమటి వైపున ఉంది', 29, array([-6.1035156e-05, -9.1552734e-05, -6.1035156e-05, ...,\n",
      "        0.0000000e+00, -3.0517578e-05,  0.0000000e+00], dtype=float32), 6.570702947845805)\n",
      "('/home/arya/Documents/jaggukaka/TTS/datasets/resampled_telugu_openslr/te_in_male/tem_06359_01971913836.wav', 'వాటిని మీకు చెప్తాను', 20, array([ 0.0000000e+00,  0.0000000e+00,  0.0000000e+00, ...,\n",
      "       -9.1552734e-05, -1.2207031e-04,  0.0000000e+00], dtype=float32), 4.778684807256236)\n",
      "('/home/arya/Documents/jaggukaka/TTS/datasets/resampled_telugu_openslr/te_in_male/tem_00682_01800107121.wav', 'ఆ లక్ష్యంగా రచనా వ్యాసంగాన్ని ఆరంభించారు', 40, array([ 0.0000000e+00,  0.0000000e+00, -3.0517578e-05, ...,\n",
      "       -1.0070801e-03, -8.5449219e-04,  0.0000000e+00], dtype=float32), 8.704036281179139)\n",
      "('/home/arya/Documents/jaggukaka/TTS/datasets/resampled_telugu_openslr/te_in_male/tem_00682_01911958322.wav', 'సరస్సు మరియు చెరువు తేడా ఏమిటి', 30, array([ 0.        ,  0.        ,  0.        , ..., -0.00039673,\n",
      "       -0.0005188 ,  0.        ], dtype=float32), 6.741360544217687)\n",
      "('/home/arya/Documents/jaggukaka/TTS/datasets/resampled_telugu_openslr/te_in_male/tem_02769_00629677581.wav', 'పర్యాటక ఆకర్షణలలో జాంగ్ జలపాతం ఒకటి', 35, array([ 0.0000000e+00, -6.1035156e-05, -9.1552734e-05, ...,\n",
      "       -3.0517578e-05,  0.0000000e+00,  0.0000000e+00], dtype=float32), 8.448027210884353)\n",
      "('/home/arya/Documents/jaggukaka/TTS/datasets/resampled_telugu_openslr/te_in_male/tem_02769_01915629255.wav', 'సాక్షాత్తూ ప్లాటో అన్నాడా మాట', 29, array([0., 0., 0., ..., 0., 0., 0.], dtype=float32), 6.741360544217687)\n",
      "('/home/arya/Documents/jaggukaka/TTS/datasets/resampled_telugu_openslr/te_in_male/tem_00682_01777869519.wav', 'గది తలుపు దానికదే మూసుకుంటుంది', 30, array([ 0.0000000e+00,  3.0517578e-05, -3.0517578e-05, ...,\n",
      "        0.0000000e+00,  3.0517578e-05,  0.0000000e+00], dtype=float32), 7.9360090702947845)\n",
      "('/home/arya/Documents/jaggukaka/TTS/datasets/resampled_telugu_openslr/te_in_male/tem_02769_00843676823.wav', 'ఆ కంపెనీ క్రమంగా అభివృద్ధి చెందింది', 35, array([ 3.0517578e-05,  6.1035156e-05,  0.0000000e+00, ...,\n",
      "       -1.5258789e-04, -1.8310547e-04,  0.0000000e+00], dtype=float32), 7.594693877551021)\n",
      "('/home/arya/Documents/jaggukaka/TTS/datasets/resampled_telugu_openslr/te_in_male/tem_06885_01088687923.wav', 'అవన్నీ నాకు తెలుసు', 18, array([-3.0517578e-05,  0.0000000e+00, -6.1035156e-05, ...,\n",
      "        0.0000000e+00,  6.1035156e-05,  1.5258789e-04], dtype=float32), 3.84)\n",
      "('/home/arya/Documents/jaggukaka/TTS/datasets/resampled_telugu_openslr/te_in_male/tem_00682_01703726192.wav', 'దీని సవరణ ఋణాత్మకం', 18, array([-3.0517578e-05,  0.0000000e+00, -3.0517578e-05, ...,\n",
      "       -7.0190430e-04, -7.0190430e-04,  0.0000000e+00], dtype=float32), 5.376009070294785)\n",
      "('/home/arya/Documents/jaggukaka/TTS/datasets/resampled_telugu_openslr/te_in_male/tem_09584_00020328055.wav', 'కానీ ఏదీ కలిసి రాలేదు', 21, array([-3.0517578e-05,  0.0000000e+00, -3.0517578e-05, ...,\n",
      "        3.0517578e-05,  0.0000000e+00,  0.0000000e+00], dtype=float32), 4.522675736961451)\n",
      "('/home/arya/Documents/jaggukaka/TTS/datasets/resampled_telugu_openslr/te_in_male/tem_02769_01340272492.wav', 'ఇప్పుడు ప్రధాన హోం సెక్రటరీ', 27, array([ 0.0000000e+00,  3.0517578e-05,  3.0517578e-05, ...,\n",
      "       -3.0517578e-05,  0.0000000e+00,  0.0000000e+00], dtype=float32), 5.888027210884354)\n",
      "('/home/arya/Documents/jaggukaka/TTS/datasets/resampled_telugu_openslr/te_in_male/tem_04771_00022039022.wav', 'కుడివైపు వెళ్ళండి', 17, array([-3.0517578e-05,  0.0000000e+00,  0.0000000e+00, ...,\n",
      "       -1.8310547e-04, -1.8310547e-04, -2.1362305e-04], dtype=float32), 3.84)\n",
      "('/home/arya/Documents/jaggukaka/TTS/datasets/resampled_telugu_openslr/te_in_male/tem_02769_00517634859.wav', 'పాండవులు మహాప్రస్థానం ప్రారంభించారు', 35, array([ 0.0000000e+00, -3.0517578e-05,  0.0000000e+00, ...,\n",
      "       -3.0517578e-05,  0.0000000e+00,  0.0000000e+00], dtype=float32), 8.021360544217687)\n",
      "('/home/arya/Documents/jaggukaka/TTS/datasets/resampled_telugu_openslr/te_in_male/tem_09015_01987428612.wav', 'తేలవేయు అనగా', 12, array([-3.0517578e-05, -3.0517578e-05,  0.0000000e+00, ...,\n",
      "       -2.5634766e-03, -2.8991699e-03,  0.0000000e+00], dtype=float32), 3.3280272108843536)\n",
      "('/home/arya/Documents/jaggukaka/TTS/datasets/resampled_telugu_openslr/te_in_male/tem_04272_01520470176.wav', 'ఇదే ఆమె ఆఖరి అత్యున్నత ప్రతిభ', 29, array([-6.1035156e-05, -9.1552734e-05, -9.1552734e-05, ...,\n",
      "        2.7465820e-03,  3.9062500e-03,  0.0000000e+00], dtype=float32), 7.765351473922903)\n",
      "('/home/arya/Documents/jaggukaka/TTS/datasets/resampled_telugu_openslr/te_in_male/tem_00682_01206526551.wav', 'సాధారణ వర్షపాతం ఆరు వందలు నాలుగు మీమీ', 37, array([ 0.0000000e+00, -3.0517578e-05,  0.0000000e+00, ...,\n",
      "        0.0000000e+00,  3.0517578e-05,  1.2207031e-04], dtype=float32), 8.96)\n",
      "('/home/arya/Documents/jaggukaka/TTS/datasets/resampled_telugu_openslr/te_in_male/tem_09015_00461799540.wav', 'పాదపద్మములు', 11, array([-0.00018311, -0.00024414, -0.00021362, ...,  0.00018311,\n",
      "        0.00021362,  0.        ], dtype=float32), 3.1573696145124717)\n",
      "('/home/arya/Documents/jaggukaka/TTS/datasets/resampled_telugu_openslr/te_in_male/tem_04272_01245718228.wav', 'ఇది తెలుగులో మొదటి సాంఘిక చిత్రం', 32, array([ 3.0517578e-05,  3.0517578e-05, -3.0517578e-05, ...,\n",
      "        5.4626465e-03,  5.8593750e-03,  0.0000000e+00], dtype=float32), 7.338684807256236)\n",
      "('/home/arya/Documents/jaggukaka/TTS/datasets/resampled_telugu_openslr/te_in_male/tem_04272_01280896186.wav', 'గజల్ అనగా స్త్రీ సంభాషణ స్త్రీల సంభాషణ', 38, array([-6.1035156e-05, -9.1552734e-05, -6.1035156e-05, ...,\n",
      "       -2.4414062e-04, -2.7465820e-04,  0.0000000e+00], dtype=float32), 8.448027210884353)\n",
      "('/home/arya/Documents/jaggukaka/TTS/datasets/resampled_telugu_openslr/te_in_male/tem_00682_00631852062.wav', 'గానం/సంగీతం మహాభాష్యం చిత్తరంజన్', 32, array([-3.0517578e-05,  0.0000000e+00, -3.0517578e-05, ...,\n",
      "       -3.0517578e-05,  0.0000000e+00,  0.0000000e+00], dtype=float32), 7.082675736961451)\n",
      "('/home/arya/Documents/jaggukaka/TTS/datasets/resampled_telugu_openslr/te_in_male/tem_04272_01891865717.wav', 'ఇస్లామీయ ప్రపంచం లో ఇది ప్రధమ మదరసా', 35, array([-3.0517578e-05,  0.0000000e+00, -3.0517578e-05, ...,\n",
      "        3.1433105e-03,  3.0517578e-03,  0.0000000e+00], dtype=float32), 8.021360544217687)\n",
      "('/home/arya/Documents/jaggukaka/TTS/datasets/resampled_telugu_openslr/te_in_male/tem_04771_01845712672.wav', 'ఒక మైలులో', 9, array([-6.1035156e-05, -9.1552734e-05, -6.1035156e-05, ...,\n",
      "       -1.5258789e-04, -1.8310547e-04,  0.0000000e+00], dtype=float32), 3.3280272108843536)\n",
      "('/home/arya/Documents/jaggukaka/TTS/datasets/resampled_telugu_openslr/te_in_male/tem_02769_00634581293.wav', 'ఎస్విరామారావు నాటి వంద ఒక చిత్రాలు', 34, array([0.0000000e+00, 0.0000000e+00, 0.0000000e+00, ..., 3.0517578e-05,\n",
      "       6.1035156e-05, 3.0517578e-05], dtype=float32), 7.253333333333333)\n",
      "('/home/arya/Documents/jaggukaka/TTS/datasets/resampled_telugu_openslr/te_in_male/tem_02769_01245160916.wav', 'ఒక చెట్టు కింద విశ్రమించారు', 27, array([0.0000000e+00, 3.0517578e-05, 3.0517578e-05, ..., 0.0000000e+00,\n",
      "       0.0000000e+00, 0.0000000e+00], dtype=float32), 6.31469387755102)\n",
      "('/home/arya/Documents/jaggukaka/TTS/datasets/resampled_telugu_openslr/te_in_male/tem_00682_01119452993.wav', 'దీనిని చోళరాజుల కాలంలో నిర్మించినారు', 36, array([-6.1035156e-05, -6.1035156e-05,  0.0000000e+00, ...,\n",
      "        0.0000000e+00,  0.0000000e+00,  0.0000000e+00], dtype=float32), 8.704036281179139)\n",
      "('/home/arya/Documents/jaggukaka/TTS/datasets/resampled_telugu_openslr/te_in_male/tem_00682_01857477627.wav', 'రాజు గారికి ఏమీ అర్థం కాలేదు', 28, array([-3.0517578e-05,  0.0000000e+00, -3.0517578e-05, ...,\n",
      "       -1.8310547e-04, -1.2207031e-04,  0.0000000e+00], dtype=float32), 6.31469387755102)\n",
      "('/home/arya/Documents/jaggukaka/TTS/datasets/resampled_telugu_openslr/te_in_male/tem_04272_00459629548.wav', 'ఆయన స్వస్థలం శ్రీకాకుళం జిల్లా రాజాం', 36, array([-3.0517578e-05,  0.0000000e+00, -3.0517578e-05, ...,\n",
      "        0.0000000e+00, -3.0517578e-05,  0.0000000e+00], dtype=float32), 7.850702947845805)\n",
      "('/home/arya/Documents/jaggukaka/TTS/datasets/resampled_telugu_openslr/te_in_male/tem_02769_00847370578.wav', 'కంబ మహాకవి పుట్టిన ప్రదేశము', 27, array([0.        , 0.        , 0.        , ..., 0.00021362, 0.00024414,\n",
      "       0.        ], dtype=float32), 6.058684807256236)\n",
      "('/home/arya/Documents/jaggukaka/TTS/datasets/resampled_telugu_openslr/te_in_male/tem_00682_01061375880.wav', 'ది మైండ్ ఆఫ్ ఎన్ ఏప్', 20, array([-3.0517578e-05,  0.0000000e+00, -3.0517578e-05, ...,\n",
      "       -3.0517578e-05,  0.0000000e+00,  0.0000000e+00], dtype=float32), 6.058684807256236)\n",
      "('/home/arya/Documents/jaggukaka/TTS/datasets/resampled_telugu_openslr/te_in_male/tem_04771_01557856805.wav', 'పశ్చిమం వైపుగా', 14, array([ 0.0000000e+00, -6.1035156e-05, -9.1552734e-05, ...,\n",
      "       -1.8310547e-04, -1.5258789e-04, -1.8310547e-04], dtype=float32), 3.84)\n",
      "('/home/arya/Documents/jaggukaka/TTS/datasets/resampled_telugu_openslr/te_in_male/tem_02769_00589890714.wav', 'అవన్నీ నాకు తెలుసు', 18, array([0.0000000e+00, 0.0000000e+00, 0.0000000e+00, ..., 1.2207031e-04,\n",
      "       6.1035156e-05, 6.1035156e-05], dtype=float32), 5.12)\n",
      "('/home/arya/Documents/jaggukaka/TTS/datasets/resampled_telugu_openslr/te_in_male/tem_06359_01310622577.wav', 'ప్లైట్ ఇంజనీర్ గానే కదా', 23, array([-3.0517578e-05,  0.0000000e+00, -3.0517578e-05, ...,\n",
      "        0.0000000e+00,  0.0000000e+00,  0.0000000e+00], dtype=float32), 5.290702947845805)\n",
      "('/home/arya/Documents/jaggukaka/TTS/datasets/resampled_telugu_openslr/te_in_male/tem_04272_00986264022.wav', 'జిల్లాలో ముఖ్యమైన గ్రామాలలో ఇది ఒకటి', 36, array([0.0000000e+00, 3.0517578e-05, 0.0000000e+00, ..., 4.6081543e-03,\n",
      "       4.7912598e-03, 0.0000000e+00], dtype=float32), 7.9360090702947845)\n",
      "('/home/arya/Documents/jaggukaka/TTS/datasets/resampled_telugu_openslr/te_in_male/tem_00682_01489346428.wav', 'ఇది వికీ అంతర్గత విషయం కాదు', 27, array([0.        , 0.        , 0.        , ..., 0.00015259, 0.00015259,\n",
      "       0.        ], dtype=float32), 6.656009070294784)\n",
      "('/home/arya/Documents/jaggukaka/TTS/datasets/resampled_telugu_openslr/te_in_male/tem_08377_01551821694.wav', 'ఇవి నీటి పై తేలుతుండును\\\\n', 25, array([-3.0517578e-05,  0.0000000e+00, -6.1035156e-05, ...,\n",
      "        1.2207031e-04,  1.5258789e-04,  3.0517578e-05], dtype=float32), 5.546666666666667)\n",
      "('/home/arya/Documents/jaggukaka/TTS/datasets/resampled_telugu_openslr/te_in_male/tem_02769_00907385469.wav', 'ముందుగా కబంధుడు ఒక గంధర్వుడు', 28, array([0., 0., 0., ..., 0., 0., 0.], dtype=float32), 6.570702947845805)\n",
      "('/home/arya/Documents/jaggukaka/TTS/datasets/resampled_telugu_openslr/te_in_male/tem_00682_01374091248.wav', 'ట్రెపీజియస్ కండరాల గాయాలు', 25, array([-3.0517578e-05,  0.0000000e+00, -3.0517578e-05, ...,\n",
      "       -1.5258789e-04, -1.8310547e-04,  0.0000000e+00], dtype=float32), 7.424036281179139)\n",
      "('/home/arya/Documents/jaggukaka/TTS/datasets/resampled_telugu_openslr/te_in_male/tem_05479_00485408649.wav', 'క్రమంగా భూస్వాములు రాజ్యపాలన చేపట్టారు\\\\n', 40, array([6.1035156e-05, 1.2207031e-04, 9.1552734e-05, ..., 4.5776367e-04,\n",
      "       4.5776367e-04, 4.2724609e-04], dtype=float32), 8.96)\n",
      "('/home/arya/Documents/jaggukaka/TTS/datasets/resampled_telugu_openslr/te_in_male/tem_06885_00181630565.wav', 'ఇదంతా చెలం గొడవ', 15, array([-1.2207031e-04, -1.5258789e-04, -1.5258789e-04, ...,\n",
      "       -3.0517578e-05,  0.0000000e+00,  0.0000000e+00], dtype=float32), 3.9253514739229023)\n",
      "('/home/arya/Documents/jaggukaka/TTS/datasets/resampled_telugu_openslr/te_in_male/tem_04771_00309121057.wav', 'రెండు మైళ్ళలో', 13, array([-0.00033569, -0.00045776, -0.00030518, ..., -0.00018311,\n",
      "       -0.00027466,  0.        ], dtype=float32), 3.3280272108843536)\n",
      "('/home/arya/Documents/jaggukaka/TTS/datasets/resampled_telugu_openslr/te_in_male/tem_00682_00688278518.wav', 'గృహాల సంఖ్య ముప్పై మూడు', 23, array([ 3.0517578e-05,  3.0517578e-05, -3.0517578e-05, ...,\n",
      "        3.0517578e-05,  6.1035156e-05,  0.0000000e+00], dtype=float32), 6.1440362811791385)\n",
      "('/home/arya/Documents/jaggukaka/TTS/datasets/resampled_telugu_openslr/te_in_male/tem_02769_01431717067.wav', 'ఉలవ చారు  ఉలవలతో చేసే సూప్', 26, array([ 0.0000000e+00, -3.0517578e-05,  0.0000000e+00, ...,\n",
      "        0.0000000e+00,  0.0000000e+00,  0.0000000e+00], dtype=float32), 6.1440362811791385)\n",
      "('/home/arya/Documents/jaggukaka/TTS/datasets/resampled_telugu_openslr/te_in_male/tem_04771_00631348166.wav', 'యాభై గజాలలో', 11, array([ 0.0000000e+00, -3.0517578e-05,  0.0000000e+00, ...,\n",
      "        0.0000000e+00, -6.1035156e-05,  0.0000000e+00], dtype=float32), 3.669342403628118)\n",
      "('/home/arya/Documents/jaggukaka/TTS/datasets/resampled_telugu_openslr/te_in_male/tem_08377_01769914686.wav', 'దయయే చుట్టాలవలే సాయపడును\\\\n', 26, array([ 0.0000000e+00, -3.0517578e-05,  6.1035156e-05, ...,\n",
      "        6.1035156e-05,  3.0517578e-05,  0.0000000e+00], dtype=float32), 5.802675736961452)\n",
      "('/home/arya/Documents/jaggukaka/TTS/datasets/resampled_telugu_openslr/te_in_male/tem_02769_01051373263.wav', 'నేను సోనీ తిరిగి ఏం నా పునరుద్ధరణ కోసం', 38, array([ 0.0000000e+00,  0.0000000e+00,  0.0000000e+00, ...,\n",
      "       -9.1552734e-05, -6.1035156e-05,  0.0000000e+00], dtype=float32), 9.130702947845805)\n",
      "('/home/arya/Documents/jaggukaka/TTS/datasets/resampled_telugu_openslr/te_in_male/tem_02769_00470777608.wav', 'యువక్రీతుడు తపస్సు కొనసాగించాడు', 31, array([-3.0517578e-05,  0.0000000e+00, -3.0517578e-05, ...,\n",
      "        3.0517578e-05,  3.0517578e-05,  0.0000000e+00], dtype=float32), 6.912018140589569)\n",
      "('/home/arya/Documents/jaggukaka/TTS/datasets/resampled_telugu_openslr/te_in_male/tem_02769_01143765844.wav', 'అక్షరాలు మసగ్గా కనబడటం ప్రారంభిస్తాయి', 37, array([ 0.0000000e+00, -3.0517578e-05,  0.0000000e+00, ...,\n",
      "       -9.1552734e-05, -3.0517578e-05,  0.0000000e+00], dtype=float32), 8.277369614512471)\n",
      "('/home/arya/Documents/jaggukaka/TTS/datasets/resampled_telugu_openslr/te_in_male/tem_00682_00395130031.wav', 'ఆమె నిరాకరించి పారిపోయింది', 26, array([-3.0517578e-05,  0.0000000e+00, -3.0517578e-05, ...,\n",
      "       -9.1552734e-05, -9.1552734e-05,  0.0000000e+00], dtype=float32), 5.888027210884354)\n",
      "('/home/arya/Documents/jaggukaka/TTS/datasets/resampled_telugu_openslr/te_in_male/tem_04771_00134773602.wav', 'పడవలో వెళ్ళండి', 14, array([ 6.1035156e-05,  1.2207031e-04,  9.1552734e-05, ...,\n",
      "        0.0000000e+00, -3.0517578e-05,  0.0000000e+00], dtype=float32), 3.498684807256236)\n",
      "('/home/arya/Documents/jaggukaka/TTS/datasets/resampled_telugu_openslr/te_in_male/tem_06359_00148332770.wav', 'గ్రంథాలయ సర్వస్వము ఏడు', 22, array([0., 0., 0., ..., 0., 0., 0.], dtype=float32), 5.461360544217687)\n",
      "('/home/arya/Documents/jaggukaka/TTS/datasets/resampled_telugu_openslr/te_in_male/tem_04272_00770865953.wav', 'ఇటువంటి విశ్వవిద్యాలయం ప్రపంచంలో ఇది ఒకటే', 41, array([-3.0517578e-05,  0.0000000e+00, -3.0517578e-05, ...,\n",
      "       -1.3153076e-02, -1.1383057e-02,  0.0000000e+00], dtype=float32), 8.874693877551021)\n",
      "('/home/arya/Documents/jaggukaka/TTS/datasets/resampled_telugu_openslr/te_in_male/tem_02769_01604315418.wav', 'వీరి ఊరి జాతర లాంటిది', 21, array([-3.0517578e-05, -9.1552734e-05, -6.1035156e-05, ...,\n",
      "        0.0000000e+00, -3.0517578e-05,  0.0000000e+00], dtype=float32), 5.12)\n",
      "('/home/arya/Documents/jaggukaka/TTS/datasets/resampled_telugu_openslr/te_in_male/tem_06359_01688366166.wav', 'చక్కటి నిర్మాణాలు చేసారు', 24, array([0., 0., 0., ..., 0., 0., 0.], dtype=float32), 5.376009070294785)\n",
      "('/home/arya/Documents/jaggukaka/TTS/datasets/resampled_telugu_openslr/te_in_male/tem_00682_01286285726.wav', 'అనుకూలము  అనుకూలత', 17, array([-3.0517578e-05,  0.0000000e+00, -3.0517578e-05, ...,\n",
      "       -1.3427734e-03, -1.3732910e-03,  0.0000000e+00], dtype=float32), 5.632018140589569)\n",
      "('/home/arya/Documents/jaggukaka/TTS/datasets/resampled_telugu_openslr/te_in_male/tem_09584_00656031813.wav', 'నో బైలైన్ రెండు వేల ఏడు', 23, array([0.0000000e+00, 0.0000000e+00, 0.0000000e+00, ..., 9.1552734e-05,\n",
      "       1.2207031e-04, 0.0000000e+00], dtype=float32), 5.717369614512472)\n",
      "('/home/arya/Documents/jaggukaka/TTS/datasets/resampled_telugu_openslr/te_in_male/tem_04272_00261869644.wav', 'ఈ ఊరి లొ వ్యవసాయము ఎక్కువ', 25, array([ 0.        ,  0.        ,  0.        , ..., -0.00036621,\n",
      "       -0.00033569,  0.        ], dtype=float32), 5.461360544217687)\n",
      "('/home/arya/Documents/jaggukaka/TTS/datasets/resampled_telugu_openslr/te_in_male/tem_08377_01077596377.wav', 'జంతుబలులు మాత్రం సాగలేదు\\\\n', 26, array([-3.0517578e-05, -3.0517578e-05,  0.0000000e+00, ...,\n",
      "        2.4414062e-04,  3.6621094e-04,  0.0000000e+00], dtype=float32), 6.058684807256236)\n",
      "('/home/arya/Documents/jaggukaka/TTS/datasets/resampled_telugu_openslr/te_in_male/tem_02769_01281047939.wav', 'తదుపరి ఆట రసకందాయంలో పడుతుంది', 29, array([ 3.0517578e-05,  0.0000000e+00, -3.0517578e-05, ...,\n",
      "        0.0000000e+00,  0.0000000e+00,  0.0000000e+00], dtype=float32), 7.253333333333333)\n",
      "('/home/arya/Documents/jaggukaka/TTS/datasets/resampled_telugu_openslr/te_in_male/tem_02769_01994864707.wav', 'వీరిలో వీర్య సామర్థ్యం తగ్గిపోతోంది', 35, array([-3.0517578e-05,  0.0000000e+00, -3.0517578e-05, ...,\n",
      "        0.0000000e+00,  0.0000000e+00,  0.0000000e+00], dtype=float32), 8.19201814058957)\n",
      "('/home/arya/Documents/jaggukaka/TTS/datasets/resampled_telugu_openslr/te_in_male/tem_04771_00143764868.wav', 'యు-మలుపు తీసుకోండి', 18, array([-1.2207031e-04, -1.2207031e-04, -9.1552734e-05, ...,\n",
      "       -1.2207031e-04, -9.1552734e-05, -1.2207031e-04], dtype=float32), 3.84)\n",
      "('/home/arya/Documents/jaggukaka/TTS/datasets/resampled_telugu_openslr/te_in_male/tem_02769_01450549060.wav', 'వాడు నాకు అనుకూలుడు', 19, array([ 0.0000000e+00,  3.0517578e-05,  0.0000000e+00, ...,\n",
      "       -6.1035156e-05,  0.0000000e+00, -3.0517578e-05], dtype=float32), 6.4)\n",
      "('/home/arya/Documents/jaggukaka/TTS/datasets/resampled_telugu_openslr/te_in_male/tem_04272_01450199970.wav', 'ఒక్కొక్క జట్టులో ఏడు మంది ఉంటారు', 32, array([-6.1035156e-05, -9.1552734e-05, -6.1035156e-05, ...,\n",
      "        8.5754395e-03,  9.8571777e-03,  0.0000000e+00], dtype=float32), 7.424036281179139)\n",
      "('/home/arya/Documents/jaggukaka/TTS/datasets/resampled_telugu_openslr/te_in_male/tem_00682_01128459886.wav', 'వ్యాకరణ పరంగా ఇది సరైన విధానం', 29, array([-3.0517578e-05, -9.1552734e-05, -6.1035156e-05, ...,\n",
      "        1.8310547e-04,  1.5258789e-04,  0.0000000e+00], dtype=float32), 6.31469387755102)\n",
      "('/home/arya/Documents/jaggukaka/TTS/datasets/resampled_telugu_openslr/te_in_male/tem_06359_02003413416.wav', 'అల్ప కణిశములు జతలు జతలుగ ఉండును', 31, array([6.1035156e-05, 1.2207031e-04, 9.1552734e-05, ..., 1.2207031e-04,\n",
      "       3.0517578e-05, 0.0000000e+00], dtype=float32), 6.741360544217687)\n",
      "('/home/arya/Documents/jaggukaka/TTS/datasets/resampled_telugu_openslr/te_in_male/tem_04771_01791577090.wav', 'వంద మీటర్\\u200cలలో', 13, array([6.1035156e-05, 1.2207031e-04, 1.2207031e-04, ..., 1.8310547e-04,\n",
      "       2.1362305e-04, 0.0000000e+00], dtype=float32), 3.498684807256236)\n",
      "('/home/arya/Documents/jaggukaka/TTS/datasets/resampled_telugu_openslr/te_in_male/tem_09015_01282128529.wav', 'తరుణ శశాంక శఖరమరాళమునకు', 23, array([ 0.0000000e+00, -3.0517578e-05,  0.0000000e+00, ...,\n",
      "        9.1552734e-05,  6.1035156e-05,  9.1552734e-05], dtype=float32), 5.12)\n",
      "('/home/arya/Documents/jaggukaka/TTS/datasets/resampled_telugu_openslr/te_in_male/tem_00682_00958316373.wav', 'తూలికనెట్ ఒక అంతర్జాల పత్రిక', 28, array([ 0.0000000e+00, -3.0517578e-05,  0.0000000e+00, ...,\n",
      "       -9.1552734e-05, -9.1552734e-05,  0.0000000e+00], dtype=float32), 6.1440362811791385)\n",
      "('/home/arya/Documents/jaggukaka/TTS/datasets/resampled_telugu_openslr/te_in_male/tem_00113_02137769705.wav', 'స్త్రీ కూడా అంతే', 16, array([ 0.0000000e+00, -3.0517578e-05,  0.0000000e+00, ...,\n",
      "       -3.0517578e-05,  0.0000000e+00,  0.0000000e+00], dtype=float32), 4.010702947845805)\n",
      "('/home/arya/Documents/jaggukaka/TTS/datasets/resampled_telugu_openslr/te_in_male/tem_00682_00403295200.wav', 'ఇది పదమూడు సంవత్సరాలలో అత్యధికం', 31, array([-3.0517578e-05,  0.0000000e+00, -3.0517578e-05, ...,\n",
      "       -2.9907227e-03, -3.2958984e-03,  0.0000000e+00], dtype=float32), 7.424036281179139)\n",
      "('/home/arya/Documents/jaggukaka/TTS/datasets/resampled_telugu_openslr/te_in_male/tem_02769_01668577005.wav', 'మహాదేవపురం అను గ్రామము', 22, array([ 0.0000000e+00,  0.0000000e+00,  0.0000000e+00, ...,\n",
      "       -6.1035156e-05, -9.1552734e-05,  0.0000000e+00], dtype=float32), 6.570702947845805)\n",
      "('/home/arya/Documents/jaggukaka/TTS/datasets/resampled_telugu_openslr/te_in_male/tem_03338_02077850396.wav', 'వర్షోపలము అనగా వడగల్లు', 22, array([-6.1035156e-05, -9.1552734e-05, -9.1552734e-05, ...,\n",
      "        2.5939941e-03,  3.1738281e-03,  0.0000000e+00], dtype=float32), 4.864036281179138)\n",
      "('/home/arya/Documents/jaggukaka/TTS/datasets/resampled_telugu_openslr/te_in_male/tem_00682_01366661490.wav', 'రాజ్యాల సమైఖ్యత ప్రయత్నాలు మొదలయ్యాయి', 37, array([-9.1552734e-05, -1.2207031e-04, -9.1552734e-05, ...,\n",
      "        3.0517578e-05,  0.0000000e+00,  0.0000000e+00], dtype=float32), 8.874693877551021)\n",
      "('/home/arya/Documents/jaggukaka/TTS/datasets/resampled_telugu_openslr/te_in_male/tem_00682_01563248768.wav', 'కానీ వాటిపైకి నా మనసు పోలేదు', 28, array([-3.0517578e-05,  0.0000000e+00, -3.0517578e-05, ...,\n",
      "        2.1667480e-03,  2.3498535e-03,  0.0000000e+00], dtype=float32), 6.656009070294784)\n",
      "('/home/arya/Documents/jaggukaka/TTS/datasets/resampled_telugu_openslr/te_in_male/tem_02769_01005302819.wav', 'ఆ విధంగా నాటకం సాగుతుంది', 24, array([3.0517578e-05, 3.0517578e-05, 0.0000000e+00, ..., 0.0000000e+00,\n",
      "       6.1035156e-05, 0.0000000e+00], dtype=float32), 6.485351473922902)\n",
      "('/home/arya/Documents/jaggukaka/TTS/datasets/resampled_telugu_openslr/te_in_male/tem_06359_01762296397.wav', 'దీని రచయిత త్రిపురనేని గోపీచంద్', 31, array([ 0.0000000e+00,  0.0000000e+00,  0.0000000e+00, ...,\n",
      "       -6.1035156e-05,  0.0000000e+00, -1.2207031e-04], dtype=float32), 6.826666666666667)\n",
      "('/home/arya/Documents/jaggukaka/TTS/datasets/resampled_telugu_openslr/te_in_male/tem_09015_00999671506.wav', 'వారి లోకం వేరు', 14, array([ 0.0000000e+00, -3.0517578e-05,  0.0000000e+00, ...,\n",
      "        0.0000000e+00, -3.0517578e-05,  0.0000000e+00], dtype=float32), 3.84)\n",
      "('/home/arya/Documents/jaggukaka/TTS/datasets/resampled_telugu_openslr/te_in_male/tem_04771_00123751583.wav', 'తూర్పు వైపుగా', 13, array([-0.00024414, -0.00036621, -0.00036621, ..., -0.00015259,\n",
      "       -0.00027466,  0.        ], dtype=float32), 3.1573696145124717)\n",
      "('/home/arya/Documents/jaggukaka/TTS/datasets/resampled_telugu_openslr/te_in_male/tem_02769_00324658233.wav', 'అన్న పదం సామాన్య శిక్షా గుర్తు', 30, array([-3.0517578e-05, -3.0517578e-05,  0.0000000e+00, ...,\n",
      "       -3.0517578e-05,  0.0000000e+00, -3.0517578e-05], dtype=float32), 8.106666666666667)\n",
      "('/home/arya/Documents/jaggukaka/TTS/datasets/resampled_telugu_openslr/te_in_male/tem_00682_00653031845.wav', 'ఊరిలో ప్రభుత్వ ప్రాథమిక పాఠశాల ఉన్నది', 37, array([-3.0517578e-05,  0.0000000e+00, -3.0517578e-05, ...,\n",
      "       -1.8310547e-04, -1.2207031e-04,  0.0000000e+00], dtype=float32), 9.130702947845805)\n",
      "('/home/arya/Documents/jaggukaka/TTS/datasets/resampled_telugu_openslr/te_in_male/tem_00682_02078141428.wav', 'ఈయన ఎక్కువగా ఫ్రెంచి లోనూ లాటిన్ లోనూ రచనలు చేశాడు', 50, array([ 0.        ,  0.        ,  0.        , ..., -0.00015259,\n",
      "       -0.00015259, -0.00015259], dtype=float32), 11.52)\n",
      "('/home/arya/Documents/jaggukaka/TTS/datasets/resampled_telugu_openslr/te_in_male/tem_04771_01116881389.wav', ', అప్పుడు', 9, array([6.1035156e-05, 1.2207031e-04, 9.1552734e-05, ..., 3.0517578e-05,\n",
      "       3.0517578e-05, 0.0000000e+00], dtype=float32), 2.304036281179138)\n",
      "('/home/arya/Documents/jaggukaka/TTS/datasets/resampled_telugu_openslr/te_in_male/tem_02769_00784175202.wav', 'అందుకు బలమైన ఉదాహరణ ఈడిపస్ నాటకం', 32, array([-6.1035156e-05, -1.2207031e-04, -6.1035156e-05, ...,\n",
      "       -3.0517578e-05,  0.0000000e+00,  0.0000000e+00], dtype=float32), 7.082675736961451)\n",
      "('/home/arya/Documents/jaggukaka/TTS/datasets/resampled_telugu_openslr/te_in_male/tem_04771_01732999170.wav', 'మూడు మైళ్లలో', 12, array([-6.1035156e-05, -9.1552734e-05, -6.1035156e-05, ...,\n",
      "       -3.0517578e-05,  0.0000000e+00, -3.0517578e-05], dtype=float32), 3.4133333333333336)\n",
      "('/home/arya/Documents/jaggukaka/TTS/datasets/resampled_telugu_openslr/te_in_male/tem_04771_00177436924.wav', 'నూట యాభై గజాలలో', 15, array([ 3.0517578e-05,  0.0000000e+00,  3.0517578e-05, ...,\n",
      "       -9.1552734e-05, -1.8310547e-04,  0.0000000e+00], dtype=float32), 3.3280272108843536)\n",
      "('/home/arya/Documents/jaggukaka/TTS/datasets/resampled_telugu_openslr/te_in_male/tem_02769_00881577131.wav', 'అయినా జయాపజయాలు దైవాధీనాలు కదా', 30, array([ 0.0000000e+00,  0.0000000e+00,  0.0000000e+00, ...,\n",
      "        0.0000000e+00, -3.0517578e-05,  0.0000000e+00], dtype=float32), 7.253333333333333)\n",
      "('/home/arya/Documents/jaggukaka/TTS/datasets/resampled_telugu_openslr/te_in_male/tem_04771_01487682810.wav', 'నిష్క్రమించండి', 14, array([6.1035156e-05, 1.2207031e-04, 9.1552734e-05, ..., 1.2207031e-04,\n",
      "       9.1552734e-05, 0.0000000e+00], dtype=float32), 3.0720181405895692)\n",
      "('/home/arya/Documents/jaggukaka/TTS/datasets/resampled_telugu_openslr/te_in_male/tem_00682_02111552825.wav', 'శీతాకాలంలో హిమపాతం అధికంగా ఉంటుంది', 34, array([0.0000000e+00, 0.0000000e+00, 3.0517578e-05, ..., 0.0000000e+00,\n",
      "       3.0517578e-05, 0.0000000e+00], dtype=float32), 8.448027210884353)\n",
      "('/home/arya/Documents/jaggukaka/TTS/datasets/resampled_telugu_openslr/te_in_male/tem_00682_01118007483.wav', 'కళాశాల కూడా నడుస్తున్నాయి', 25, array([-3.0517578e-05,  0.0000000e+00, -3.0517578e-05, ...,\n",
      "       -3.0517578e-05,  0.0000000e+00,  0.0000000e+00], dtype=float32), 6.485351473922902)\n",
      "('/home/arya/Documents/jaggukaka/TTS/datasets/resampled_telugu_openslr/te_in_male/tem_04771_01252294154.wav', 'మూడు వందల గజాలలో', 16, array([-6.1035156e-05, -1.2207031e-04, -1.5258789e-04, ...,\n",
      "        2.1362305e-04,  1.5258789e-04,  0.0000000e+00], dtype=float32), 3.5840362811791384)\n",
      "('/home/arya/Documents/jaggukaka/TTS/datasets/resampled_telugu_openslr/te_in_male/tem_00682_00914815687.wav', 'భాష మాత్రం సమకాలీనంగా మార్చబడింది', 33, array([ 0.0000000e+00, -3.0517578e-05,  0.0000000e+00, ...,\n",
      "        0.0000000e+00,  0.0000000e+00,  0.0000000e+00], dtype=float32), 8.448027210884353)\n",
      "('/home/arya/Documents/jaggukaka/TTS/datasets/resampled_telugu_openslr/te_in_male/tem_04272_01254452994.wav', 'ఈ రాష్ట్రంలోని ముఖ్యమైన నదులు గోదావరి కృష్ణ', 43, array([-3.0517578e-05,  0.0000000e+00,  3.0517578e-05, ...,\n",
      "        2.0141602e-03,  2.0141602e-03,  0.0000000e+00], dtype=float32), 9.728027210884354)\n",
      "('/home/arya/Documents/jaggukaka/TTS/datasets/resampled_telugu_openslr/te_in_male/tem_06359_01436852128.wav', 'పదవులు కోరని పావన మూర్తీ', 24, array([ 0.0000000e+00,  0.0000000e+00,  0.0000000e+00, ...,\n",
      "        0.0000000e+00, -3.0517578e-05,  0.0000000e+00], dtype=float32), 5.205351473922902)\n",
      "('/home/arya/Documents/jaggukaka/TTS/datasets/resampled_telugu_openslr/te_in_male/tem_02769_01945873266.wav', 'చదువు అయిదువ తరగతి', 18, array([ 0.0000000e+00, -3.0517578e-05,  0.0000000e+00, ...,\n",
      "        3.0517578e-05,  9.1552734e-05,  0.0000000e+00], dtype=float32), 5.632018140589569)\n",
      "('/home/arya/Documents/jaggukaka/TTS/datasets/resampled_telugu_openslr/te_in_male/tem_02769_00438931063.wav', 'ఈ పురస్కారం క్రింద వీరికి రు', 28, array([ 0.0000000e+00, -3.0517578e-05,  0.0000000e+00, ...,\n",
      "        3.0517578e-05,  3.0517578e-05,  0.0000000e+00], dtype=float32), 6.997369614512472)\n",
      "('/home/arya/Documents/jaggukaka/TTS/datasets/resampled_telugu_openslr/te_in_male/tem_06359_00446110210.wav', 'చెర్ల అనేది జలసూచి', 18, array([0.0000000e+00, 0.0000000e+00, 0.0000000e+00, ..., 3.0517578e-05,\n",
      "       6.1035156e-05, 0.0000000e+00], dtype=float32), 5.802675736961452)\n",
      "('/home/arya/Documents/jaggukaka/TTS/datasets/resampled_telugu_openslr/te_in_male/tem_02812_01443970722.wav', 'పేదల పక్షాన ఉచితంగా వాదించేవారు', 31, array([-1.5258789e-04, -1.5258789e-04, -1.8310547e-04, ...,\n",
      "       -9.1552734e-05, -2.1362305e-04,  0.0000000e+00], dtype=float32), 8.704036281179139)\n",
      "('/home/arya/Documents/jaggukaka/TTS/datasets/resampled_telugu_openslr/te_in_male/tem_00682_01012819104.wav', 'చంపాటి చెంపాటి; ఇరవై ఏడు', 24, array([-6.1035156e-05, -1.2207031e-04, -1.2207031e-04, ...,\n",
      "       -3.0517578e-05,  0.0000000e+00,  0.0000000e+00], dtype=float32), 6.997369614512472)\n",
      "('/home/arya/Documents/jaggukaka/TTS/datasets/resampled_telugu_openslr/te_in_male/tem_02769_00022749327.wav', 'వీటిలో అనేకం తీవ్రమైన వ్యతిరేకతను చూపాయి', 40, array([-9.1552734e-05, -2.1362305e-04, -2.4414062e-04, ...,\n",
      "       -6.1035156e-05, -9.1552734e-05,  0.0000000e+00], dtype=float32), 8.704036281179139)\n",
      "('/home/arya/Documents/jaggukaka/TTS/datasets/resampled_telugu_openslr/te_in_male/tem_02769_01437581668.wav', 'నాకు ఇద్దరు కూతుళ్ళున్నారు', 26, array([-3.0517578e-05,  0.0000000e+00, -3.0517578e-05, ...,\n",
      "        0.0000000e+00,  0.0000000e+00,  0.0000000e+00], dtype=float32), 6.1440362811791385)\n",
      "('/home/arya/Documents/jaggukaka/TTS/datasets/resampled_telugu_openslr/te_in_male/tem_00682_00920318666.wav', 'లూనావాడ పట్టణం జిల్లాకేంద్రంగా ఉంది', 35, array([ 0.0000000e+00, -3.0517578e-05,  0.0000000e+00, ...,\n",
      "       -3.0517578e-05,  0.0000000e+00,  0.0000000e+00], dtype=float32), 7.594693877551021)\n",
      "('/home/arya/Documents/jaggukaka/TTS/datasets/resampled_telugu_openslr/te_in_male/tem_04771_01472659080.wav', 'ఒకటిన్నర మైళ్లలో', 16, array([-6.1035156e-05, -9.1552734e-05, -6.1035156e-05, ...,\n",
      "       -1.2207031e-04, -1.5258789e-04, -1.8310547e-04], dtype=float32), 3.4133333333333336)\n",
      "('/home/arya/Documents/jaggukaka/TTS/datasets/resampled_telugu_openslr/te_in_male/tem_02769_00347864408.wav', 'కింద వున్న దీపం కదలదు', 21, array([ 0.0000000e+00, -3.0517578e-05,  0.0000000e+00, ...,\n",
      "       -3.0517578e-05,  0.0000000e+00, -3.0517578e-05], dtype=float32), 5.973333333333334)\n",
      "('/home/arya/Documents/jaggukaka/TTS/datasets/resampled_telugu_openslr/te_in_male/tem_06359_01069224930.wav', 'దగ్గరలో రాజమండ్రి రైలుస్టేషన్ ఉంది', 34, array([ 3.0517578e-05,  3.0517578e-05,  3.0517578e-05, ...,\n",
      "       -1.2207031e-04,  0.0000000e+00, -9.1552734e-05], dtype=float32), 8.96)\n",
      "('/home/arya/Documents/jaggukaka/TTS/datasets/resampled_telugu_openslr/te_in_male/tem_00682_00089305295.wav', 'ఇందులో తమన్నా కథానాయిక', 22, array([ 6.1035156e-05,  1.5258789e-04,  1.2207031e-04, ...,\n",
      "       -6.1035156e-05, -1.2207031e-04,  0.0000000e+00], dtype=float32), 7.338684807256236)\n",
      "('/home/arya/Documents/jaggukaka/TTS/datasets/resampled_telugu_openslr/te_in_male/tem_02769_01877452066.wav', 'దాని వలన ప్రయోజనం శూన్యం', 24, array([-6.1035156e-05, -9.1552734e-05, -9.1552734e-05, ...,\n",
      "        0.0000000e+00,  0.0000000e+00,  0.0000000e+00], dtype=float32), 5.888027210884354)\n",
      "('/home/arya/Documents/jaggukaka/TTS/datasets/resampled_telugu_openslr/te_in_male/tem_04771_01762916430.wav', 'కొంచెం కుడివైపు వెళ్ళండి', 24, array([-3.0517578e-05,  0.0000000e+00, -3.0517578e-05, ...,\n",
      "        1.5258789e-04,  1.8310547e-04,  0.0000000e+00], dtype=float32), 7.168027210884354)\n",
      "('/home/arya/Documents/jaggukaka/TTS/datasets/resampled_telugu_openslr/te_in_male/tem_06359_01940434779.wav', 'ముంగండ గ్రామం అగ్రహార గ్రామం', 28, array([ 0.0000000e+00,  0.0000000e+00, -3.0517578e-05, ...,\n",
      "        6.1035156e-05,  3.0517578e-05,  6.1035156e-05], dtype=float32), 6.4)\n",
      "('/home/arya/Documents/jaggukaka/TTS/datasets/resampled_telugu_openslr/te_in_male/tem_02769_00708173019.wav', 'మద్రాసు యూనివర్శిటీలో ఎంఏ', 25, array([0., 0., 0., ..., 0., 0., 0.], dtype=float32), 6.656009070294784)\n",
      "('/home/arya/Documents/jaggukaka/TTS/datasets/resampled_telugu_openslr/te_in_male/tem_00682_00645718291.wav', 'మిర్యాలగూడ ఈ ఊరికి వాణిజ్య కేంద్రం', 34, array([-0.00018311, -0.00027466, -0.00024414, ..., -0.00042725,\n",
      "       -0.00045776,  0.        ], dtype=float32), 8.789342403628117)\n",
      "('/home/arya/Documents/jaggukaka/TTS/datasets/resampled_telugu_openslr/te_in_male/tem_02769_01481120019.wav', 'హదోతి భూభాగంలో ఇది ప్రముఖ్యత కలిగిన నది', 39, array([-1.8310547e-04, -2.7465820e-04, -2.7465820e-04, ...,\n",
      "       -6.1035156e-05, -9.1552734e-05,  0.0000000e+00], dtype=float32), 9.898684807256236)\n",
      "('/home/arya/Documents/jaggukaka/TTS/datasets/resampled_telugu_openslr/te_in_male/tem_00682_00332533889.wav', 'అలాగే జగత్తు కూడా', 17, array([ 0.0000000e+00,  0.0000000e+00, -3.0517578e-05, ...,\n",
      "       -1.2207031e-04, -1.8310547e-04,  0.0000000e+00], dtype=float32), 5.03469387755102)\n",
      "('/home/arya/Documents/jaggukaka/TTS/datasets/resampled_telugu_openslr/te_in_male/tem_02769_01573597946.wav', 'ఇంటర్నెట్ మూవీ డేటాబేస్ లో వై', 29, array([ 0.0000000e+00, -3.0517578e-05,  0.0000000e+00, ...,\n",
      "        0.0000000e+00,  0.0000000e+00,  0.0000000e+00], dtype=float32), 6.570702947845805)\n",
      "('/home/arya/Documents/jaggukaka/TTS/datasets/resampled_telugu_openslr/te_in_male/tem_08377_01586000738.wav', 'వేళ్ళు పొడువుగా ఉన్నాయి\\\\n', 25, array([-0.00012207, -0.00018311, -0.00021362, ..., -0.00027466,\n",
      "       -0.00018311,  0.        ], dtype=float32), 5.632018140589569)\n",
      "('/home/arya/Documents/jaggukaka/TTS/datasets/resampled_telugu_openslr/te_in_male/tem_06917_00348923321.wav', 'హిందూ సంఘం ఒక కులాల కూటమి', 25, array([ 0.0000000e+00, -3.0517578e-05,  0.0000000e+00, ...,\n",
      "        0.0000000e+00, -3.0517578e-05,  0.0000000e+00], dtype=float32), 6.2293424036281175)\n",
      "('/home/arya/Documents/jaggukaka/TTS/datasets/resampled_telugu_openslr/te_in_male/tem_00682_01032255913.wav', 'ఇప్పటికీ వాటి అన్వేషణ సాగుతూనే ఉంది', 35, array([-9.1552734e-05, -9.1552734e-05,  0.0000000e+00, ...,\n",
      "       -1.4343262e-03, -1.4953613e-03,  0.0000000e+00], dtype=float32), 7.509342403628118)\n",
      "('/home/arya/Documents/jaggukaka/TTS/datasets/resampled_telugu_openslr/te_in_male/tem_00682_01790073540.wav', 'ప్రధాన పరీక్షలు టర్మ్ చివరలో ఉంటాయి', 35, array([ 0.0000000e+00,  3.0517578e-05,  3.0517578e-05, ...,\n",
      "        0.0000000e+00, -3.0517578e-05,  0.0000000e+00], dtype=float32), 8.618684807256235)\n",
      "('/home/arya/Documents/jaggukaka/TTS/datasets/resampled_telugu_openslr/te_in_male/tem_02769_00733971605.wav', 'విడదీయటం అతివేగంగా జరుగుతుంది', 29, array([ 0.0000000e+00,  3.0517578e-05,  0.0000000e+00, ...,\n",
      "        0.0000000e+00, -3.0517578e-05,  0.0000000e+00], dtype=float32), 6.656009070294784)\n",
      "('/home/arya/Documents/jaggukaka/TTS/datasets/resampled_telugu_openslr/te_in_male/tem_00974_01409881350.wav', 'మదర్స్ డే పై', 12, array([-3.0517578e-05, -6.1035156e-05, -6.1035156e-05, ...,\n",
      "        2.4414062e-04,  2.1362305e-04,  2.4414062e-04], dtype=float32), 2.56)\n",
      "('/home/arya/Documents/jaggukaka/TTS/datasets/resampled_telugu_openslr/te_in_male/tem_00682_00580492702.wav', 'మా ఊరి పేరు ఒమ్మంగి', 19, array([-3.0517578e-05,  0.0000000e+00, -3.0517578e-05, ...,\n",
      "        2.7465820e-04,  3.0517578e-04,  0.0000000e+00], dtype=float32), 5.03469387755102)\n",
      "('/home/arya/Documents/jaggukaka/TTS/datasets/resampled_telugu_openslr/te_in_male/tem_08377_00400863426.wav', 'దీనిని తటస్థీకరణము అందురు\\\\n', 27, array([-6.1035156e-05,  6.1035156e-05,  0.0000000e+00, ...,\n",
      "        3.0517578e-04,  2.4414062e-04,  0.0000000e+00], dtype=float32), 6.31469387755102)\n",
      "('/home/arya/Documents/jaggukaka/TTS/datasets/resampled_telugu_openslr/te_in_male/tem_09015_01754047322.wav', 'సౌభాగ్యవతియైన మా అక్క', 21, array([ 0.0000000e+00,  0.0000000e+00,  0.0000000e+00, ...,\n",
      "       -3.0517578e-05,  0.0000000e+00,  0.0000000e+00], dtype=float32), 4.608027210884353)\n",
      "('/home/arya/Documents/jaggukaka/TTS/datasets/resampled_telugu_openslr/te_in_male/tem_00682_00269029535.wav', 'కాయలో గింజశాతం నలభై ఏడు% వుండును', 32, array([-3.0517578e-05,  0.0000000e+00, -3.0517578e-05, ...,\n",
      "       -4.2724609e-04, -3.9672852e-04, -4.2724609e-04], dtype=float32), 10.24)\n",
      "('/home/arya/Documents/jaggukaka/TTS/datasets/resampled_telugu_openslr/te_in_male/tem_02769_00623429733.wav', 'ఇక్కడ భైరవేశ్వరాలయం ఉంది', 24, array([ 0.0000000e+00,  3.0517578e-05,  0.0000000e+00, ...,\n",
      "       -6.1035156e-05,  0.0000000e+00,  0.0000000e+00], dtype=float32), 6.912018140589569)\n",
      "('/home/arya/Documents/jaggukaka/TTS/datasets/resampled_telugu_openslr/te_in_male/tem_02769_01994127260.wav', 'బినా నది బెత్వానదికి ఉపనదిగా ఉంది', 33, array([-1.2207031e-04, -1.8310547e-04, -1.5258789e-04, ...,\n",
      "        3.0517578e-05,  3.0517578e-05,  0.0000000e+00], dtype=float32), 7.68)\n",
      "('/home/arya/Documents/jaggukaka/TTS/datasets/resampled_telugu_openslr/te_in_male/tem_02769_01668753772.wav', 'ఈ విభాగాలు పునః ప్రసారము అవుతాయి', 32, array([ 0.0000000e+00,  0.0000000e+00,  0.0000000e+00, ...,\n",
      "       -9.1552734e-05, -9.1552734e-05,  0.0000000e+00], dtype=float32), 7.338684807256236)\n",
      "('/home/arya/Documents/jaggukaka/TTS/datasets/resampled_telugu_openslr/te_in_male/tem_02769_00294965501.wav', 'గృహాల సంఖ్య నలభై ఆరు', 20, array([ 0.0000000e+00,  0.0000000e+00,  0.0000000e+00, ...,\n",
      "       -3.0517578e-05,  0.0000000e+00, -3.0517578e-05], dtype=float32), 5.546666666666667)\n",
      "('/home/arya/Documents/jaggukaka/TTS/datasets/resampled_telugu_openslr/te_in_male/tem_06359_01862654014.wav', 'ఈ వ్యాధి ప్రాణాంతకం కాదు', 24, array([-3.0517578e-05,  0.0000000e+00, -3.0517578e-05, ...,\n",
      "        7.6293945e-04,  6.4086914e-04,  0.0000000e+00], dtype=float32), 7.9360090702947845)\n",
      "('/home/arya/Documents/jaggukaka/TTS/datasets/resampled_telugu_openslr/te_in_male/tem_00682_01945797102.wav', 'దీనిని ఆఫ్రికా లో ఆహార పంటగా పండిస్తారు', 39, array([-6.1035156e-05, -9.1552734e-05, -6.1035156e-05, ...,\n",
      "       -9.1552734e-05, -1.2207031e-04,  0.0000000e+00], dtype=float32), 8.789342403628117)\n",
      "('/home/arya/Documents/jaggukaka/TTS/datasets/resampled_telugu_openslr/te_in_male/tem_06359_00277485624.wav', 'ఒక సుందరి కనిపించింది', 21, array([0., 0., 0., ..., 0., 0., 0.], dtype=float32), 6.656009070294784)\n",
      "('/home/arya/Documents/jaggukaka/TTS/datasets/resampled_telugu_openslr/te_in_male/tem_02769_01786297256.wav', 'వీరికి ఒక కుమారుడు మరియు ఒక కుమార్తె', 36, array([-3.0517578e-05,  0.0000000e+00, -3.0517578e-05, ...,\n",
      "        0.0000000e+00, -3.0517578e-05,  0.0000000e+00], dtype=float32), 7.765351473922903)\n",
      "('/home/arya/Documents/jaggukaka/TTS/datasets/resampled_telugu_openslr/te_in_male/tem_00682_01000111462.wav', 'స్పష్టతతో గూడినది వివరించాడు', 28, array([ 0.0000000e+00,  0.0000000e+00, -3.0517578e-05, ...,\n",
      "       -1.9531250e-03, -1.1901855e-03,  0.0000000e+00], dtype=float32), 6.1440362811791385)\n",
      "('/home/arya/Documents/jaggukaka/TTS/datasets/resampled_telugu_openslr/te_in_male/tem_02769_01248688961.wav', 'ఇదంతా ఒకప్పటి సంగతి', 19, array([ 0.0000000e+00, -3.0517578e-05,  0.0000000e+00, ...,\n",
      "        0.0000000e+00,  0.0000000e+00,  0.0000000e+00], dtype=float32), 5.546666666666667)\n",
      "('/home/arya/Documents/jaggukaka/TTS/datasets/resampled_telugu_openslr/te_in_male/tem_06359_00054733629.wav', 'వారికి నాలుగురు పిల్లలు', 23, array([-6.1035156e-05, -9.1552734e-05, -6.1035156e-05, ...,\n",
      "       -9.1552734e-05, -9.1552734e-05,  0.0000000e+00], dtype=float32), 5.888027210884354)\n",
      "('/home/arya/Documents/jaggukaka/TTS/datasets/resampled_telugu_openslr/te_in_male/tem_04771_00597594427.wav', 'అయిదు వందల అడుగుల్లో', 20, array([-0.00012207, -0.00018311, -0.00015259, ..., -0.00024414,\n",
      "       -0.00027466,  0.        ], dtype=float32), 4.949342403628118)\n",
      "('/home/arya/Documents/jaggukaka/TTS/datasets/resampled_telugu_openslr/te_in_male/tem_02769_00678461907.wav', 'తాజా పరిణామాల నేపథ్యంలో', 23, array([-6.1035156e-05, -3.0517578e-05,  0.0000000e+00, ...,\n",
      "       -3.0517578e-05,  0.0000000e+00, -3.0517578e-05], dtype=float32), 5.973333333333334)\n",
      "('/home/arya/Documents/jaggukaka/TTS/datasets/resampled_telugu_openslr/te_in_male/tem_00682_00546682909.wav', 'మన కంట్లో ఒక కటకం  ఉంటుంది', 26, array([ 0.0000000e+00,  0.0000000e+00,  0.0000000e+00, ...,\n",
      "       -3.0517578e-05,  0.0000000e+00, -3.0517578e-05], dtype=float32), 5.546666666666667)\n",
      "('/home/arya/Documents/jaggukaka/TTS/datasets/resampled_telugu_openslr/te_in_male/tem_00682_00143918275.wav', 'ఆ ప్రక్రియ ఎలా సాగిందో చూద్దాం', 30, array([-3.0517578e-05,  0.0000000e+00,  6.1035156e-05, ...,\n",
      "       -9.1552734e-05, -3.0517578e-05,  0.0000000e+00], dtype=float32), 6.912018140589569)\n",
      "('/home/arya/Documents/jaggukaka/TTS/datasets/resampled_telugu_openslr/te_in_male/tem_00682_00911062561.wav', 'ఇది ముగ్గురు కళాకారులచేత చెప్పబడుతుంది', 38, array([-3.0517578e-05, -6.1035156e-05,  0.0000000e+00, ...,\n",
      "       -4.5776367e-04, -5.7983398e-04,  0.0000000e+00], dtype=float32), 9.130702947845805)\n",
      "('/home/arya/Documents/jaggukaka/TTS/datasets/resampled_telugu_openslr/te_in_male/tem_00682_01537231382.wav', 'నారాయణ భట్టు వాఙ్మయదురంధరుడు', 28, array([5.1879883e-04, 9.7656250e-04, 2.1362305e-04, ..., 3.0517578e-05,\n",
      "       3.0517578e-05, 0.0000000e+00], dtype=float32), 11.946666666666667)\n",
      "('/home/arya/Documents/jaggukaka/TTS/datasets/resampled_telugu_openslr/te_in_male/tem_00682_00185834466.wav', 'రక్తము తీయు', 11, array([-3.0517578e-05,  0.0000000e+00, -3.0517578e-05, ...,\n",
      "       -6.1035156e-05, -9.1552734e-05,  0.0000000e+00], dtype=float32), 4.181360544217687)\n",
      "('/home/arya/Documents/jaggukaka/TTS/datasets/resampled_telugu_openslr/te_in_male/tem_09015_00010795377.wav', 'వారి పోకడ వేరు', 14, array([ 0.0000000e+00, -3.0517578e-05,  0.0000000e+00, ...,\n",
      "       -9.1552734e-05, -9.1552734e-05,  0.0000000e+00], dtype=float32), 3.7546938775510204)\n",
      "('/home/arya/Documents/jaggukaka/TTS/datasets/resampled_telugu_openslr/te_in_male/tem_00682_01264324394.wav', 'ఇంటర్నేషనల్ క్రిమినల్ కోర్ట్', 28, array([-3.0517578e-05, -9.1552734e-05, -9.1552734e-05, ...,\n",
      "        1.2207031e-04,  1.2207031e-04,  0.0000000e+00], dtype=float32), 6.058684807256236)\n",
      "('/home/arya/Documents/jaggukaka/TTS/datasets/resampled_telugu_openslr/te_in_male/tem_00682_00025627195.wav', 'పెళ్ళి దాకా వెళుతుంది', 21, array([ 0.0000000e+00, -3.0517578e-05,  0.0000000e+00, ...,\n",
      "        0.0000000e+00,  6.1035156e-05,  0.0000000e+00], dtype=float32), 5.205351473922902)\n",
      "('/home/arya/Documents/jaggukaka/TTS/datasets/resampled_telugu_openslr/te_in_male/tem_00682_01066137633.wav', 'ఇది ఒక సాంప్రదాయము', 18, array([0.0000000e+00, 3.0517578e-05, 3.0517578e-05, ..., 2.4414062e-04,\n",
      "       2.4414062e-04, 0.0000000e+00], dtype=float32), 5.376009070294785)\n",
      "('/home/arya/Documents/jaggukaka/TTS/datasets/resampled_telugu_openslr/te_in_male/tem_06359_01582115325.wav', 'గరుడ బేతరాజు క్రీ', 17, array([0.0000000e+00, 3.0517578e-05, 3.0517578e-05, ..., 7.3242188e-04,\n",
      "       6.7138672e-04, 7.9345703e-04], dtype=float32), 3.84)\n",
      "('/home/arya/Documents/jaggukaka/TTS/datasets/resampled_telugu_openslr/te_in_male/tem_00682_01440888206.wav', 'నగరం అంతా ఆ రోజు పండుగ వాతావరణంలో ఉంది', 38, array([ 0.0000000e+00, -3.0517578e-05,  0.0000000e+00, ...,\n",
      "       -4.5776367e-04, -4.2724609e-04, -4.5776367e-04], dtype=float32), 9.813333333333333)\n",
      "('/home/arya/Documents/jaggukaka/TTS/datasets/resampled_telugu_openslr/te_in_male/tem_00682_01878996051.wav', 'సత్యంబులచేత మిము మెప్పించెదనంటినా', 33, array([-3.0517578e-05,  0.0000000e+00, -3.0517578e-05, ...,\n",
      "        7.9345703e-04,  7.6293945e-04,  0.0000000e+00], dtype=float32), 8.277369614512471)\n",
      "('/home/arya/Documents/jaggukaka/TTS/datasets/resampled_telugu_openslr/te_in_male/tem_00682_00879730759.wav', 'దానితో వారు అక్కడ దేవాలయం నిర్మించారు', 37, array([ 0.0000000e+00, -3.0517578e-05,  0.0000000e+00, ...,\n",
      "        0.0000000e+00, -3.0517578e-05,  0.0000000e+00], dtype=float32), 9.130702947845805)\n",
      "('/home/arya/Documents/jaggukaka/TTS/datasets/resampled_telugu_openslr/te_in_male/tem_00682_01210254214.wav', 'అంధుడికి చూపు వచ్చింది', 22, array([-3.0517578e-05,  0.0000000e+00, -3.0517578e-05, ...,\n",
      "       -1.5258789e-04, -1.8310547e-04, -2.1362305e-04], dtype=float32), 6.4)\n",
      "('/home/arya/Documents/jaggukaka/TTS/datasets/resampled_telugu_openslr/te_in_male/tem_00682_00698312187.wav', 'నిర్ణయించుకునే శక్తి లభిస్తుంది', 31, array([ 0.0000000e+00, -3.0517578e-05,  0.0000000e+00, ...,\n",
      "        0.0000000e+00,  0.0000000e+00,  0.0000000e+00], dtype=float32), 7.850702947845805)\n",
      "('/home/arya/Documents/jaggukaka/TTS/datasets/resampled_telugu_openslr/te_in_male/tem_02769_01589698399.wav', 'ఆయన ప్రధాన కార్యాలయం చత్రాలో ఉంది', 33, array([-3.0517578e-05,  0.0000000e+00, -6.1035156e-05, ...,\n",
      "       -9.1552734e-05, -6.1035156e-05, -9.1552734e-05], dtype=float32), 7.68)\n",
      "('/home/arya/Documents/jaggukaka/TTS/datasets/resampled_telugu_openslr/te_in_male/tem_04272_01964476357.wav', 'ఈ గ్రామములో ఒక ఉన్నత పాఠశాల కలదు', 32, array([ 0.        ,  0.        ,  0.        , ..., -0.00469971,\n",
      "       -0.00476074, -0.00537109], dtype=float32), 6.826666666666667)\n",
      "('/home/arya/Documents/jaggukaka/TTS/datasets/resampled_telugu_openslr/te_in_male/tem_02769_01571233891.wav', 'ఇది మూర్ఖత్వం కాక మరేమిటి', 25, array([-3.0517578e-05, -9.1552734e-05, -9.1552734e-05, ...,\n",
      "       -9.1552734e-05, -1.2207031e-04,  0.0000000e+00], dtype=float32), 6.31469387755102)\n",
      "('/home/arya/Documents/jaggukaka/TTS/datasets/resampled_telugu_openslr/te_in_male/tem_00682_01549963578.wav', 'జయరాజు సింగరేణిపోరాటాలకు సైరనై మోగిండు', 38, array([-3.0517578e-05,  0.0000000e+00, -3.0517578e-05, ...,\n",
      "       -1.5258789e-04, -1.5258789e-04, -9.1552734e-05], dtype=float32), 8.96)\n",
      "('/home/arya/Documents/jaggukaka/TTS/datasets/resampled_telugu_openslr/te_in_male/tem_06359_01966847577.wav', 'నియమం నాలుగు స్కోరర్లు', 22, array([-6.1035156e-05, -1.2207031e-04, -1.2207031e-04, ...,\n",
      "       -3.0517578e-05,  0.0000000e+00,  0.0000000e+00], dtype=float32), 4.949342403628118)\n",
      "('/home/arya/Documents/jaggukaka/TTS/datasets/resampled_telugu_openslr/te_in_male/tem_02769_01359599525.wav', 'ఓడ/గెరిసె /బొట్ట మొదలగునవి', 26, array([ 0.0000000e+00,  0.0000000e+00,  0.0000000e+00, ...,\n",
      "       -9.1552734e-05, -9.1552734e-05,  0.0000000e+00], dtype=float32), 7.424036281179139)\n",
      "('/home/arya/Documents/jaggukaka/TTS/datasets/resampled_telugu_openslr/te_in_male/tem_06359_01501663493.wav', 'తల్లి సరస్వతీ బాలన్', 19, array([0., 0., 0., ..., 0., 0., 0.], dtype=float32), 4.522675736961451)\n",
      "('/home/arya/Documents/jaggukaka/TTS/datasets/resampled_telugu_openslr/te_in_male/tem_00682_00759056784.wav', 'కాటన్ ఇంగ్లండు వెళ్ళిపోయాడు', 27, array([-3.0517578e-05,  0.0000000e+00, -3.0517578e-05, ...,\n",
      "       -2.4414062e-04, -2.1362305e-04,  0.0000000e+00], dtype=float32), 7.594693877551021)\n",
      "('/home/arya/Documents/jaggukaka/TTS/datasets/resampled_telugu_openslr/te_in_male/tem_09584_00623362162.wav', 'రాగమయీ రావే అనురాగమయీ రావే', 26, array([-6.1035156e-05, -9.1552734e-05, -6.1035156e-05, ...,\n",
      "       -3.0517578e-05,  3.0517578e-05,  0.0000000e+00], dtype=float32), 5.717369614512472)\n",
      "('/home/arya/Documents/jaggukaka/TTS/datasets/resampled_telugu_openslr/te_in_male/tem_00682_00166722817.wav', 'దీని సూచిక', 10, array([ 0.0000000e+00, -3.0517578e-05,  0.0000000e+00, ...,\n",
      "        3.0517578e-05,  3.0517578e-05,  0.0000000e+00], dtype=float32), 4.778684807256236)\n",
      "('/home/arya/Documents/jaggukaka/TTS/datasets/resampled_telugu_openslr/te_in_male/tem_00113_00679415520.wav', 'గరుడ బేతరాజు క్రీ', 17, array([0., 0., 0., ..., 0., 0., 0.], dtype=float32), 4.693333333333333)\n",
      "('/home/arya/Documents/jaggukaka/TTS/datasets/resampled_telugu_openslr/te_in_male/tem_04272_01126910887.wav', 'ఇక్కడ ముఖ్యమైన పంటలు వరి మొక్కజొన్న', 35, array([ 0.0000000e+00,  0.0000000e+00, -3.0517578e-05, ...,\n",
      "        1.5869141e-03,  1.8310547e-03,  0.0000000e+00], dtype=float32), 8.448027210884353)\n",
      "('/home/arya/Documents/jaggukaka/TTS/datasets/resampled_telugu_openslr/te_in_male/tem_00682_01178028163.wav', 'సముద్ర మరియు స్కై', 17, array([ 0.0000000e+00,  3.0517578e-05,  0.0000000e+00, ...,\n",
      "       -3.0517578e-05, -9.1552734e-05, -9.1552734e-05], dtype=float32), 5.12)\n",
      "('/home/arya/Documents/jaggukaka/TTS/datasets/resampled_telugu_openslr/te_in_male/tem_04272_00969199719.wav', 'ఈ నెల గణాంకాలు వచ్చాయి చూడండి', 29, array([ 0.0000000e+00,  3.0517578e-05,  3.0517578e-05, ...,\n",
      "       -2.7465820e-04, -3.3569336e-04,  0.0000000e+00], dtype=float32), 6.570702947845805)\n",
      "('/home/arya/Documents/jaggukaka/TTS/datasets/resampled_telugu_openslr/te_in_male/tem_06917_00181923777.wav', 'ఆ సందర్భంలో ఈ సామెతను వాడుతారు', 30, array([ 0.0000000e+00,  0.0000000e+00, -3.0517578e-05, ...,\n",
      "        3.0517578e-05,  6.1035156e-05,  0.0000000e+00], dtype=float32), 7.082675736961451)\n",
      "('/home/arya/Documents/jaggukaka/TTS/datasets/resampled_telugu_openslr/te_in_male/tem_04771_01853220937.wav', 'అర మైలులో', 9, array([ 3.0517578e-05,  3.0517578e-05,  3.0517578e-05, ...,\n",
      "       -9.1552734e-05, -1.2207031e-04,  0.0000000e+00], dtype=float32), 2.6453514739229025)\n",
      "('/home/arya/Documents/jaggukaka/TTS/datasets/resampled_telugu_openslr/te_in_male/tem_02769_00318232318.wav', 'సరళరేఖాకార చారలు ఏర్పడతాయి', 26, array([-3.0517578e-05,  0.0000000e+00, -3.0517578e-05, ...,\n",
      "       -9.1552734e-05, -6.1035156e-05, -9.1552734e-05], dtype=float32), 6.4)\n",
      "('/home/arya/Documents/jaggukaka/TTS/datasets/resampled_telugu_openslr/te_in_male/tem_00682_01220644837.wav', 'కపిల గోవు దానం చేయాలి', 21, array([-9.1552734e-05, -9.1552734e-05,  0.0000000e+00, ...,\n",
      "       -8.2397461e-04, -9.1552734e-04,  0.0000000e+00], dtype=float32), 5.205351473922902)\n",
      "('/home/arya/Documents/jaggukaka/TTS/datasets/resampled_telugu_openslr/te_in_male/tem_00682_00946085014.wav', 'ఇది ఒక ఉదాహరణ జవాబు మాత్రమే', 27, array([0.        , 0.        , 0.        , ..., 0.00018311, 0.00024414,\n",
      "       0.00018311], dtype=float32), 5.973333333333334)\n",
      "('/home/arya/Documents/jaggukaka/TTS/datasets/resampled_telugu_openslr/te_in_male/tem_02769_00978088250.wav', 'స్వేచ్ఛకు అడ్డు తగిలేది', 23, array([ 3.0517578e-05,  0.0000000e+00, -3.0517578e-05, ...,\n",
      "        0.0000000e+00, -3.0517578e-05,  0.0000000e+00], dtype=float32), 5.546666666666667)\n",
      "('/home/arya/Documents/jaggukaka/TTS/datasets/resampled_telugu_openslr/te_in_male/tem_00682_00214604261.wav', 'ఫలితంగా చివరకు అది కనుగొనబడుతుంది', 33, array([ 0.0000000e+00, -3.0517578e-05,  0.0000000e+00, ...,\n",
      "       -3.0517578e-04, -3.6621094e-04,  0.0000000e+00], dtype=float32), 7.082675736961451)\n",
      "('/home/arya/Documents/jaggukaka/TTS/datasets/resampled_telugu_openslr/te_in_male/tem_02769_01277565369.wav', 'హదీసులలో సంపూర్ణంగా వివరింపబడింది', 33, array([ 0.0000000e+00,  0.0000000e+00,  0.0000000e+00, ...,\n",
      "       -3.0517578e-05, -3.0517578e-05,  0.0000000e+00], dtype=float32), 7.509342403628118)\n",
      "('/home/arya/Documents/jaggukaka/TTS/datasets/resampled_telugu_openslr/te_in_male/tem_04771_00724259286.wav', 'అలాగే కొనసాగండి', 15, array([-0.00015259, -0.00018311, -0.00015259, ..., -0.00015259,\n",
      "       -0.00018311,  0.        ], dtype=float32), 3.3280272108843536)\n",
      "('/home/arya/Documents/jaggukaka/TTS/datasets/resampled_telugu_openslr/te_in_male/tem_02769_00841811587.wav', 'పంటలు నీటిపారుదల వర్షం ఆధారపడి ఉంటాయి', 37, array([-3.0517578e-05,  0.0000000e+00, -3.0517578e-05, ...,\n",
      "        0.0000000e+00, -3.0517578e-05,  0.0000000e+00], dtype=float32), 8.618684807256235)\n",
      "('/home/arya/Documents/jaggukaka/TTS/datasets/resampled_telugu_openslr/te_in_male/tem_00682_00760591038.wav', 'రెండు తూములను ఇద్దుము అంటారు', 28, array([-3.0517578e-05,  0.0000000e+00, -3.0517578e-05, ...,\n",
      "        3.3569336e-04,  3.9672852e-04,  0.0000000e+00], dtype=float32), 7.338684807256236)\n",
      "('/home/arya/Documents/jaggukaka/TTS/datasets/resampled_telugu_openslr/te_in_male/tem_04771_01631615741.wav', 'ఉత్తరం వైపుగా', 13, array([-1.5258789e-04, -1.8310547e-04, -2.4414062e-04, ...,\n",
      "       -1.2207031e-04, -9.1552734e-05,  0.0000000e+00], dtype=float32), 4.096009070294785)\n",
      "('/home/arya/Documents/jaggukaka/TTS/datasets/resampled_telugu_openslr/te_in_male/tem_00113_01804514359.wav', 'మదర్స్ డే పై', 12, array([ 0.0000000e+00,  0.0000000e+00,  0.0000000e+00, ...,\n",
      "        0.0000000e+00, -3.0517578e-05,  0.0000000e+00], dtype=float32), 3.3280272108843536)\n",
      "('/home/arya/Documents/jaggukaka/TTS/datasets/resampled_telugu_openslr/te_in_male/tem_03338_00055306532.wav', 'నీకా ఈ దురవస్థ', 14, array([-3.0517578e-05,  0.0000000e+00, -3.0517578e-05, ...,\n",
      "       -3.6926270e-03, -4.0588379e-03,  0.0000000e+00], dtype=float32), 3.0720181405895692)\n",
      "('/home/arya/Documents/jaggukaka/TTS/datasets/resampled_telugu_openslr/te_in_male/tem_04272_00277544233.wav', 'ఈ గ్రామంలో ప్రాథమిక పాఠశాలలు మూడు కలవు', 38, array([-3.0517578e-05,  0.0000000e+00, -3.0517578e-05, ...,\n",
      "        3.6010742e-03,  3.6010742e-03,  0.0000000e+00], dtype=float32), 8.789342403628117)\n",
      "('/home/arya/Documents/jaggukaka/TTS/datasets/resampled_telugu_openslr/te_in_male/tem_00682_01578673422.wav', 'ఇక్కడి భాష తెలుగు', 17, array([ 0.0000000e+00, -3.0517578e-05,  0.0000000e+00, ...,\n",
      "       -1.8310547e-04, -9.1552734e-05,  0.0000000e+00], dtype=float32), 4.778684807256236)\n",
      "('/home/arya/Documents/jaggukaka/TTS/datasets/resampled_telugu_openslr/te_in_male/tem_03338_00908316960.wav', 'కాలము జరుపు', 11, array([-3.0517578e-05,  0.0000000e+00, -6.1035156e-05, ...,\n",
      "       -6.7138672e-03, -6.4697266e-03, -7.1105957e-03], dtype=float32), 2.56)\n",
      "('/home/arya/Documents/jaggukaka/TTS/datasets/resampled_telugu_openslr/te_in_male/tem_06359_01949396523.wav', 'నేటి నిజం దినపత్రిక', 19, array([0., 0., 0., ..., 0., 0., 0.], dtype=float32), 4.522675736961451)\n",
      "('/home/arya/Documents/jaggukaka/TTS/datasets/resampled_telugu_openslr/te_in_male/tem_02769_00462000380.wav', 'దీని మీదస్ను రోమములు గలవు', 25, array([0.0000000e+00, 0.0000000e+00, 0.0000000e+00, ..., 0.0000000e+00,\n",
      "       3.0517578e-05, 0.0000000e+00], dtype=float32), 6.31469387755102)\n",
      "('/home/arya/Documents/jaggukaka/TTS/datasets/resampled_telugu_openslr/te_in_male/tem_06359_01106891079.wav', 'మరియు ఔషధములలో వాడుదురు', 23, array([ 0.0000000e+00,  0.0000000e+00,  0.0000000e+00, ...,\n",
      "       -3.0517578e-05, -3.0517578e-05,  0.0000000e+00], dtype=float32), 5.290702947845805)\n",
      "('/home/arya/Documents/jaggukaka/TTS/datasets/resampled_telugu_openslr/te_in_male/tem_06359_01496468478.wav', 'మన దేశానికి వచ్చినప్పుడు', 24, array([ 0.0000000e+00, -3.0517578e-05,  0.0000000e+00, ...,\n",
      "       -6.1035156e-05, -9.1552734e-05,  0.0000000e+00], dtype=float32), 6.2293424036281175)\n",
      "('/home/arya/Documents/jaggukaka/TTS/datasets/resampled_telugu_openslr/te_in_male/tem_09015_01931543917.wav', 'మదర్స్ డే పై', 12, array([0.0000000e+00, 0.0000000e+00, 0.0000000e+00, ..., 6.1035156e-05,\n",
      "       6.1035156e-05, 0.0000000e+00], dtype=float32), 3.0720181405895692)\n",
      "('/home/arya/Documents/jaggukaka/TTS/datasets/resampled_telugu_openslr/te_in_male/tem_00682_00925223181.wav', 'బొంత చామలు మెట్ట పంట', 20, array([0.0000000e+00, 3.0517578e-05, 0.0000000e+00, ..., 2.1362305e-04,\n",
      "       1.8310547e-04, 0.0000000e+00], dtype=float32), 5.802675736961452)\n",
      "('/home/arya/Documents/jaggukaka/TTS/datasets/resampled_telugu_openslr/te_in_male/tem_00682_00988497116.wav', 'శక్తి పదిహేడు కిలో కాలరీలు', 26, array([-3.0517578e-05,  0.0000000e+00, -3.0517578e-05, ...,\n",
      "        0.0000000e+00, -3.0517578e-05,  0.0000000e+00], dtype=float32), 6.741360544217687)\n",
      "('/home/arya/Documents/jaggukaka/TTS/datasets/resampled_telugu_openslr/te_in_male/tem_02769_00931689483.wav', 'అంధక వంశమున కృష్ణుఁడు పుట్టెను', 30, array([ 0.0000000e+00,  0.0000000e+00,  0.0000000e+00, ...,\n",
      "        0.0000000e+00, -3.0517578e-05,  0.0000000e+00], dtype=float32), 7.168027210884354)\n",
      "('/home/arya/Documents/jaggukaka/TTS/datasets/resampled_telugu_openslr/te_in_male/tem_02769_00541745279.wav', 'నేలలో పొడుగుగా దుంపలు ఊరుతాయి', 29, array([-3.0517578e-05,  0.0000000e+00, -3.0517578e-05, ...,\n",
      "       -3.0517578e-05,  0.0000000e+00, -3.0517578e-05], dtype=float32), 6.4)\n",
      "('/home/arya/Documents/jaggukaka/TTS/datasets/resampled_telugu_openslr/te_in_male/tem_00682_00171248459.wav', 'ఇది పరమయోగివిలాసములోని ప్రధమపద్యము', 34, array([ 0.0000000e+00, -3.0517578e-05,  0.0000000e+00, ...,\n",
      "        3.0517578e-05,  3.0517578e-05,  0.0000000e+00], dtype=float32), 8.106666666666667)\n",
      "('/home/arya/Documents/jaggukaka/TTS/datasets/resampled_telugu_openslr/te_in_male/tem_02769_01744840351.wav', 'పాలించి సుఖమును పొందుము', 23, array([ 0.0000000e+00,  0.0000000e+00, -3.0517578e-05, ...,\n",
      "        0.0000000e+00, -3.0517578e-05,  0.0000000e+00], dtype=float32), 5.376009070294785)\n",
      "('/home/arya/Documents/jaggukaka/TTS/datasets/resampled_telugu_openslr/te_in_male/tem_00682_01480348815.wav', 'సప్తగిరి గ్రామీణ బ్యాంక్', 24, array([1.5258789e-04, 2.1362305e-04, 2.1362305e-04, ..., 1.2207031e-04,\n",
      "       6.1035156e-05, 3.0517578e-05], dtype=float32), 5.12)\n",
      "('/home/arya/Documents/jaggukaka/TTS/datasets/resampled_telugu_openslr/te_in_male/tem_02769_01970745459.wav', 'రెండో ప్రధాన పంట జొన్నలు', 24, array([ 0.0000000e+00,  0.0000000e+00,  0.0000000e+00, ...,\n",
      "        0.0000000e+00, -6.1035156e-05,  0.0000000e+00], dtype=float32), 5.717369614512472)\n",
      "('/home/arya/Documents/jaggukaka/TTS/datasets/resampled_telugu_openslr/te_in_male/tem_00682_00899348759.wav', 'కమ్మ అను పదము క్రీస్తు కాలము నుండి కలదు', 39, array([ 0.0000000e+00,  0.0000000e+00,  0.0000000e+00, ...,\n",
      "       -9.1552734e-05, -1.2207031e-04,  0.0000000e+00], dtype=float32), 9.216009070294785)\n",
      "('/home/arya/Documents/jaggukaka/TTS/datasets/resampled_telugu_openslr/te_in_male/tem_06359_01661989913.wav', 'ఇచట వసతులేమియు లేవు', 19, array([-9.1552734e-05, -1.5258789e-04, -1.2207031e-04, ...,\n",
      "        3.0517578e-05,  3.0517578e-05,  0.0000000e+00], dtype=float32), 5.461360544217687)\n",
      "('/home/arya/Documents/jaggukaka/TTS/datasets/resampled_telugu_openslr/te_in_male/tem_04771_00249604851.wav', 'వంద గజాలలో', 10, array([ 0.0000000e+00, -3.0517578e-05,  0.0000000e+00, ...,\n",
      "        2.7465820e-04,  2.7465820e-04,  3.0517578e-04], dtype=float32), 2.986666666666667)\n",
      "('/home/arya/Documents/jaggukaka/TTS/datasets/resampled_telugu_openslr/te_in_male/tem_02769_01067623652.wav', 'తల్లి లాయహున్నీసా బేగం', 22, array([ 0.0000000e+00,  0.0000000e+00,  0.0000000e+00, ...,\n",
      "        0.0000000e+00, -3.0517578e-05,  0.0000000e+00], dtype=float32), 6.4)\n",
      "('/home/arya/Documents/jaggukaka/TTS/datasets/resampled_telugu_openslr/te_in_male/tem_02769_00819685047.wav', 'ప్రాథమిక ఆరోగ్య ఉపకేంద్రం', 25, array([-3.0517578e-05,  0.0000000e+00, -3.0517578e-05, ...,\n",
      "       -1.5258789e-04, -2.1362305e-04,  0.0000000e+00], dtype=float32), 6.1440362811791385)\n",
      "('/home/arya/Documents/jaggukaka/TTS/datasets/resampled_telugu_openslr/te_in_male/tem_00682_01874360817.wav', 'కుశధ్వజుడు ఈతని సోదరుడు', 23, array([ 0.0000000e+00,  0.0000000e+00,  0.0000000e+00, ...,\n",
      "       -9.1552734e-05, -1.2207031e-04,  0.0000000e+00], dtype=float32), 5.888027210884354)\n",
      "('/home/arya/Documents/jaggukaka/TTS/datasets/resampled_telugu_openslr/te_in_male/tem_00682_01816585170.wav', 'ఈ గ్రామములో ఒక పాఠశాల ఉన్నది', 28, array([ 0.        ,  0.        ,  0.        , ..., -0.00128174,\n",
      "       -0.00134277, -0.00143433], dtype=float32), 5.973333333333334)\n",
      "('/home/arya/Documents/jaggukaka/TTS/datasets/resampled_telugu_openslr/te_in_male/tem_05479_00774894580.wav', 'ఇక్కడి భాష తెలుగు\\\\n', 19, array([ 3.0517578e-05, -6.1035156e-05,  3.0517578e-05, ...,\n",
      "       -9.1552734e-04, -8.8500977e-04, -1.0681152e-03], dtype=float32), 4.266666666666667)\n",
      "('/home/arya/Documents/jaggukaka/TTS/datasets/resampled_telugu_openslr/te_in_male/tem_06359_01046568563.wav', 'కూడా పూర్తి చేశాడు', 18, array([ 0.0000000e+00, -3.0517578e-05,  0.0000000e+00, ...,\n",
      "       -3.3569336e-04, -4.2724609e-04,  0.0000000e+00], dtype=float32), 4.949342403628118)\n",
      "('/home/arya/Documents/jaggukaka/TTS/datasets/resampled_telugu_openslr/te_in_male/tem_00682_00175080734.wav', 'అందుకే అతన్ని హలాయుదుడు అన్నారు', 31, array([-3.0517578e-05, -3.0517578e-05, -9.1552734e-05, ...,\n",
      "        4.8828125e-04,  4.2724609e-04,  3.9672852e-04], dtype=float32), 6.826666666666667)\n",
      "('/home/arya/Documents/jaggukaka/TTS/datasets/resampled_telugu_openslr/te_in_male/tem_02769_01742031755.wav', 'జీవశాస్త్ర సంబంధం కాని వాటికి అనగా', 34, array([-3.0517578e-05,  0.0000000e+00, -3.0517578e-05, ...,\n",
      "        6.1035156e-05,  0.0000000e+00,  0.0000000e+00], dtype=float32), 7.850702947845805)\n",
      "('/home/arya/Documents/jaggukaka/TTS/datasets/resampled_telugu_openslr/te_in_male/tem_06359_01269227098.wav', 'ఉపయోగించడం చాలా సులభం', 21, array([-3.0517578e-05,  3.0517578e-05,  3.0517578e-05, ...,\n",
      "        0.0000000e+00, -3.0517578e-05,  0.0000000e+00], dtype=float32), 4.864036281179138)\n",
      "('/home/arya/Documents/jaggukaka/TTS/datasets/resampled_telugu_openslr/te_in_male/tem_00682_01179013231.wav', 'ఆపేరు కాలక్రమంలో మురుడేశ్వర గా మారింది', 38, array([ 0.0000000e+00, -3.0517578e-05,  0.0000000e+00, ...,\n",
      "       -3.0517578e-05,  0.0000000e+00,  0.0000000e+00], dtype=float32), 11.349342403628118)\n",
      "('/home/arya/Documents/jaggukaka/TTS/datasets/resampled_telugu_openslr/te_in_male/tem_07220_00817723379.wav', 'తల నామవాచకంగా', 13, array([ 0.0000000e+00, -3.0517578e-05,  0.0000000e+00, ...,\n",
      "       -3.0517578e-05,  0.0000000e+00, -3.0517578e-05], dtype=float32), 3.4133333333333336)\n",
      "('/home/arya/Documents/jaggukaka/TTS/datasets/resampled_telugu_openslr/te_in_male/tem_02769_01157950579.wav', 'ఈయన కృష్ణా మండల వాసి', 20, array([-9.1552734e-05, -9.1552734e-05,  0.0000000e+00, ...,\n",
      "       -3.0517578e-05,  0.0000000e+00,  0.0000000e+00], dtype=float32), 5.802675736961452)\n",
      "('/home/arya/Documents/jaggukaka/TTS/datasets/resampled_telugu_openslr/te_in_male/tem_09015_00017001931.wav', 'కవిత్వం కూడ రాశారు', 18, array([ 0.0000000e+00, -3.0517578e-05,  0.0000000e+00, ...,\n",
      "        0.0000000e+00,  0.0000000e+00,  0.0000000e+00], dtype=float32), 4.010702947845805)\n",
      "('/home/arya/Documents/jaggukaka/TTS/datasets/resampled_telugu_openslr/te_in_male/tem_00682_00716666166.wav', 'వరి ఈ గ్రామం ప్రధాన పంట', 23, array([ 0.0000000e+00, -3.0517578e-05,  0.0000000e+00, ...,\n",
      "        1.2207031e-04,  6.1035156e-05,  0.0000000e+00], dtype=float32), 6.570702947845805)\n",
      "('/home/arya/Documents/jaggukaka/TTS/datasets/resampled_telugu_openslr/te_in_male/tem_06359_01042097139.wav', 'ఈయన భార్య పేరు చార్వి', 21, array([0., 0., 0., ..., 0., 0., 0.], dtype=float32), 5.546666666666667)\n",
      "('/home/arya/Documents/jaggukaka/TTS/datasets/resampled_telugu_openslr/te_in_male/tem_00682_01511618730.wav', 'బషీరాబాద్ రాజకీయ చైతన్యంగా ఎదిగిన గ్రామం', 40, array([ 0.0000000e+00,  3.0517578e-05,  0.0000000e+00, ...,\n",
      "       -3.0517578e-05,  0.0000000e+00,  0.0000000e+00], dtype=float32), 10.922675736961452)\n",
      "('/home/arya/Documents/jaggukaka/TTS/datasets/resampled_telugu_openslr/te_in_male/tem_00682_00936230896.wav', 'ఈ ఆట చిన్న పిల్లలకు బాగా ఇష్టమైన ఆట', 35, array([ 0.        ,  0.        ,  0.        , ..., -0.00027466,\n",
      "       -0.00039673,  0.        ], dtype=float32), 7.594693877551021)\n",
      "('/home/arya/Documents/jaggukaka/TTS/datasets/resampled_telugu_openslr/te_in_male/tem_02769_00891588174.wav', 'బ్రౌన్ నిఘంటువు ప్రకారం గతి పదప్రయోగాలు', 39, array([ 0.0000000e+00,  0.0000000e+00, -3.0517578e-05, ...,\n",
      "       -3.0517578e-05,  0.0000000e+00,  0.0000000e+00], dtype=float32), 8.362675736961451)\n",
      "('/home/arya/Documents/jaggukaka/TTS/datasets/resampled_telugu_openslr/te_in_male/tem_02769_01204096836.wav', 'ఉత్తరఖండము', 10, array([ 0.0000000e+00,  0.0000000e+00,  0.0000000e+00, ...,\n",
      "        0.0000000e+00, -3.0517578e-05,  0.0000000e+00], dtype=float32), 4.949342403628118)\n",
      "('/home/arya/Documents/jaggukaka/TTS/datasets/resampled_telugu_openslr/te_in_male/tem_02769_01971397275.wav', 'దీనిరచయిత పాల్లకురికి సోమనాథుడు', 31, array([-6.1035156e-05, -6.1035156e-05,  0.0000000e+00, ...,\n",
      "        3.0517578e-05,  3.0517578e-05,  0.0000000e+00], dtype=float32), 7.509342403628118)\n",
      "('/home/arya/Documents/jaggukaka/TTS/datasets/resampled_telugu_openslr/te_in_male/tem_06359_00899308972.wav', 'హేమవతి జలాశయం రిజర్వాయర్', 24, array([-3.0517578e-05,  0.0000000e+00, -3.0517578e-05, ...,\n",
      "        2.7465820e-04,  2.4414062e-04,  0.0000000e+00], dtype=float32), 5.802675736961452)\n",
      "('/home/arya/Documents/jaggukaka/TTS/datasets/resampled_telugu_openslr/te_in_male/tem_00682_01170090561.wav', 'స్పర్శ నాడులు', 13, array([ 0.0000000e+00, -3.0517578e-05,  0.0000000e+00, ...,\n",
      "       -1.5258789e-04, -1.8310547e-04,  0.0000000e+00], dtype=float32), 3.669342403628118)\n",
      "('/home/arya/Documents/jaggukaka/TTS/datasets/resampled_telugu_openslr/te_in_male/tem_00682_01744649325.wav', 'ధనవంతులు ఎంతపనైనా చేయగలరని ఈ సామెత అర్థం', 40, array([-6.1035156e-05, -9.1552734e-05, -6.1035156e-05, ...,\n",
      "       -6.1035156e-05, -9.1552734e-05,  0.0000000e+00], dtype=float32), 9.130702947845805)\n",
      "('/home/arya/Documents/jaggukaka/TTS/datasets/resampled_telugu_openslr/te_in_male/tem_00682_00679519121.wav', 'ఈ నాలుగు యుగములు ఒక మహాయుగము ఔతుంది', 35, array([-9.1552734e-05, -9.1552734e-05, -9.1552734e-05, ...,\n",
      "        0.0000000e+00, -3.0517578e-05,  0.0000000e+00], dtype=float32), 7.765351473922903)\n",
      "('/home/arya/Documents/jaggukaka/TTS/datasets/resampled_telugu_openslr/te_in_male/tem_09584_02077832949.wav', 'అవన్నీ నాకు తెలుసు', 18, array([-3.0517578e-05,  0.0000000e+00, -3.0517578e-05, ...,\n",
      "        2.7465820e-04,  3.0517578e-04,  0.0000000e+00], dtype=float32), 4.4373696145124715)\n",
      "('/home/arya/Documents/jaggukaka/TTS/datasets/resampled_telugu_openslr/te_in_male/tem_00682_01989925452.wav', 'ఇక ఐరోపా వారి యుగం ఆరంభమైంది', 28, array([-6.1035156e-05, -9.1552734e-05, -9.1552734e-05, ...,\n",
      "       -1.0070801e-03, -1.1596680e-03, -1.1901855e-03], dtype=float32), 6.4)\n",
      "('/home/arya/Documents/jaggukaka/TTS/datasets/resampled_telugu_openslr/te_in_male/tem_00682_00916792684.wav', 'గ్రామ జనాభా రెండు వెలు ఏడు వందలు యాభై ఆరు', 41, array([ 0.0000000e+00, -3.0517578e-05,  0.0000000e+00, ...,\n",
      "       -6.1035156e-05, -9.1552734e-05,  0.0000000e+00], dtype=float32), 10.75201814058957)\n",
      "('/home/arya/Documents/jaggukaka/TTS/datasets/resampled_telugu_openslr/te_in_male/tem_02769_00445505301.wav', 'దండకాటవిలో కోదండము దాల్చినవాడవు', 31, array([ 0.0000000e+00, -3.0517578e-05,  0.0000000e+00, ...,\n",
      "        0.0000000e+00,  0.0000000e+00,  0.0000000e+00], dtype=float32), 7.68)\n",
      "('/home/arya/Documents/jaggukaka/TTS/datasets/resampled_telugu_openslr/te_in_male/tem_06359_01709944558.wav', 'డిసెంబరు మూడు;', 14, array([0., 0., 0., ..., 0., 0., 0.], dtype=float32), 4.096009070294785)\n",
      "('/home/arya/Documents/jaggukaka/TTS/datasets/resampled_telugu_openslr/te_in_male/tem_04771_00535842669.wav', 'యాభై అడుగుల్లో', 14, array([ 0.0000000e+00, -3.0517578e-05,  0.0000000e+00, ...,\n",
      "       -9.1552734e-05, -1.5258789e-04,  0.0000000e+00], dtype=float32), 3.498684807256236)\n",
      "('/home/arya/Documents/jaggukaka/TTS/datasets/resampled_telugu_openslr/te_in_male/tem_02769_01580889038.wav', 'సాధారణంగా ఇవి రెండూ గళ్లతో నిండివుంటాయి', 39, array([-3.0517578e-05, -3.0517578e-05,  0.0000000e+00, ...,\n",
      "       -3.0517578e-05,  3.0517578e-05,  0.0000000e+00], dtype=float32), 8.448027210884353)\n",
      "('/home/arya/Documents/jaggukaka/TTS/datasets/resampled_telugu_openslr/te_in_male/tem_02769_02041918729.wav', 'వీటి లో రెండు మాత్రమే సరి ప్రధానకం', 34, array([ 3.0517578e-05,  3.0517578e-05, -6.1035156e-05, ...,\n",
      "        0.0000000e+00, -3.0517578e-05,  0.0000000e+00], dtype=float32), 7.850702947845805)\n",
      "('/home/arya/Documents/jaggukaka/TTS/datasets/resampled_telugu_openslr/te_in_male/tem_00974_02108596382.wav', 'దీని సవరణ ఋణాత్మకం', 18, array([-3.0517578e-05,  0.0000000e+00, -3.0517578e-05, ...,\n",
      "        9.1552734e-05,  1.5258789e-04,  0.0000000e+00], dtype=float32), 4.778684807256236)\n",
      "('/home/arya/Documents/jaggukaka/TTS/datasets/resampled_telugu_openslr/te_in_male/tem_06359_00658876290.wav', 'లీలఓ ఓహొ చారుశీల లేజవరాలా సొగసు భళా  వి', 39, array([0., 0., 0., ..., 0., 0., 0.], dtype=float32), 8.362675736961451)\n",
      "('/home/arya/Documents/jaggukaka/TTS/datasets/resampled_telugu_openslr/te_in_male/tem_02769_01874766861.wav', 'ఆ లేచిన రోజే శ్రావణ పూర్ణిమ', 27, array([ 0.0000000e+00, -3.0517578e-05,  0.0000000e+00, ...,\n",
      "        0.0000000e+00, -3.0517578e-05,  0.0000000e+00], dtype=float32), 6.912018140589569)\n",
      "('/home/arya/Documents/jaggukaka/TTS/datasets/resampled_telugu_openslr/te_in_male/tem_00682_00621710506.wav', 'దీనికి రెండు ముఖ్య కారణాలు ఉన్నాయి', 34, array([-6.1035156e-05, -1.5258789e-04, -6.1035156e-05, ...,\n",
      "        6.1035156e-05,  3.0517578e-05,  0.0000000e+00], dtype=float32), 7.594693877551021)\n",
      "('/home/arya/Documents/jaggukaka/TTS/datasets/resampled_telugu_openslr/te_in_male/tem_00682_00873833308.wav', 'కాని పిండారీలు పగలే వచ్చేవారు', 29, array([-3.0517578e-05,  0.0000000e+00, -3.0517578e-05, ...,\n",
      "       -6.1035156e-05, -9.1552734e-05,  0.0000000e+00], dtype=float32), 6.997369614512472)\n",
      "('/home/arya/Documents/jaggukaka/TTS/datasets/resampled_telugu_openslr/te_in_male/tem_00682_00351390950.wav', 'రకరకాల సంస్కృతులకు నిలయమయ్యినదట', 31, array([-3.0517578e-05,  0.0000000e+00,  3.0517578e-05, ...,\n",
      "       -1.2512207e-03, -1.3427734e-03,  0.0000000e+00], dtype=float32), 6.997369614512472)\n",
      "('/home/arya/Documents/jaggukaka/TTS/datasets/resampled_telugu_openslr/te_in_male/tem_02769_01163920220.wav', 'అందుకు ఆమె కోసం పోలీసులు వెతికారు', 33, array([ 0.0000000e+00,  0.0000000e+00,  0.0000000e+00, ...,\n",
      "        0.0000000e+00, -6.1035156e-05,  0.0000000e+00], dtype=float32), 7.168027210884354)\n",
      "('/home/arya/Documents/jaggukaka/TTS/datasets/resampled_telugu_openslr/te_in_male/tem_02769_01098331107.wav', 'ఈ జన్య రాగాలకీ అనేక విభజనలు ఉన్నాయి', 35, array([ 0.0000000e+00, -3.0517578e-05,  0.0000000e+00, ...,\n",
      "       -3.0517578e-05,  0.0000000e+00,  0.0000000e+00], dtype=float32), 7.850702947845805)\n",
      "('/home/arya/Documents/jaggukaka/TTS/datasets/resampled_telugu_openslr/te_in_male/tem_00682_00920640454.wav', 'తెలుగు నెలలు తెలుగు నెలలు పన్నెండు', 34, array([ 0.0000000e+00, -3.0517578e-05,  0.0000000e+00, ...,\n",
      "        2.4414062e-04,  2.1362305e-04,  1.8310547e-04], dtype=float32), 7.253333333333333)\n",
      "('/home/arya/Documents/jaggukaka/TTS/datasets/resampled_telugu_openslr/te_in_male/tem_06885_00725753899.wav', 'కుశధ్వజుడు ఇతని సోదరుడు', 23, array([ 6.1035156e-05,  6.1035156e-05,  3.0517578e-05, ...,\n",
      "       -2.1362305e-04, -3.0517578e-04,  0.0000000e+00], dtype=float32), 5.376009070294785)\n",
      "('/home/arya/Documents/jaggukaka/TTS/datasets/resampled_telugu_openslr/te_in_male/tem_09015_00087158583.wav', 'ఫ్రీ ప్రెస్ కాం', 15, array([-3.0517578e-05,  0.0000000e+00, -3.0517578e-05, ...,\n",
      "       -3.0517578e-05, -6.1035156e-05,  0.0000000e+00], dtype=float32), 4.010702947845805)\n",
      "('/home/arya/Documents/jaggukaka/TTS/datasets/resampled_telugu_openslr/te_in_male/tem_00682_01833496868.wav', 'నాకు ఈ విషయం అసలు ఏమీ తెలియదు', 29, array([ 0.0000000e+00, -3.0517578e-05,  0.0000000e+00, ...,\n",
      "       -7.3242188e-04, -6.7138672e-04, -7.6293945e-04], dtype=float32), 6.826666666666667)\n",
      "('/home/arya/Documents/jaggukaka/TTS/datasets/resampled_telugu_openslr/te_in_male/tem_09584_00504961503.wav', 'అభినవ ఉత్తర గోధనాపహరణము', 23, array([ 0.        ,  0.        ,  0.        , ..., -0.00015259,\n",
      "       -0.00018311,  0.        ], dtype=float32), 5.632018140589569)\n",
      "('/home/arya/Documents/jaggukaka/TTS/datasets/resampled_telugu_openslr/te_in_male/tem_02769_00537100162.wav', 'సర్వజన సుఖాపేక్ష కావాలంటాడు', 27, array([ 0.0000000e+00, -3.0517578e-05,  0.0000000e+00, ...,\n",
      "       -6.1035156e-05, -9.1552734e-05,  0.0000000e+00], dtype=float32), 7.594693877551021)\n",
      "('/home/arya/Documents/jaggukaka/TTS/datasets/resampled_telugu_openslr/te_in_male/tem_02769_01852737895.wav', 'శర్మ విశాఖపట్టణం లో స్థాపించాడు', 31, array([ 0.0000000e+00, -3.0517578e-05,  0.0000000e+00, ...,\n",
      "        1.2207031e-04,  9.1552734e-05,  0.0000000e+00], dtype=float32), 7.082675736961451)\n",
      "('/home/arya/Documents/jaggukaka/TTS/datasets/resampled_telugu_openslr/te_in_male/tem_04272_01580709780.wav', 'యానాం పై ఇది మరొక వ్యాసం', 24, array([-3.0517578e-05,  0.0000000e+00, -3.0517578e-05, ...,\n",
      "        7.1105957e-03,  8.1787109e-03,  0.0000000e+00], dtype=float32), 6.997369614512472)\n",
      "('/home/arya/Documents/jaggukaka/TTS/datasets/resampled_telugu_openslr/te_in_male/tem_00682_00792039989.wav', 'అండముఅండము వేదిక పైన ఉంటుంది', 28, array([ 0.        ,  0.        ,  0.        , ..., -0.00036621,\n",
      "       -0.0005188 ,  0.        ], dtype=float32), 8.704036281179139)\n",
      "('/home/arya/Documents/jaggukaka/TTS/datasets/resampled_telugu_openslr/te_in_male/tem_00682_00217289023.wav', 'అక్కడ డిగ్రీ మరియు ఇంటర్ కళాశాలలు వున్నవి', 41, array([ 0.0000000e+00,  0.0000000e+00, -3.0517578e-05, ...,\n",
      "        1.8310547e-04,  2.7465820e-04,  0.0000000e+00], dtype=float32), 9.045351473922903)\n",
      "('/home/arya/Documents/jaggukaka/TTS/datasets/resampled_telugu_openslr/te_in_male/tem_00682_01706703177.wav', 'అన్న మాట మరచి పోయింది', 21, array([-6.1035156e-05, -9.1552734e-05, -9.1552734e-05, ...,\n",
      "        0.0000000e+00,  0.0000000e+00,  3.0517578e-05], dtype=float32), 5.973333333333334)\n",
      "('/home/arya/Documents/jaggukaka/TTS/datasets/resampled_telugu_openslr/te_in_male/tem_00682_00961009325.wav', 'ఈ ప్రాంతంలో వరి ముఖ్యమైన పంట', 28, array([ 3.0517578e-05,  6.1035156e-05,  0.0000000e+00, ...,\n",
      "       -5.4931641e-04, -6.4086914e-04,  0.0000000e+00], dtype=float32), 6.31469387755102)\n",
      "('/home/arya/Documents/jaggukaka/TTS/datasets/resampled_telugu_openslr/te_in_male/tem_00113_00296671652.wav', 'తల్లి సరస్వతీ బాలన్', 19, array([ 0.0000000e+00, -3.0517578e-05,  0.0000000e+00, ...,\n",
      "       -1.2207031e-04, -9.1552734e-05, -1.2207031e-04], dtype=float32), 4.266666666666667)\n",
      "('/home/arya/Documents/jaggukaka/TTS/datasets/resampled_telugu_openslr/te_in_male/tem_00113_01328199820.wav', 'దూరంలో వీరాపురం ఉంది', 20, array([ 0.0000000e+00,  0.0000000e+00,  0.0000000e+00, ...,\n",
      "       -9.1552734e-05, -1.2207031e-04,  0.0000000e+00], dtype=float32), 5.03469387755102)\n",
      "('/home/arya/Documents/jaggukaka/TTS/datasets/resampled_telugu_openslr/te_in_male/tem_06885_00612474034.wav', 'పైగా అవి ప్రమాదకరం', 18, array([-6.1035156e-05, -3.0517578e-05,  0.0000000e+00, ...,\n",
      "       -6.1035156e-05,  3.0517578e-05,  0.0000000e+00], dtype=float32), 4.3520181405895695)\n",
      "('/home/arya/Documents/jaggukaka/TTS/datasets/resampled_telugu_openslr/te_in_male/tem_00682_01703258605.wav', 'ఇంక ఈ చర్చా పేజి చూడండి', 23, array([0.        , 0.        , 0.        , ..., 0.00021362, 0.00024414,\n",
      "       0.        ], dtype=float32), 5.632018140589569)\n",
      "('/home/arya/Documents/jaggukaka/TTS/datasets/resampled_telugu_openslr/te_in_male/tem_00682_00473182800.wav', 'ఇదే మాటని మనం ‘నకలు’ అనే అర్ధం లో వాడతాం', 40, array([-3.0517578e-05,  0.0000000e+00, -3.0517578e-05, ...,\n",
      "       -9.1552734e-05, -9.1552734e-05,  0.0000000e+00], dtype=float32), 9.984036281179138)\n",
      "('/home/arya/Documents/jaggukaka/TTS/datasets/resampled_telugu_openslr/te_in_male/tem_06359_00844018596.wav', 'వాని నోరు మంచిది కాదు', 21, array([ 0.0000000e+00,  0.0000000e+00,  0.0000000e+00, ...,\n",
      "        0.0000000e+00, -3.0517578e-05,  0.0000000e+00], dtype=float32), 4.693333333333333)\n",
      "('/home/arya/Documents/jaggukaka/TTS/datasets/resampled_telugu_openslr/te_in_male/tem_00682_00942634893.wav', 'తమిళ సాహిత్య చరిత్ర కారుడు', 26, array([-6.1035156e-05, -9.1552734e-05,  0.0000000e+00, ...,\n",
      "        0.0000000e+00, -3.0517578e-05,  0.0000000e+00], dtype=float32), 5.546666666666667)\n",
      "('/home/arya/Documents/jaggukaka/TTS/datasets/resampled_telugu_openslr/te_in_male/tem_04771_01870103952.wav', 'నూట యాభై అడుగుల్లో', 18, array([-1.5258789e-04, -1.8310547e-04, -9.1552734e-05, ...,\n",
      "        1.8310547e-04,  1.2207031e-04,  2.7465820e-04], dtype=float32), 3.84)\n",
      "('/home/arya/Documents/jaggukaka/TTS/datasets/resampled_telugu_openslr/te_in_male/tem_00682_01695848200.wav', 'కనుక గోధూళి వేళ ఆకాశం ఎర్రగా ఉంటుంది', 36, array([ 0.0000000e+00, -3.0517578e-05, -9.1552734e-05, ...,\n",
      "        6.1035156e-05,  0.0000000e+00,  0.0000000e+00], dtype=float32), 8.533333333333333)\n",
      "('/home/arya/Documents/jaggukaka/TTS/datasets/resampled_telugu_openslr/te_in_male/tem_00682_00471234877.wav', 'రేగు పళ్లకు రకరకాల పేర్లున్నాయి', 31, array([-3.0517578e-05, -9.1552734e-05, -3.0517578e-05, ...,\n",
      "        0.0000000e+00, -3.0517578e-05,  0.0000000e+00], dtype=float32), 6.741360544217687)\n",
      "('/home/arya/Documents/jaggukaka/TTS/datasets/resampled_telugu_openslr/te_in_male/tem_00682_02128141199.wav', 'దీనిలో ఏడు కాండాలున్నాయి', 24, array([ 0.0000000e+00, -6.1035156e-05, -6.1035156e-05, ...,\n",
      "       -3.0517578e-05,  0.0000000e+00,  0.0000000e+00], dtype=float32), 6.997369614512472)\n",
      "('/home/arya/Documents/jaggukaka/TTS/datasets/resampled_telugu_openslr/te_in_male/tem_00682_00577157700.wav', 'ఈ ఊరిలో ఒక శివాలయం ఒక రామాలయం ఉన్నాయి', 37, array([ 0.0000000e+00, -3.0517578e-05,  0.0000000e+00, ...,\n",
      "       -3.9672852e-04, -4.5776367e-04,  0.0000000e+00], dtype=float32), 8.021360544217687)\n",
      "('/home/arya/Documents/jaggukaka/TTS/datasets/resampled_telugu_openslr/te_in_male/tem_06359_00564359573.wav', 'అది నిజం కూడా', 13, array([-0.00030518, -0.00048828, -0.00042725, ...,  0.        ,\n",
      "        0.        ,  0.        ], dtype=float32), 4.3520181405895695)\n"
     ]
    }
   ],
   "source": [
    "dist = norm(mean, std)\n",
    "\n",
    "# find irregular instances long or short voice durations\n",
    "for item in data:\n",
    "    text = item[1]\n",
    "    dur = item[-1]\n",
    "    sec_per_char = dur / len(text)\n",
    "    \n",
    "    pdf = norm.pdf(sec_per_char)\n",
    "    if pdf < 0.39:\n",
    "        print(item)"
   ]
  },
  {
   "cell_type": "markdown",
   "metadata": {},
   "source": []
  },
  {
   "cell_type": "markdown",
   "metadata": {
    "Collapsed": "false"
   },
   "source": [
    "### Plot Dataset Statistics"
   ]
  },
  {
   "cell_type": "code",
   "execution_count": 57,
   "metadata": {
    "Collapsed": "false"
   },
   "outputs": [
    {
     "data": {
      "text/plain": [
       "<matplotlib.collections.PathCollection at 0x7f1ed14ec580>"
      ]
     },
     "execution_count": 57,
     "metadata": {},
     "output_type": "execute_result"
    },
    {
     "data": {
      "image/png": "[encoded data removed]",
      "text/plain": [
       "<Figure size 432x288 with 1 Axes>"
      ]
     },
     "metadata": {
      "needs_background": "light"
     },
     "output_type": "display_data"
    }
   ],
   "source": [
    "plt.title(\"text length vs mean audio duration\")\n",
    "plt.scatter(list(text_vs_avg.keys()), list(text_vs_avg.values()))\n",
    "\n",
    "\n",
    "\n"
   ]
  },
  {
   "cell_type": "code",
   "execution_count": 58,
   "metadata": {},
   "outputs": [
    {
     "data": {
      "text/plain": [
       "<matplotlib.legend.Legend at 0x7f1ed14df6d0>"
      ]
     },
     "execution_count": 58,
     "metadata": {},
     "output_type": "execute_result"
    },
    {
     "data": {
      "image/png": "[encoded data removed]",
      "text/plain": [
       "<Figure size 432x288 with 1 Axes>"
      ]
     },
     "metadata": {
      "needs_background": "light"
     },
     "output_type": "display_data"
    }
   ],
   "source": [
    "X = np.array(list(text_vs_avg.keys()))\n",
    "Y = np.array(list(text_vs_avg.values()))\n",
    "\n",
    "#least squares on X and Y\n",
    "A = np.vstack([X, np.ones(len(X))]).T\n",
    "m, c = np.linalg.lstsq(A, Y, rcond=None)[0]\n",
    "\n",
    "# plot the line\n",
    "plt.plot(X, Y, 'o', label='Least Squares Fit')\n",
    "plt.plot(X, m*X + c, 'r', label='Line of best fit')\n",
    "plt.legend()\n",
    "\n",
    "\n"
   ]
  },
  {
   "cell_type": "code",
   "execution_count": 59,
   "metadata": {},
   "outputs": [
    {
     "data": {
      "text/plain": [
       "<matplotlib.legend.Legend at 0x7f1ed144c430>"
      ]
     },
     "execution_count": 59,
     "metadata": {},
     "output_type": "execute_result"
    },
    {
     "data": {
      "image/png": "[encoded data removed]",
      "text/plain": [
       "<Figure size 432x288 with 1 Axes>"
      ]
     },
     "metadata": {
      "needs_background": "light"
     },
     "output_type": "display_data"
    }
   ],
   "source": [
    "# filter outliers\n",
    "X_filtered = []\n",
    "Y_filtered = []\n",
    "for i, x in enumerate(X):\n",
    "    if abs(Y[i] - (m*x + c)) < 1:      \n",
    "        X_filtered.append(x)\n",
    "        Y_filtered.append(Y[i])\n",
    "\n",
    "X_filtered = np.array(X_filtered)\n",
    "Y_filtered = np.array(Y_filtered)\n",
    "# plot the line\n",
    "plt.plot(X_filtered, Y_filtered, 'o', label='Least Squares Fit')\n",
    "plt.plot(X_filtered, m*X_filtered + c, 'r', label='Line of best fit')\n",
    "plt.legend()"
   ]
  },
  {
   "cell_type": "code",
   "execution_count": 79,
   "metadata": {},
   "outputs": [],
   "source": [
    "import random, shutil, pathlib\n",
    "good_files = [j for x in X_filtered for j in dur_to_file[x]]\n",
    "random.shuffle(good_files)\n",
    "good_files = good_files[:500]\n",
    "\n",
    "te_in_female = {}\n",
    "te_in_male = {}\n",
    "\n",
    "dest_folder = \"/home/arya/Documents/jaggukaka/TTS/datasets/cutdowndata/\"\n",
    "\n",
    "for item in data:\n",
    "    if item[0] in good_files:\n",
    "        fname = pathlib.Path(item[0]).stem\n",
    "        if 'tef' in fname:\n",
    "            te_in_female[fname] = item[1]\n",
    "            #create folder if doesnot exist\n",
    "            pathlib.Path(dest_folder + 'te_in_female').mkdir(exist_ok=True)\n",
    "            shutil.copy(item[0], dest_folder + 'te_in_female')\n",
    "        else :\n",
    "            te_in_male[fname] = item[1]\n",
    "            pathlib.Path(dest_folder + 'te_in_male').mkdir(exist_ok=True)\n",
    "            shutil.copy(item[0], dest_folder + 'te_in_male')\n",
    "\n",
    "\n",
    "with open(dest_folder + 'te_in_female.tsv', \"w+\") as f:\n",
    "    f.write(\"\\n\".join([\"\\t\".join([k, v]) for k, v in te_in_female.items()]))\n",
    "    f.close()\n",
    "\n",
    "with open(dest_folder + 'te_in_male.tsv', \"w+\") as f:\n",
    "    f.write(\"\\n\".join([\"\\t\".join([k, v]) for k, v in te_in_male.items()]))\n",
    "    f.close()\n",
    "        \n",
    "    "
   ]
  },
  {
   "cell_type": "code",
   "execution_count": 38,
   "metadata": {
    "Collapsed": "false"
   },
   "outputs": [
    {
     "data": {
      "text/plain": [
       "<matplotlib.collections.PathCollection at 0x7f6b60ac76d0>"
      ]
     },
     "execution_count": 38,
     "metadata": {},
     "output_type": "execute_result"
    },
    {
     "data": {
      "image/png": "[encoded data removed]",
      "text/plain": [
       "<Figure size 432x288 with 1 Axes>"
      ]
     },
     "metadata": {
      "needs_background": "light"
     },
     "output_type": "display_data"
    }
   ],
   "source": [
    "plt.title(\"text length vs median audio duration\")\n",
    "plt.scatter(list(text_vs_median.keys()), list(text_vs_median.values()))"
   ]
  },
  {
   "cell_type": "code",
   "execution_count": 17,
   "metadata": {
    "Collapsed": "false"
   },
   "outputs": [
    {
     "data": {
      "text/plain": [
       "<matplotlib.collections.PathCollection at 0x7f6b6065cca0>"
      ]
     },
     "execution_count": 17,
     "metadata": {},
     "output_type": "execute_result"
    },
    {
     "data": {
      "image/png": "[encoded data removed]",
      "text/plain": [
       "<Figure size 432x288 with 1 Axes>"
      ]
     },
     "metadata": {
      "needs_background": "light"
     },
     "output_type": "display_data"
    }
   ],
   "source": [
    "plt.title(\"text length vs STD\")\n",
    "plt.scatter(list(text_vs_std.keys()), list(text_vs_std.values()))"
   ]
  },
  {
   "cell_type": "code",
   "execution_count": 39,
   "metadata": {
    "Collapsed": "false"
   },
   "outputs": [
    {
     "data": {
      "text/plain": [
       "<matplotlib.collections.PathCollection at 0x7f6b60b0a760>"
      ]
     },
     "execution_count": 39,
     "metadata": {},
     "output_type": "execute_result"
    },
    {
     "data": {
      "image/png": "[encoded data removed]",
      "text/plain": [
       "<Figure size 432x288 with 1 Axes>"
      ]
     },
     "metadata": {
      "needs_background": "light"
     },
     "output_type": "display_data"
    }
   ],
   "source": [
    "plt.title(\"text length vs # instances\")\n",
    "plt.scatter(list(text_len_counter.keys()), list(text_len_counter.values()))"
   ]
  },
  {
   "cell_type": "markdown",
   "metadata": {
    "Collapsed": "false"
   },
   "source": [
    "### Check words frequencies"
   ]
  },
  {
   "cell_type": "code",
   "execution_count": 40,
   "metadata": {
    "Collapsed": "false"
   },
   "outputs": [],
   "source": [
    "w_count_df = pd.DataFrame.from_dict(w_count, orient='index')\n",
    "w_count_df.sort_values(0, ascending=False, inplace=True)"
   ]
  },
  {
   "cell_type": "code",
   "execution_count": 41,
   "metadata": {
    "Collapsed": "false",
    "scrolled": true
   },
   "outputs": [
    {
     "data": {
      "text/html": [
       "<div>\n",
       "<style scoped>\n",
       "    .dataframe tbody tr th:only-of-type {\n",
       "        vertical-align: middle;\n",
       "    }\n",
       "\n",
       "    .dataframe tbody tr th {\n",
       "        vertical-align: top;\n",
       "    }\n",
       "\n",
       "    .dataframe thead th {\n",
       "        text-align: right;\n",
       "    }\n",
       "</style>\n",
       "<table border=\"1\" class=\"dataframe\">\n",
       "  <thead>\n",
       "    <tr style=\"text-align: right;\">\n",
       "      <th></th>\n",
       "      <th>0</th>\n",
       "    </tr>\n",
       "  </thead>\n",
       "  <tbody>\n",
       "    <tr>\n",
       "      <th>ఈ</th>\n",
       "      <td>396</td>\n",
       "    </tr>\n",
       "    <tr>\n",
       "      <th>ఒక</th>\n",
       "      <td>247</td>\n",
       "    </tr>\n",
       "    <tr>\n",
       "      <th>కూడా</th>\n",
       "      <td>182</td>\n",
       "    </tr>\n",
       "    <tr>\n",
       "      <th>రెండు</th>\n",
       "      <td>178</td>\n",
       "    </tr>\n",
       "    <tr>\n",
       "      <th>ఇది</th>\n",
       "      <td>165</td>\n",
       "    </tr>\n",
       "    <tr>\n",
       "      <th>...</th>\n",
       "      <td>...</td>\n",
       "    </tr>\n",
       "    <tr>\n",
       "      <th>ప్రాంతానికి</th>\n",
       "      <td>1</td>\n",
       "    </tr>\n",
       "    <tr>\n",
       "      <th>శోషరస</th>\n",
       "      <td>1</td>\n",
       "    </tr>\n",
       "    <tr>\n",
       "      <th>బహిరంగ</th>\n",
       "      <td>1</td>\n",
       "    </tr>\n",
       "    <tr>\n",
       "      <th>వాసన</th>\n",
       "      <td>1</td>\n",
       "    </tr>\n",
       "    <tr>\n",
       "      <th>స్థితి</th>\n",
       "      <td>1</td>\n",
       "    </tr>\n",
       "  </tbody>\n",
       "</table>\n",
       "<p>6051 rows × 1 columns</p>\n",
       "</div>"
      ],
      "text/plain": [
       "               0\n",
       "ఈ            396\n",
       "ఒక           247\n",
       "కూడా         182\n",
       "రెండు        178\n",
       "ఇది          165\n",
       "...          ...\n",
       "ప్రాంతానికి    1\n",
       "శోషరస          1\n",
       "బహిరంగ         1\n",
       "వాసన           1\n",
       "స్థితి         1\n",
       "\n",
       "[6051 rows x 1 columns]"
      ]
     },
     "execution_count": 41,
     "metadata": {},
     "output_type": "execute_result"
    }
   ],
   "source": [
    "w_count_df"
   ]
  },
  {
   "cell_type": "code",
   "execution_count": 44,
   "metadata": {
    "Collapsed": "false"
   },
   "outputs": [
    {
     "data": {
      "text/plain": [
       "178"
      ]
     },
     "execution_count": 44,
     "metadata": {},
     "output_type": "execute_result"
    }
   ],
   "source": [
    "# check a certain word\n",
    "w_count_df.at['రెండు', 0]"
   ]
  },
  {
   "cell_type": "code",
   "execution_count": 22,
   "metadata": {
    "Collapsed": "false"
   },
   "outputs": [
    {
     "data": {
      "text/plain": [
       "<AxesSubplot:>"
      ]
     },
     "execution_count": 22,
     "metadata": {},
     "output_type": "execute_result"
    },
    {
     "name": "stderr",
     "output_type": "stream",
     "text": [
      "/home/arya/Documents/coquitts/lib/python3.8/site-packages/IPython/core/pylabtools.py:151: UserWarning: Glyph 3080 (\\N{TELUGU LETTER II}) missing from current font.\n",
      "  fig.canvas.print_figure(bytes_io, **kw)\n",
      "/home/arya/Documents/coquitts/lib/python3.8/site-packages/IPython/core/pylabtools.py:151: UserWarning: Matplotlib currently does not support Telugu natively.\n",
      "  fig.canvas.print_figure(bytes_io, **kw)\n",
      "/home/arya/Documents/coquitts/lib/python3.8/site-packages/IPython/core/pylabtools.py:151: UserWarning: Glyph 3090 (\\N{TELUGU LETTER O}) missing from current font.\n",
      "  fig.canvas.print_figure(bytes_io, **kw)\n",
      "/home/arya/Documents/coquitts/lib/python3.8/site-packages/IPython/core/pylabtools.py:151: UserWarning: Glyph 3093 (\\N{TELUGU LETTER KA}) missing from current font.\n",
      "  fig.canvas.print_figure(bytes_io, **kw)\n",
      "/home/arya/Documents/coquitts/lib/python3.8/site-packages/IPython/core/pylabtools.py:151: UserWarning: Glyph 3138 (\\N{TELUGU VOWEL SIGN UU}) missing from current font.\n",
      "  fig.canvas.print_figure(bytes_io, **kw)\n",
      "/home/arya/Documents/coquitts/lib/python3.8/site-packages/IPython/core/pylabtools.py:151: UserWarning: Glyph 3105 (\\N{TELUGU LETTER DDA}) missing from current font.\n",
      "  fig.canvas.print_figure(bytes_io, **kw)\n",
      "/home/arya/Documents/coquitts/lib/python3.8/site-packages/IPython/core/pylabtools.py:151: UserWarning: Glyph 3134 (\\N{TELUGU VOWEL SIGN AA}) missing from current font.\n",
      "  fig.canvas.print_figure(bytes_io, **kw)\n",
      "/home/arya/Documents/coquitts/lib/python3.8/site-packages/IPython/core/pylabtools.py:151: UserWarning: Glyph 3120 (\\N{TELUGU LETTER RA}) missing from current font.\n",
      "  fig.canvas.print_figure(bytes_io, **kw)\n",
      "/home/arya/Documents/coquitts/lib/python3.8/site-packages/IPython/core/pylabtools.py:151: UserWarning: Glyph 3142 (\\N{TELUGU VOWEL SIGN E}) missing from current font.\n",
      "  fig.canvas.print_figure(bytes_io, **kw)\n",
      "/home/arya/Documents/coquitts/lib/python3.8/site-packages/IPython/core/pylabtools.py:151: UserWarning: Glyph 3074 (\\N{TELUGU SIGN ANUSVARA}) missing from current font.\n",
      "  fig.canvas.print_figure(bytes_io, **kw)\n",
      "/home/arya/Documents/coquitts/lib/python3.8/site-packages/IPython/core/pylabtools.py:151: UserWarning: Glyph 3137 (\\N{TELUGU VOWEL SIGN U}) missing from current font.\n",
      "  fig.canvas.print_figure(bytes_io, **kw)\n",
      "/home/arya/Documents/coquitts/lib/python3.8/site-packages/IPython/core/pylabtools.py:151: UserWarning: Glyph 3079 (\\N{TELUGU LETTER I}) missing from current font.\n",
      "  fig.canvas.print_figure(bytes_io, **kw)\n",
      "/home/arya/Documents/coquitts/lib/python3.8/site-packages/IPython/core/pylabtools.py:151: UserWarning: Glyph 3110 (\\N{TELUGU LETTER DA}) missing from current font.\n",
      "  fig.canvas.print_figure(bytes_io, **kw)\n",
      "/home/arya/Documents/coquitts/lib/python3.8/site-packages/IPython/core/pylabtools.py:151: UserWarning: Glyph 3135 (\\N{TELUGU VOWEL SIGN I}) missing from current font.\n",
      "  fig.canvas.print_figure(bytes_io, **kw)\n",
      "/home/arya/Documents/coquitts/lib/python3.8/site-packages/IPython/core/pylabtools.py:151: UserWarning: Glyph 3077 (\\N{TELUGU LETTER A}) missing from current font.\n",
      "  fig.canvas.print_figure(bytes_io, **kw)\n",
      "/home/arya/Documents/coquitts/lib/python3.8/site-packages/IPython/core/pylabtools.py:151: UserWarning: Glyph 3119 (\\N{TELUGU LETTER YA}) missing from current font.\n",
      "  fig.canvas.print_figure(bytes_io, **kw)\n",
      "/home/arya/Documents/coquitts/lib/python3.8/site-packages/IPython/core/pylabtools.py:151: UserWarning: Glyph 3081 (\\N{TELUGU LETTER U}) missing from current font.\n",
      "  fig.canvas.print_figure(bytes_io, **kw)\n",
      "/home/arya/Documents/coquitts/lib/python3.8/site-packages/IPython/core/pylabtools.py:151: UserWarning: Glyph 3078 (\\N{TELUGU LETTER AA}) missing from current font.\n",
      "  fig.canvas.print_figure(bytes_io, **kw)\n",
      "/home/arya/Documents/coquitts/lib/python3.8/site-packages/IPython/core/pylabtools.py:151: UserWarning: Glyph 3125 (\\N{TELUGU LETTER VA}) missing from current font.\n",
      "  fig.canvas.print_figure(bytes_io, **kw)\n",
      "/home/arya/Documents/coquitts/lib/python3.8/site-packages/IPython/core/pylabtools.py:151: UserWarning: Glyph 3122 (\\N{TELUGU LETTER LA}) missing from current font.\n",
      "  fig.canvas.print_figure(bytes_io, **kw)\n",
      "/home/arya/Documents/coquitts/lib/python3.8/site-packages/IPython/core/pylabtools.py:151: UserWarning: Glyph 3118 (\\N{TELUGU LETTER MA}) missing from current font.\n",
      "  fig.canvas.print_figure(bytes_io, **kw)\n",
      "/home/arya/Documents/coquitts/lib/python3.8/site-packages/IPython/core/pylabtools.py:151: UserWarning: Glyph 3100 (\\N{TELUGU LETTER JA}) missing from current font.\n",
      "  fig.canvas.print_figure(bytes_io, **kw)\n",
      "/home/arya/Documents/coquitts/lib/python3.8/site-packages/IPython/core/pylabtools.py:151: UserWarning: Glyph 3149 (\\N{TELUGU SIGN VIRAMA}) missing from current font.\n",
      "  fig.canvas.print_figure(bytes_io, **kw)\n",
      "/home/arya/Documents/coquitts/lib/python3.8/site-packages/IPython/core/pylabtools.py:151: UserWarning: Glyph 3147 (\\N{TELUGU VOWEL SIGN OO}) missing from current font.\n",
      "  fig.canvas.print_figure(bytes_io, **kw)\n",
      "/home/arya/Documents/coquitts/lib/python3.8/site-packages/IPython/core/pylabtools.py:151: UserWarning: Glyph 3114 (\\N{TELUGU LETTER PA}) missing from current font.\n",
      "  fig.canvas.print_figure(bytes_io, **kw)\n",
      "/home/arya/Documents/coquitts/lib/python3.8/site-packages/IPython/core/pylabtools.py:151: UserWarning: Glyph 3112 (\\N{TELUGU LETTER NA}) missing from current font.\n",
      "  fig.canvas.print_figure(bytes_io, **kw)\n",
      "/home/arya/Documents/coquitts/lib/python3.8/site-packages/IPython/core/pylabtools.py:151: UserWarning: Glyph 3108 (\\N{TELUGU LETTER TA}) missing from current font.\n",
      "  fig.canvas.print_figure(bytes_io, **kw)\n",
      "/home/arya/Documents/coquitts/lib/python3.8/site-packages/IPython/core/pylabtools.py:151: UserWarning: Glyph 3095 (\\N{TELUGU LETTER GA}) missing from current font.\n",
      "  fig.canvas.print_figure(bytes_io, **kw)\n",
      "/home/arya/Documents/coquitts/lib/python3.8/site-packages/IPython/core/pylabtools.py:151: UserWarning: Glyph 3146 (\\N{TELUGU VOWEL SIGN O}) missing from current font.\n",
      "  fig.canvas.print_figure(bytes_io, **kw)\n",
      "/home/arya/Documents/coquitts/lib/python3.8/site-packages/IPython/core/pylabtools.py:151: UserWarning: Glyph 3098 (\\N{TELUGU LETTER CA}) missing from current font.\n",
      "  fig.canvas.print_figure(bytes_io, **kw)\n",
      "/home/arya/Documents/coquitts/lib/python3.8/site-packages/IPython/core/pylabtools.py:151: UserWarning: Glyph 3144 (\\N{TELUGU VOWEL SIGN AI}) missing from current font.\n",
      "  fig.canvas.print_figure(bytes_io, **kw)\n",
      "/home/arya/Documents/coquitts/lib/python3.8/site-packages/IPython/core/pylabtools.py:151: UserWarning: Glyph 3104 (\\N{TELUGU LETTER TTHA}) missing from current font.\n",
      "  fig.canvas.print_figure(bytes_io, **kw)\n",
      "/home/arya/Documents/coquitts/lib/python3.8/site-packages/IPython/core/pylabtools.py:151: UserWarning: Glyph 3126 (\\N{TELUGU LETTER SHA}) missing from current font.\n",
      "  fig.canvas.print_figure(bytes_io, **kw)\n",
      "/home/arya/Documents/coquitts/lib/python3.8/site-packages/IPython/core/pylabtools.py:151: UserWarning: Glyph 3103 (\\N{TELUGU LETTER TTA}) missing from current font.\n",
      "  fig.canvas.print_figure(bytes_io, **kw)\n",
      "/home/arya/Documents/coquitts/lib/python3.8/site-packages/IPython/core/pylabtools.py:151: UserWarning: Glyph 3143 (\\N{TELUGU VOWEL SIGN EE}) missing from current font.\n",
      "  fig.canvas.print_figure(bytes_io, **kw)\n",
      "/home/arya/Documents/coquitts/lib/python3.8/site-packages/IPython/core/pylabtools.py:151: UserWarning: Glyph 3086 (\\N{TELUGU LETTER E}) missing from current font.\n",
      "  fig.canvas.print_figure(bytes_io, **kw)\n",
      "/home/arya/Documents/coquitts/lib/python3.8/site-packages/IPython/core/pylabtools.py:151: UserWarning: Glyph 3136 (\\N{TELUGU VOWEL SIGN II}) missing from current font.\n",
      "  fig.canvas.print_figure(bytes_io, **kw)\n",
      "/home/arya/Documents/coquitts/lib/python3.8/site-packages/IPython/core/pylabtools.py:151: UserWarning: Glyph 3111 (\\N{TELUGU LETTER DHA}) missing from current font.\n",
      "  fig.canvas.print_figure(bytes_io, **kw)\n",
      "/home/arya/Documents/coquitts/lib/python3.8/site-packages/IPython/core/pylabtools.py:151: UserWarning: Glyph 3117 (\\N{TELUGU LETTER BHA}) missing from current font.\n",
      "  fig.canvas.print_figure(bytes_io, **kw)\n",
      "/home/arya/Documents/coquitts/lib/python3.8/site-packages/IPython/core/pylabtools.py:151: UserWarning: Glyph 3128 (\\N{TELUGU LETTER SA}) missing from current font.\n",
      "  fig.canvas.print_figure(bytes_io, **kw)\n",
      "/home/arya/Documents/coquitts/lib/python3.8/site-packages/IPython/core/pylabtools.py:151: UserWarning: Glyph 3127 (\\N{TELUGU LETTER SSA}) missing from current font.\n",
      "  fig.canvas.print_figure(bytes_io, **kw)\n",
      "/home/arya/Documents/coquitts/lib/python3.8/site-packages/IPython/core/pylabtools.py:151: UserWarning: Glyph 3087 (\\N{TELUGU LETTER EE}) missing from current font.\n",
      "  fig.canvas.print_figure(bytes_io, **kw)\n",
      "/home/arya/Documents/coquitts/lib/python3.8/site-packages/IPython/core/pylabtools.py:151: UserWarning: Glyph 3123 (\\N{TELUGU LETTER LLA}) missing from current font.\n",
      "  fig.canvas.print_figure(bytes_io, **kw)\n",
      "/home/arya/Documents/coquitts/lib/python3.8/site-packages/IPython/core/pylabtools.py:151: UserWarning: Glyph 3094 (\\N{TELUGU LETTER KHA}) missing from current font.\n",
      "  fig.canvas.print_figure(bytes_io, **kw)\n",
      "/home/arya/Documents/coquitts/lib/python3.8/site-packages/IPython/core/pylabtools.py:151: UserWarning: Glyph 3082 (\\N{TELUGU LETTER UU}) missing from current font.\n",
      "  fig.canvas.print_figure(bytes_io, **kw)\n",
      "/home/arya/Documents/coquitts/lib/python3.8/site-packages/IPython/core/pylabtools.py:151: UserWarning: Glyph 3148 (\\N{TELUGU VOWEL SIGN AU}) missing from current font.\n",
      "  fig.canvas.print_figure(bytes_io, **kw)\n",
      "/home/arya/Documents/coquitts/lib/python3.8/site-packages/IPython/core/pylabtools.py:151: UserWarning: Glyph 3109 (\\N{TELUGU LETTER THA}) missing from current font.\n",
      "  fig.canvas.print_figure(bytes_io, **kw)\n",
      "/home/arya/Documents/coquitts/lib/python3.8/site-packages/IPython/core/pylabtools.py:151: UserWarning: Glyph 3116 (\\N{TELUGU LETTER BA}) missing from current font.\n",
      "  fig.canvas.print_figure(bytes_io, **kw)\n",
      "/home/arya/Documents/coquitts/lib/python3.8/site-packages/IPython/core/pylabtools.py:151: UserWarning: Glyph 3139 (\\N{TELUGU VOWEL SIGN VOCALIC R}) missing from current font.\n",
      "  fig.canvas.print_figure(bytes_io, **kw)\n",
      "/home/arya/Documents/coquitts/lib/python3.8/site-packages/IPython/core/pylabtools.py:151: UserWarning: Glyph 3129 (\\N{TELUGU LETTER HA}) missing from current font.\n",
      "  fig.canvas.print_figure(bytes_io, **kw)\n",
      "/home/arya/Documents/coquitts/lib/python3.8/site-packages/IPython/core/pylabtools.py:151: UserWarning: Glyph 3091 (\\N{TELUGU LETTER OO}) missing from current font.\n",
      "  fig.canvas.print_figure(bytes_io, **kw)\n",
      "/home/arya/Documents/coquitts/lib/python3.8/site-packages/IPython/core/pylabtools.py:151: UserWarning: Glyph 3107 (\\N{TELUGU LETTER NNA}) missing from current font.\n",
      "  fig.canvas.print_figure(bytes_io, **kw)\n",
      "/home/arya/Documents/coquitts/lib/python3.8/site-packages/IPython/core/pylabtools.py:151: UserWarning: Glyph 3088 (\\N{TELUGU LETTER AI}) missing from current font.\n",
      "  fig.canvas.print_figure(bytes_io, **kw)\n",
      "/home/arya/Documents/coquitts/lib/python3.8/site-packages/IPython/core/pylabtools.py:151: UserWarning: Glyph 3115 (\\N{TELUGU LETTER PHA}) missing from current font.\n",
      "  fig.canvas.print_figure(bytes_io, **kw)\n",
      "/home/arya/Documents/coquitts/lib/python3.8/site-packages/IPython/core/pylabtools.py:151: UserWarning: Glyph 3096 (\\N{TELUGU LETTER GHA}) missing from current font.\n",
      "  fig.canvas.print_figure(bytes_io, **kw)\n",
      "/home/arya/Documents/coquitts/lib/python3.8/site-packages/IPython/core/pylabtools.py:151: UserWarning: Glyph 3102 (\\N{TELUGU LETTER NYA}) missing from current font.\n",
      "  fig.canvas.print_figure(bytes_io, **kw)\n",
      "/home/arya/Documents/coquitts/lib/python3.8/site-packages/IPython/core/pylabtools.py:151: UserWarning: Glyph 3099 (\\N{TELUGU LETTER CHA}) missing from current font.\n",
      "  fig.canvas.print_figure(bytes_io, **kw)\n",
      "/home/arya/Documents/coquitts/lib/python3.8/site-packages/IPython/core/pylabtools.py:151: UserWarning: Glyph 3106 (\\N{TELUGU LETTER DDHA}) missing from current font.\n",
      "  fig.canvas.print_figure(bytes_io, **kw)\n",
      "/home/arya/Documents/coquitts/lib/python3.8/site-packages/IPython/core/pylabtools.py:151: UserWarning: Glyph 3075 (\\N{TELUGU SIGN VISARGA}) missing from current font.\n",
      "  fig.canvas.print_figure(bytes_io, **kw)\n",
      "/home/arya/Documents/coquitts/lib/python3.8/site-packages/IPython/core/pylabtools.py:151: UserWarning: Glyph 3083 (\\N{TELUGU LETTER VOCALIC R}) missing from current font.\n",
      "  fig.canvas.print_figure(bytes_io, **kw)\n",
      "/home/arya/Documents/coquitts/lib/python3.8/site-packages/IPython/core/pylabtools.py:151: UserWarning: Glyph 3092 (\\N{TELUGU LETTER AU}) missing from current font.\n",
      "  fig.canvas.print_figure(bytes_io, **kw)\n",
      "/home/arya/Documents/coquitts/lib/python3.8/site-packages/IPython/core/pylabtools.py:151: UserWarning: Glyph 3073 (\\N{TELUGU SIGN CANDRABINDU}) missing from current font.\n",
      "  fig.canvas.print_figure(bytes_io, **kw)\n",
      "/home/arya/Documents/coquitts/lib/python3.8/site-packages/IPython/core/pylabtools.py:151: UserWarning: Glyph 3097 (\\N{TELUGU LETTER NGA}) missing from current font.\n",
      "  fig.canvas.print_figure(bytes_io, **kw)\n",
      "/home/arya/Documents/coquitts/lib/python3.8/site-packages/IPython/core/pylabtools.py:151: UserWarning: Glyph 3121 (\\N{TELUGU LETTER RRA}) missing from current font.\n",
      "  fig.canvas.print_figure(bytes_io, **kw)\n"
     ]
    },
    {
     "name": "stdout",
     "output_type": "stream",
     "text": [
      "Error in callback <function flush_figures at 0x7f6bd2e93af0> (for post_execute):\n"
     ]
    },
    {
     "ename": "KeyboardInterrupt",
     "evalue": "",
     "output_type": "error",
     "traceback": [
      "\u001b[0;31m---------------------------------------------------------------------------\u001b[0m",
      "\u001b[0;31mKeyboardInterrupt\u001b[0m                         Traceback (most recent call last)",
      "File \u001b[0;32m~/Documents/coquitts/lib/python3.8/site-packages/matplotlib_inline/backend_inline.py:121\u001b[0m, in \u001b[0;36mflush_figures\u001b[0;34m()\u001b[0m\n\u001b[1;32m    118\u001b[0m \u001b[38;5;28;01mif\u001b[39;00m InlineBackend\u001b[38;5;241m.\u001b[39minstance()\u001b[38;5;241m.\u001b[39mclose_figures:\n\u001b[1;32m    119\u001b[0m     \u001b[38;5;66;03m# ignore the tracking, just draw and close all figures\u001b[39;00m\n\u001b[1;32m    120\u001b[0m     \u001b[38;5;28;01mtry\u001b[39;00m:\n\u001b[0;32m--> 121\u001b[0m         \u001b[38;5;28;01mreturn\u001b[39;00m \u001b[43mshow\u001b[49m\u001b[43m(\u001b[49m\u001b[38;5;28;43;01mTrue\u001b[39;49;00m\u001b[43m)\u001b[49m\n\u001b[1;32m    122\u001b[0m     \u001b[38;5;28;01mexcept\u001b[39;00m \u001b[38;5;167;01mException\u001b[39;00m \u001b[38;5;28;01mas\u001b[39;00m e:\n\u001b[1;32m    123\u001b[0m         \u001b[38;5;66;03m# safely show traceback if in IPython, else raise\u001b[39;00m\n\u001b[1;32m    124\u001b[0m         ip \u001b[38;5;241m=\u001b[39m get_ipython()\n",
      "File \u001b[0;32m~/Documents/coquitts/lib/python3.8/site-packages/matplotlib_inline/backend_inline.py:41\u001b[0m, in \u001b[0;36mshow\u001b[0;34m(close, block)\u001b[0m\n\u001b[1;32m     39\u001b[0m \u001b[38;5;28;01mtry\u001b[39;00m:\n\u001b[1;32m     40\u001b[0m     \u001b[38;5;28;01mfor\u001b[39;00m figure_manager \u001b[38;5;129;01min\u001b[39;00m Gcf\u001b[38;5;241m.\u001b[39mget_all_fig_managers():\n\u001b[0;32m---> 41\u001b[0m         \u001b[43mdisplay\u001b[49m\u001b[43m(\u001b[49m\n\u001b[1;32m     42\u001b[0m \u001b[43m            \u001b[49m\u001b[43mfigure_manager\u001b[49m\u001b[38;5;241;43m.\u001b[39;49m\u001b[43mcanvas\u001b[49m\u001b[38;5;241;43m.\u001b[39;49m\u001b[43mfigure\u001b[49m\u001b[43m,\u001b[49m\n\u001b[1;32m     43\u001b[0m \u001b[43m            \u001b[49m\u001b[43mmetadata\u001b[49m\u001b[38;5;241;43m=\u001b[39;49m\u001b[43m_fetch_figure_metadata\u001b[49m\u001b[43m(\u001b[49m\u001b[43mfigure_manager\u001b[49m\u001b[38;5;241;43m.\u001b[39;49m\u001b[43mcanvas\u001b[49m\u001b[38;5;241;43m.\u001b[39;49m\u001b[43mfigure\u001b[49m\u001b[43m)\u001b[49m\n\u001b[1;32m     44\u001b[0m \u001b[43m        \u001b[49m\u001b[43m)\u001b[49m\n\u001b[1;32m     45\u001b[0m \u001b[38;5;28;01mfinally\u001b[39;00m:\n\u001b[1;32m     46\u001b[0m     show\u001b[38;5;241m.\u001b[39m_to_draw \u001b[38;5;241m=\u001b[39m []\n",
      "File \u001b[0;32m~/Documents/coquitts/lib/python3.8/site-packages/IPython/core/display_functions.py:298\u001b[0m, in \u001b[0;36mdisplay\u001b[0;34m(include, exclude, metadata, transient, display_id, raw, clear, *objs, **kwargs)\u001b[0m\n\u001b[1;32m    296\u001b[0m     publish_display_data(data\u001b[38;5;241m=\u001b[39mobj, metadata\u001b[38;5;241m=\u001b[39mmetadata, \u001b[38;5;241m*\u001b[39m\u001b[38;5;241m*\u001b[39mkwargs)\n\u001b[1;32m    297\u001b[0m \u001b[38;5;28;01melse\u001b[39;00m:\n\u001b[0;32m--> 298\u001b[0m     format_dict, md_dict \u001b[38;5;241m=\u001b[39m \u001b[38;5;28;43mformat\u001b[39;49m\u001b[43m(\u001b[49m\u001b[43mobj\u001b[49m\u001b[43m,\u001b[49m\u001b[43m \u001b[49m\u001b[43minclude\u001b[49m\u001b[38;5;241;43m=\u001b[39;49m\u001b[43minclude\u001b[49m\u001b[43m,\u001b[49m\u001b[43m \u001b[49m\u001b[43mexclude\u001b[49m\u001b[38;5;241;43m=\u001b[39;49m\u001b[43mexclude\u001b[49m\u001b[43m)\u001b[49m\n\u001b[1;32m    299\u001b[0m     \u001b[38;5;28;01mif\u001b[39;00m \u001b[38;5;129;01mnot\u001b[39;00m format_dict:\n\u001b[1;32m    300\u001b[0m         \u001b[38;5;66;03m# nothing to display (e.g. _ipython_display_ took over)\u001b[39;00m\n\u001b[1;32m    301\u001b[0m         \u001b[38;5;28;01mcontinue\u001b[39;00m\n",
      "File \u001b[0;32m~/Documents/coquitts/lib/python3.8/site-packages/IPython/core/formatters.py:178\u001b[0m, in \u001b[0;36mDisplayFormatter.format\u001b[0;34m(self, obj, include, exclude)\u001b[0m\n\u001b[1;32m    176\u001b[0m md \u001b[38;5;241m=\u001b[39m \u001b[38;5;28;01mNone\u001b[39;00m\n\u001b[1;32m    177\u001b[0m \u001b[38;5;28;01mtry\u001b[39;00m:\n\u001b[0;32m--> 178\u001b[0m     data \u001b[38;5;241m=\u001b[39m \u001b[43mformatter\u001b[49m\u001b[43m(\u001b[49m\u001b[43mobj\u001b[49m\u001b[43m)\u001b[49m\n\u001b[1;32m    179\u001b[0m \u001b[38;5;28;01mexcept\u001b[39;00m:\n\u001b[1;32m    180\u001b[0m     \u001b[38;5;66;03m# FIXME: log the exception\u001b[39;00m\n\u001b[1;32m    181\u001b[0m     \u001b[38;5;28;01mraise\u001b[39;00m\n",
      "File \u001b[0;32m~/Documents/coquitts/lib/python3.8/site-packages/decorator.py:232\u001b[0m, in \u001b[0;36mdecorate.<locals>.fun\u001b[0;34m(*args, **kw)\u001b[0m\n\u001b[1;32m    230\u001b[0m \u001b[38;5;28;01mif\u001b[39;00m \u001b[38;5;129;01mnot\u001b[39;00m kwsyntax:\n\u001b[1;32m    231\u001b[0m     args, kw \u001b[38;5;241m=\u001b[39m fix(args, kw, sig)\n\u001b[0;32m--> 232\u001b[0m \u001b[38;5;28;01mreturn\u001b[39;00m \u001b[43mcaller\u001b[49m\u001b[43m(\u001b[49m\u001b[43mfunc\u001b[49m\u001b[43m,\u001b[49m\u001b[43m \u001b[49m\u001b[38;5;241;43m*\u001b[39;49m\u001b[43m(\u001b[49m\u001b[43mextras\u001b[49m\u001b[43m \u001b[49m\u001b[38;5;241;43m+\u001b[39;49m\u001b[43m \u001b[49m\u001b[43margs\u001b[49m\u001b[43m)\u001b[49m\u001b[43m,\u001b[49m\u001b[43m \u001b[49m\u001b[38;5;241;43m*\u001b[39;49m\u001b[38;5;241;43m*\u001b[39;49m\u001b[43mkw\u001b[49m\u001b[43m)\u001b[49m\n",
      "File \u001b[0;32m~/Documents/coquitts/lib/python3.8/site-packages/IPython/core/formatters.py:222\u001b[0m, in \u001b[0;36mcatch_format_error\u001b[0;34m(method, self, *args, **kwargs)\u001b[0m\n\u001b[1;32m    220\u001b[0m \u001b[38;5;124;03m\"\"\"show traceback on failed format call\"\"\"\u001b[39;00m\n\u001b[1;32m    221\u001b[0m \u001b[38;5;28;01mtry\u001b[39;00m:\n\u001b[0;32m--> 222\u001b[0m     r \u001b[38;5;241m=\u001b[39m \u001b[43mmethod\u001b[49m\u001b[43m(\u001b[49m\u001b[38;5;28;43mself\u001b[39;49m\u001b[43m,\u001b[49m\u001b[43m \u001b[49m\u001b[38;5;241;43m*\u001b[39;49m\u001b[43margs\u001b[49m\u001b[43m,\u001b[49m\u001b[43m \u001b[49m\u001b[38;5;241;43m*\u001b[39;49m\u001b[38;5;241;43m*\u001b[39;49m\u001b[43mkwargs\u001b[49m\u001b[43m)\u001b[49m\n\u001b[1;32m    223\u001b[0m \u001b[38;5;28;01mexcept\u001b[39;00m \u001b[38;5;167;01mNotImplementedError\u001b[39;00m:\n\u001b[1;32m    224\u001b[0m     \u001b[38;5;66;03m# don't warn on NotImplementedErrors\u001b[39;00m\n\u001b[1;32m    225\u001b[0m     \u001b[38;5;28;01mreturn\u001b[39;00m \u001b[38;5;28mself\u001b[39m\u001b[38;5;241m.\u001b[39m_check_return(\u001b[38;5;28;01mNone\u001b[39;00m, args[\u001b[38;5;241m0\u001b[39m])\n",
      "File \u001b[0;32m~/Documents/coquitts/lib/python3.8/site-packages/IPython/core/formatters.py:339\u001b[0m, in \u001b[0;36mBaseFormatter.__call__\u001b[0;34m(self, obj)\u001b[0m\n\u001b[1;32m    337\u001b[0m     \u001b[38;5;28;01mpass\u001b[39;00m\n\u001b[1;32m    338\u001b[0m \u001b[38;5;28;01melse\u001b[39;00m:\n\u001b[0;32m--> 339\u001b[0m     \u001b[38;5;28;01mreturn\u001b[39;00m \u001b[43mprinter\u001b[49m\u001b[43m(\u001b[49m\u001b[43mobj\u001b[49m\u001b[43m)\u001b[49m\n\u001b[1;32m    340\u001b[0m \u001b[38;5;66;03m# Finally look for special method names\u001b[39;00m\n\u001b[1;32m    341\u001b[0m method \u001b[38;5;241m=\u001b[39m get_real_method(obj, \u001b[38;5;28mself\u001b[39m\u001b[38;5;241m.\u001b[39mprint_method)\n",
      "File \u001b[0;32m~/Documents/coquitts/lib/python3.8/site-packages/IPython/core/pylabtools.py:151\u001b[0m, in \u001b[0;36mprint_figure\u001b[0;34m(fig, fmt, bbox_inches, base64, **kwargs)\u001b[0m\n\u001b[1;32m    148\u001b[0m     \u001b[38;5;28;01mfrom\u001b[39;00m \u001b[38;5;21;01mmatplotlib\u001b[39;00m\u001b[38;5;21;01m.\u001b[39;00m\u001b[38;5;21;01mbackend_bases\u001b[39;00m \u001b[38;5;28;01mimport\u001b[39;00m FigureCanvasBase\n\u001b[1;32m    149\u001b[0m     FigureCanvasBase(fig)\n\u001b[0;32m--> 151\u001b[0m \u001b[43mfig\u001b[49m\u001b[38;5;241;43m.\u001b[39;49m\u001b[43mcanvas\u001b[49m\u001b[38;5;241;43m.\u001b[39;49m\u001b[43mprint_figure\u001b[49m\u001b[43m(\u001b[49m\u001b[43mbytes_io\u001b[49m\u001b[43m,\u001b[49m\u001b[43m \u001b[49m\u001b[38;5;241;43m*\u001b[39;49m\u001b[38;5;241;43m*\u001b[39;49m\u001b[43mkw\u001b[49m\u001b[43m)\u001b[49m\n\u001b[1;32m    152\u001b[0m data \u001b[38;5;241m=\u001b[39m bytes_io\u001b[38;5;241m.\u001b[39mgetvalue()\n\u001b[1;32m    153\u001b[0m \u001b[38;5;28;01mif\u001b[39;00m fmt \u001b[38;5;241m==\u001b[39m \u001b[38;5;124m'\u001b[39m\u001b[38;5;124msvg\u001b[39m\u001b[38;5;124m'\u001b[39m:\n",
      "File \u001b[0;32m~/Documents/coquitts/lib/python3.8/site-packages/matplotlib/backend_bases.py:2299\u001b[0m, in \u001b[0;36mFigureCanvasBase.print_figure\u001b[0;34m(self, filename, dpi, facecolor, edgecolor, orientation, format, bbox_inches, pad_inches, bbox_extra_artists, backend, **kwargs)\u001b[0m\n\u001b[1;32m   2297\u001b[0m \u001b[38;5;28;01mif\u001b[39;00m bbox_inches:\n\u001b[1;32m   2298\u001b[0m     \u001b[38;5;28;01mif\u001b[39;00m bbox_inches \u001b[38;5;241m==\u001b[39m \u001b[38;5;124m\"\u001b[39m\u001b[38;5;124mtight\u001b[39m\u001b[38;5;124m\"\u001b[39m:\n\u001b[0;32m-> 2299\u001b[0m         bbox_inches \u001b[38;5;241m=\u001b[39m \u001b[38;5;28;43mself\u001b[39;49m\u001b[38;5;241;43m.\u001b[39;49m\u001b[43mfigure\u001b[49m\u001b[38;5;241;43m.\u001b[39;49m\u001b[43mget_tightbbox\u001b[49m\u001b[43m(\u001b[49m\n\u001b[1;32m   2300\u001b[0m \u001b[43m            \u001b[49m\u001b[43mrenderer\u001b[49m\u001b[43m,\u001b[49m\u001b[43m \u001b[49m\u001b[43mbbox_extra_artists\u001b[49m\u001b[38;5;241;43m=\u001b[39;49m\u001b[43mbbox_extra_artists\u001b[49m\u001b[43m)\u001b[49m\n\u001b[1;32m   2301\u001b[0m         \u001b[38;5;28;01mif\u001b[39;00m pad_inches \u001b[38;5;129;01mis\u001b[39;00m \u001b[38;5;28;01mNone\u001b[39;00m:\n\u001b[1;32m   2302\u001b[0m             pad_inches \u001b[38;5;241m=\u001b[39m rcParams[\u001b[38;5;124m'\u001b[39m\u001b[38;5;124msavefig.pad_inches\u001b[39m\u001b[38;5;124m'\u001b[39m]\n",
      "File \u001b[0;32m~/Documents/coquitts/lib/python3.8/site-packages/matplotlib/figure.py:1632\u001b[0m, in \u001b[0;36mFigureBase.get_tightbbox\u001b[0;34m(self, renderer, bbox_extra_artists)\u001b[0m\n\u001b[1;32m   1629\u001b[0m     artists \u001b[38;5;241m=\u001b[39m bbox_extra_artists\n\u001b[1;32m   1631\u001b[0m \u001b[38;5;28;01mfor\u001b[39;00m a \u001b[38;5;129;01min\u001b[39;00m artists:\n\u001b[0;32m-> 1632\u001b[0m     bbox \u001b[38;5;241m=\u001b[39m \u001b[43ma\u001b[49m\u001b[38;5;241;43m.\u001b[39;49m\u001b[43mget_tightbbox\u001b[49m\u001b[43m(\u001b[49m\u001b[43mrenderer\u001b[49m\u001b[43m)\u001b[49m\n\u001b[1;32m   1633\u001b[0m     \u001b[38;5;28;01mif\u001b[39;00m bbox \u001b[38;5;129;01mis\u001b[39;00m \u001b[38;5;129;01mnot\u001b[39;00m \u001b[38;5;28;01mNone\u001b[39;00m \u001b[38;5;129;01mand\u001b[39;00m (bbox\u001b[38;5;241m.\u001b[39mwidth \u001b[38;5;241m!=\u001b[39m \u001b[38;5;241m0\u001b[39m \u001b[38;5;129;01mor\u001b[39;00m bbox\u001b[38;5;241m.\u001b[39mheight \u001b[38;5;241m!=\u001b[39m \u001b[38;5;241m0\u001b[39m):\n\u001b[1;32m   1634\u001b[0m         bb\u001b[38;5;241m.\u001b[39mappend(bbox)\n",
      "File \u001b[0;32m~/Documents/coquitts/lib/python3.8/site-packages/matplotlib/axes/_base.py:4619\u001b[0m, in \u001b[0;36m_AxesBase.get_tightbbox\u001b[0;34m(self, renderer, call_axes_locator, bbox_extra_artists, for_layout_only)\u001b[0m\n\u001b[1;32m   4617\u001b[0m \u001b[38;5;28;01mif\u001b[39;00m \u001b[38;5;28mself\u001b[39m\u001b[38;5;241m.\u001b[39mxaxis\u001b[38;5;241m.\u001b[39mget_visible():\n\u001b[1;32m   4618\u001b[0m     \u001b[38;5;28;01mtry\u001b[39;00m:\n\u001b[0;32m-> 4619\u001b[0m         bb_xaxis \u001b[38;5;241m=\u001b[39m \u001b[38;5;28;43mself\u001b[39;49m\u001b[38;5;241;43m.\u001b[39;49m\u001b[43mxaxis\u001b[49m\u001b[38;5;241;43m.\u001b[39;49m\u001b[43mget_tightbbox\u001b[49m\u001b[43m(\u001b[49m\n\u001b[1;32m   4620\u001b[0m \u001b[43m            \u001b[49m\u001b[43mrenderer\u001b[49m\u001b[43m,\u001b[49m\u001b[43m \u001b[49m\u001b[43mfor_layout_only\u001b[49m\u001b[38;5;241;43m=\u001b[39;49m\u001b[43mfor_layout_only\u001b[49m\u001b[43m)\u001b[49m\n\u001b[1;32m   4621\u001b[0m     \u001b[38;5;28;01mexcept\u001b[39;00m \u001b[38;5;167;01mTypeError\u001b[39;00m:\n\u001b[1;32m   4622\u001b[0m         \u001b[38;5;66;03m# in case downstream library has redefined axis:\u001b[39;00m\n\u001b[1;32m   4623\u001b[0m         bb_xaxis \u001b[38;5;241m=\u001b[39m \u001b[38;5;28mself\u001b[39m\u001b[38;5;241m.\u001b[39mxaxis\u001b[38;5;241m.\u001b[39mget_tightbbox(renderer)\n",
      "File \u001b[0;32m~/Documents/coquitts/lib/python3.8/site-packages/matplotlib/axis.py:1108\u001b[0m, in \u001b[0;36mAxis.get_tightbbox\u001b[0;34m(self, renderer, for_layout_only)\u001b[0m\n\u001b[1;32m   1105\u001b[0m \u001b[38;5;28mself\u001b[39m\u001b[38;5;241m.\u001b[39m_update_label_position(renderer)\n\u001b[1;32m   1107\u001b[0m \u001b[38;5;66;03m# go back to just this axis's tick labels\u001b[39;00m\n\u001b[0;32m-> 1108\u001b[0m ticklabelBoxes, ticklabelBoxes2 \u001b[38;5;241m=\u001b[39m \u001b[38;5;28;43mself\u001b[39;49m\u001b[38;5;241;43m.\u001b[39;49m\u001b[43m_get_tick_bboxes\u001b[49m\u001b[43m(\u001b[49m\n\u001b[1;32m   1109\u001b[0m \u001b[43m            \u001b[49m\u001b[43mticks_to_draw\u001b[49m\u001b[43m,\u001b[49m\u001b[43m \u001b[49m\u001b[43mrenderer\u001b[49m\u001b[43m)\u001b[49m\n\u001b[1;32m   1111\u001b[0m \u001b[38;5;28mself\u001b[39m\u001b[38;5;241m.\u001b[39m_update_offset_text_position(ticklabelBoxes, ticklabelBoxes2)\n\u001b[1;32m   1112\u001b[0m \u001b[38;5;28mself\u001b[39m\u001b[38;5;241m.\u001b[39moffsetText\u001b[38;5;241m.\u001b[39mset_text(\u001b[38;5;28mself\u001b[39m\u001b[38;5;241m.\u001b[39mmajor\u001b[38;5;241m.\u001b[39mformatter\u001b[38;5;241m.\u001b[39mget_offset())\n",
      "File \u001b[0;32m~/Documents/coquitts/lib/python3.8/site-packages/matplotlib/axis.py:1085\u001b[0m, in \u001b[0;36mAxis._get_tick_bboxes\u001b[0;34m(self, ticks, renderer)\u001b[0m\n\u001b[1;32m   1083\u001b[0m \u001b[38;5;28;01mdef\u001b[39;00m \u001b[38;5;21m_get_tick_bboxes\u001b[39m(\u001b[38;5;28mself\u001b[39m, ticks, renderer):\n\u001b[1;32m   1084\u001b[0m     \u001b[38;5;124;03m\"\"\"Return lists of bboxes for ticks' label1's and label2's.\"\"\"\u001b[39;00m\n\u001b[0;32m-> 1085\u001b[0m     \u001b[38;5;28;01mreturn\u001b[39;00m ([tick\u001b[38;5;241m.\u001b[39mlabel1\u001b[38;5;241m.\u001b[39mget_window_extent(renderer)\n\u001b[1;32m   1086\u001b[0m              \u001b[38;5;28;01mfor\u001b[39;00m tick \u001b[38;5;129;01min\u001b[39;00m ticks \u001b[38;5;28;01mif\u001b[39;00m tick\u001b[38;5;241m.\u001b[39mlabel1\u001b[38;5;241m.\u001b[39mget_visible()],\n\u001b[1;32m   1087\u001b[0m             [tick\u001b[38;5;241m.\u001b[39mlabel2\u001b[38;5;241m.\u001b[39mget_window_extent(renderer)\n\u001b[1;32m   1088\u001b[0m              \u001b[38;5;28;01mfor\u001b[39;00m tick \u001b[38;5;129;01min\u001b[39;00m ticks \u001b[38;5;28;01mif\u001b[39;00m tick\u001b[38;5;241m.\u001b[39mlabel2\u001b[38;5;241m.\u001b[39mget_visible()])\n",
      "File \u001b[0;32m~/Documents/coquitts/lib/python3.8/site-packages/matplotlib/axis.py:1085\u001b[0m, in \u001b[0;36m<listcomp>\u001b[0;34m(.0)\u001b[0m\n\u001b[1;32m   1083\u001b[0m \u001b[38;5;28;01mdef\u001b[39;00m \u001b[38;5;21m_get_tick_bboxes\u001b[39m(\u001b[38;5;28mself\u001b[39m, ticks, renderer):\n\u001b[1;32m   1084\u001b[0m     \u001b[38;5;124;03m\"\"\"Return lists of bboxes for ticks' label1's and label2's.\"\"\"\u001b[39;00m\n\u001b[0;32m-> 1085\u001b[0m     \u001b[38;5;28;01mreturn\u001b[39;00m ([\u001b[43mtick\u001b[49m\u001b[38;5;241;43m.\u001b[39;49m\u001b[43mlabel1\u001b[49m\u001b[38;5;241;43m.\u001b[39;49m\u001b[43mget_window_extent\u001b[49m\u001b[43m(\u001b[49m\u001b[43mrenderer\u001b[49m\u001b[43m)\u001b[49m\n\u001b[1;32m   1086\u001b[0m              \u001b[38;5;28;01mfor\u001b[39;00m tick \u001b[38;5;129;01min\u001b[39;00m ticks \u001b[38;5;28;01mif\u001b[39;00m tick\u001b[38;5;241m.\u001b[39mlabel1\u001b[38;5;241m.\u001b[39mget_visible()],\n\u001b[1;32m   1087\u001b[0m             [tick\u001b[38;5;241m.\u001b[39mlabel2\u001b[38;5;241m.\u001b[39mget_window_extent(renderer)\n\u001b[1;32m   1088\u001b[0m              \u001b[38;5;28;01mfor\u001b[39;00m tick \u001b[38;5;129;01min\u001b[39;00m ticks \u001b[38;5;28;01mif\u001b[39;00m tick\u001b[38;5;241m.\u001b[39mlabel2\u001b[38;5;241m.\u001b[39mget_visible()])\n",
      "File \u001b[0;32m~/Documents/coquitts/lib/python3.8/site-packages/matplotlib/text.py:910\u001b[0m, in \u001b[0;36mText.get_window_extent\u001b[0;34m(self, renderer, dpi)\u001b[0m\n\u001b[1;32m    907\u001b[0m     \u001b[38;5;28;01mraise\u001b[39;00m \u001b[38;5;167;01mRuntimeError\u001b[39;00m(\u001b[38;5;124m'\u001b[39m\u001b[38;5;124mCannot get window extent w/o renderer\u001b[39m\u001b[38;5;124m'\u001b[39m)\n\u001b[1;32m    909\u001b[0m \u001b[38;5;28;01mwith\u001b[39;00m cbook\u001b[38;5;241m.\u001b[39m_setattr_cm(\u001b[38;5;28mself\u001b[39m\u001b[38;5;241m.\u001b[39mfigure, dpi\u001b[38;5;241m=\u001b[39mdpi):\n\u001b[0;32m--> 910\u001b[0m     bbox, info, descent \u001b[38;5;241m=\u001b[39m \u001b[38;5;28;43mself\u001b[39;49m\u001b[38;5;241;43m.\u001b[39;49m\u001b[43m_get_layout\u001b[49m\u001b[43m(\u001b[49m\u001b[38;5;28;43mself\u001b[39;49m\u001b[38;5;241;43m.\u001b[39;49m\u001b[43m_renderer\u001b[49m\u001b[43m)\u001b[49m\n\u001b[1;32m    911\u001b[0m     x, y \u001b[38;5;241m=\u001b[39m \u001b[38;5;28mself\u001b[39m\u001b[38;5;241m.\u001b[39mget_unitless_position()\n\u001b[1;32m    912\u001b[0m     x, y \u001b[38;5;241m=\u001b[39m \u001b[38;5;28mself\u001b[39m\u001b[38;5;241m.\u001b[39mget_transform()\u001b[38;5;241m.\u001b[39mtransform((x, y))\n",
      "File \u001b[0;32m~/Documents/coquitts/lib/python3.8/site-packages/matplotlib/text.py:317\u001b[0m, in \u001b[0;36mText._get_layout\u001b[0;34m(self, renderer)\u001b[0m\n\u001b[1;32m    315\u001b[0m clean_line, ismath \u001b[38;5;241m=\u001b[39m \u001b[38;5;28mself\u001b[39m\u001b[38;5;241m.\u001b[39m_preprocess_math(line)\n\u001b[1;32m    316\u001b[0m \u001b[38;5;28;01mif\u001b[39;00m clean_line:\n\u001b[0;32m--> 317\u001b[0m     w, h, d \u001b[38;5;241m=\u001b[39m \u001b[43mrenderer\u001b[49m\u001b[38;5;241;43m.\u001b[39;49m\u001b[43mget_text_width_height_descent\u001b[49m\u001b[43m(\u001b[49m\n\u001b[1;32m    318\u001b[0m \u001b[43m        \u001b[49m\u001b[43mclean_line\u001b[49m\u001b[43m,\u001b[49m\u001b[43m \u001b[49m\u001b[38;5;28;43mself\u001b[39;49m\u001b[38;5;241;43m.\u001b[39;49m\u001b[43m_fontproperties\u001b[49m\u001b[43m,\u001b[49m\u001b[43m \u001b[49m\u001b[43mismath\u001b[49m\u001b[38;5;241;43m=\u001b[39;49m\u001b[43mismath\u001b[49m\u001b[43m)\u001b[49m\n\u001b[1;32m    319\u001b[0m \u001b[38;5;28;01melse\u001b[39;00m:\n\u001b[1;32m    320\u001b[0m     w \u001b[38;5;241m=\u001b[39m h \u001b[38;5;241m=\u001b[39m d \u001b[38;5;241m=\u001b[39m \u001b[38;5;241m0\u001b[39m\n",
      "File \u001b[0;32m~/Documents/coquitts/lib/python3.8/site-packages/matplotlib/backends/backend_agg.py:270\u001b[0m, in \u001b[0;36mRendererAgg.get_text_width_height_descent\u001b[0;34m(self, s, prop, ismath)\u001b[0m\n\u001b[1;32m    268\u001b[0m flags \u001b[38;5;241m=\u001b[39m get_hinting_flag()\n\u001b[1;32m    269\u001b[0m font \u001b[38;5;241m=\u001b[39m \u001b[38;5;28mself\u001b[39m\u001b[38;5;241m.\u001b[39m_get_agg_font(prop)\n\u001b[0;32m--> 270\u001b[0m \u001b[43mfont\u001b[49m\u001b[38;5;241;43m.\u001b[39;49m\u001b[43mset_text\u001b[49m\u001b[43m(\u001b[49m\u001b[43ms\u001b[49m\u001b[43m,\u001b[49m\u001b[43m \u001b[49m\u001b[38;5;241;43m0.0\u001b[39;49m\u001b[43m,\u001b[49m\u001b[43m \u001b[49m\u001b[43mflags\u001b[49m\u001b[38;5;241;43m=\u001b[39;49m\u001b[43mflags\u001b[49m\u001b[43m)\u001b[49m\n\u001b[1;32m    271\u001b[0m w, h \u001b[38;5;241m=\u001b[39m font\u001b[38;5;241m.\u001b[39mget_width_height()  \u001b[38;5;66;03m# width and height of unrotated string\u001b[39;00m\n\u001b[1;32m    272\u001b[0m d \u001b[38;5;241m=\u001b[39m font\u001b[38;5;241m.\u001b[39mget_descent()\n",
      "File \u001b[0;32m~/Documents/coquitts/lib/python3.8/site-packages/matplotlib/_text_helpers.py:34\u001b[0m, in \u001b[0;36mwarn_on_missing_glyph\u001b[0;34m(codepoint)\u001b[0m\n\u001b[1;32m     20\u001b[0m block \u001b[38;5;241m=\u001b[39m (\u001b[38;5;124m\"\u001b[39m\u001b[38;5;124mHebrew\u001b[39m\u001b[38;5;124m\"\u001b[39m \u001b[38;5;28;01mif\u001b[39;00m \u001b[38;5;241m0x0590\u001b[39m \u001b[38;5;241m<\u001b[39m\u001b[38;5;241m=\u001b[39m codepoint \u001b[38;5;241m<\u001b[39m\u001b[38;5;241m=\u001b[39m \u001b[38;5;241m0x05ff\u001b[39m \u001b[38;5;28;01melse\u001b[39;00m\n\u001b[1;32m     21\u001b[0m          \u001b[38;5;124m\"\u001b[39m\u001b[38;5;124mArabic\u001b[39m\u001b[38;5;124m\"\u001b[39m \u001b[38;5;28;01mif\u001b[39;00m \u001b[38;5;241m0x0600\u001b[39m \u001b[38;5;241m<\u001b[39m\u001b[38;5;241m=\u001b[39m codepoint \u001b[38;5;241m<\u001b[39m\u001b[38;5;241m=\u001b[39m \u001b[38;5;241m0x06ff\u001b[39m \u001b[38;5;28;01melse\u001b[39;00m\n\u001b[1;32m     22\u001b[0m          \u001b[38;5;124m\"\u001b[39m\u001b[38;5;124mDevanagari\u001b[39m\u001b[38;5;124m\"\u001b[39m \u001b[38;5;28;01mif\u001b[39;00m \u001b[38;5;241m0x0900\u001b[39m \u001b[38;5;241m<\u001b[39m\u001b[38;5;241m=\u001b[39m codepoint \u001b[38;5;241m<\u001b[39m\u001b[38;5;241m=\u001b[39m \u001b[38;5;241m0x097f\u001b[39m \u001b[38;5;28;01melse\u001b[39;00m\n\u001b[0;32m   (...)\u001b[0m\n\u001b[1;32m     31\u001b[0m          \u001b[38;5;124m\"\u001b[39m\u001b[38;5;124mSinhala\u001b[39m\u001b[38;5;124m\"\u001b[39m \u001b[38;5;28;01mif\u001b[39;00m \u001b[38;5;241m0x0d80\u001b[39m \u001b[38;5;241m<\u001b[39m\u001b[38;5;241m=\u001b[39m codepoint \u001b[38;5;241m<\u001b[39m\u001b[38;5;241m=\u001b[39m \u001b[38;5;241m0x0dff\u001b[39m \u001b[38;5;28;01melse\u001b[39;00m\n\u001b[1;32m     32\u001b[0m          \u001b[38;5;28;01mNone\u001b[39;00m)\n\u001b[1;32m     33\u001b[0m \u001b[38;5;28;01mif\u001b[39;00m block:\n\u001b[0;32m---> 34\u001b[0m     \u001b[43m_api\u001b[49m\u001b[38;5;241;43m.\u001b[39;49m\u001b[43mwarn_external\u001b[49m\u001b[43m(\u001b[49m\n\u001b[1;32m     35\u001b[0m \u001b[43m        \u001b[49m\u001b[38;5;124;43mf\u001b[39;49m\u001b[38;5;124;43m\"\u001b[39;49m\u001b[38;5;124;43mMatplotlib currently does not support \u001b[39;49m\u001b[38;5;132;43;01m{\u001b[39;49;00m\u001b[43mblock\u001b[49m\u001b[38;5;132;43;01m}\u001b[39;49;00m\u001b[38;5;124;43m natively.\u001b[39;49m\u001b[38;5;124;43m\"\u001b[39;49m\u001b[43m)\u001b[49m\n",
      "File \u001b[0;32m~/Documents/coquitts/lib/python3.8/site-packages/matplotlib/_api/__init__.py:294\u001b[0m, in \u001b[0;36mwarn_external\u001b[0;34m(message, category)\u001b[0m\n\u001b[1;32m    291\u001b[0m \u001b[38;5;28;01mif\u001b[39;00m frame \u001b[38;5;129;01mis\u001b[39;00m \u001b[38;5;28;01mNone\u001b[39;00m:\n\u001b[1;32m    292\u001b[0m     \u001b[38;5;66;03m# when called in embedded context may hit frame is None\u001b[39;00m\n\u001b[1;32m    293\u001b[0m     \u001b[38;5;28;01mbreak\u001b[39;00m\n\u001b[0;32m--> 294\u001b[0m \u001b[38;5;28;01mif\u001b[39;00m \u001b[38;5;129;01mnot\u001b[39;00m \u001b[43mre\u001b[49m\u001b[38;5;241;43m.\u001b[39;49m\u001b[43mmatch\u001b[49m\u001b[43m(\u001b[49m\u001b[38;5;124;43mr\u001b[39;49m\u001b[38;5;124;43m\"\u001b[39;49m\u001b[38;5;124;43m\\\u001b[39;49m\u001b[38;5;124;43mA(matplotlib|mpl_toolkits)(\u001b[39;49m\u001b[38;5;124;43m\\\u001b[39;49m\u001b[38;5;124;43mZ|\u001b[39;49m\u001b[38;5;124;43m\\\u001b[39;49m\u001b[38;5;124;43m.(?!tests\u001b[39;49m\u001b[38;5;124;43m\\\u001b[39;49m\u001b[38;5;124;43m.))\u001b[39;49m\u001b[38;5;124;43m\"\u001b[39;49m\u001b[43m,\u001b[49m\n\u001b[1;32m    295\u001b[0m \u001b[43m                \u001b[49m\u001b[38;5;66;43;03m# Work around sphinx-gallery not setting __name__.\u001b[39;49;00m\n\u001b[1;32m    296\u001b[0m \u001b[43m                \u001b[49m\u001b[43mframe\u001b[49m\u001b[38;5;241;43m.\u001b[39;49m\u001b[43mf_globals\u001b[49m\u001b[38;5;241;43m.\u001b[39;49m\u001b[43mget\u001b[49m\u001b[43m(\u001b[49m\u001b[38;5;124;43m\"\u001b[39;49m\u001b[38;5;124;43m__name__\u001b[39;49m\u001b[38;5;124;43m\"\u001b[39;49m\u001b[43m,\u001b[49m\u001b[43m \u001b[49m\u001b[38;5;124;43m\"\u001b[39;49m\u001b[38;5;124;43m\"\u001b[39;49m\u001b[43m)\u001b[49m\u001b[43m)\u001b[49m:\n\u001b[1;32m    297\u001b[0m     \u001b[38;5;28;01mbreak\u001b[39;00m\n\u001b[1;32m    298\u001b[0m frame \u001b[38;5;241m=\u001b[39m frame\u001b[38;5;241m.\u001b[39mf_back\n",
      "File \u001b[0;32m/usr/lib/python3.8/re.py:191\u001b[0m, in \u001b[0;36mmatch\u001b[0;34m(pattern, string, flags)\u001b[0m\n\u001b[1;32m    188\u001b[0m \u001b[38;5;28;01mdef\u001b[39;00m \u001b[38;5;21mmatch\u001b[39m(pattern, string, flags\u001b[38;5;241m=\u001b[39m\u001b[38;5;241m0\u001b[39m):\n\u001b[1;32m    189\u001b[0m     \u001b[38;5;124;03m\"\"\"Try to apply the pattern at the start of the string, returning\u001b[39;00m\n\u001b[1;32m    190\u001b[0m \u001b[38;5;124;03m    a Match object, or None if no match was found.\"\"\"\u001b[39;00m\n\u001b[0;32m--> 191\u001b[0m     \u001b[38;5;28;01mreturn\u001b[39;00m \u001b[43m_compile\u001b[49m\u001b[43m(\u001b[49m\u001b[43mpattern\u001b[49m\u001b[43m,\u001b[49m\u001b[43m \u001b[49m\u001b[43mflags\u001b[49m\u001b[43m)\u001b[49m\u001b[38;5;241m.\u001b[39mmatch(string)\n",
      "File \u001b[0;32m/usr/lib/python3.8/re.py:294\u001b[0m, in \u001b[0;36m_compile\u001b[0;34m(pattern, flags)\u001b[0m\n\u001b[1;32m    292\u001b[0m     flags \u001b[38;5;241m=\u001b[39m flags\u001b[38;5;241m.\u001b[39mvalue\n\u001b[1;32m    293\u001b[0m \u001b[38;5;28;01mtry\u001b[39;00m:\n\u001b[0;32m--> 294\u001b[0m     \u001b[38;5;28;01mreturn\u001b[39;00m \u001b[43m_cache\u001b[49m\u001b[43m[\u001b[49m\u001b[38;5;28;43mtype\u001b[39;49m\u001b[43m(\u001b[49m\u001b[43mpattern\u001b[49m\u001b[43m)\u001b[49m\u001b[43m,\u001b[49m\u001b[43m \u001b[49m\u001b[43mpattern\u001b[49m\u001b[43m,\u001b[49m\u001b[43m \u001b[49m\u001b[43mflags\u001b[49m\u001b[43m]\u001b[49m\n\u001b[1;32m    295\u001b[0m \u001b[38;5;28;01mexcept\u001b[39;00m \u001b[38;5;167;01mKeyError\u001b[39;00m:\n\u001b[1;32m    296\u001b[0m     \u001b[38;5;28;01mpass\u001b[39;00m\n",
      "\u001b[0;31mKeyboardInterrupt\u001b[0m: "
     ]
    }
   ],
   "source": [
    "# fequency bar plot - it takes time!!\n",
    "w_count_df.plot.bar()"
   ]
  },
  {
   "cell_type": "code",
   "execution_count": 30,
   "metadata": {},
   "outputs": [],
   "source": [
    "import torch"
   ]
  },
  {
   "cell_type": "code",
   "execution_count": 31,
   "metadata": {},
   "outputs": [
    {
     "data": {
      "text/plain": [
       "0"
      ]
     },
     "execution_count": 31,
     "metadata": {},
     "output_type": "execute_result"
    }
   ],
   "source": [
    "torch.cuda.current_device()"
   ]
  },
  {
   "cell_type": "code",
   "execution_count": 32,
   "metadata": {},
   "outputs": [
    {
     "data": {
      "text/plain": [
       "<torch.cuda.device at 0x7f8387516370>"
      ]
     },
     "execution_count": 32,
     "metadata": {},
     "output_type": "execute_result"
    }
   ],
   "source": [
    "torch.cuda.device(0)"
   ]
  },
  {
   "cell_type": "code",
   "execution_count": 33,
   "metadata": {},
   "outputs": [
    {
     "data": {
      "text/plain": [
       "1"
      ]
     },
     "execution_count": 33,
     "metadata": {},
     "output_type": "execute_result"
    }
   ],
   "source": [
    "torch.cuda.device_count()"
   ]
  },
  {
   "cell_type": "code",
   "execution_count": 34,
   "metadata": {},
   "outputs": [
    {
     "data": {
      "text/plain": [
       "'NVIDIA GeForce GTX 1050 Ti'"
      ]
     },
     "execution_count": 34,
     "metadata": {},
     "output_type": "execute_result"
    }
   ],
   "source": [
    "torch.cuda.get_device_name(0)"
   ]
  },
  {
   "cell_type": "code",
   "execution_count": 35,
   "metadata": {},
   "outputs": [
    {
     "data": {
      "text/plain": [
       "True"
      ]
     },
     "execution_count": 35,
     "metadata": {},
     "output_type": "execute_result"
    }
   ],
   "source": [
    "torch.cuda.is_available()"
   ]
  },
  {
   "cell_type": "code",
   "execution_count": null,
   "metadata": {},
   "outputs": [],
   "source": []
  }
 ],
 "metadata": {
  "interpreter": {
   "hash": "bb6ee1912669e6e3336729859b4f78533d0b0f58667425ae26be07a17e2ff520"
  },
  "kernelspec": {
   "display_name": "coquitts",
   "language": "python",
   "name": "python3"
  },
  "language_info": {
   "codemirror_mode": {
    "name": "ipython",
    "version": 3
   },
   "file_extension": ".py",
   "mimetype": "text/x-python",
   "name": "python",
   "nbconvert_exporter": "python",
   "pygments_lexer": "ipython3",
   "version": "3.8.10"
  }
 },
 "nbformat": 4,
 "nbformat_minor": 4
}
